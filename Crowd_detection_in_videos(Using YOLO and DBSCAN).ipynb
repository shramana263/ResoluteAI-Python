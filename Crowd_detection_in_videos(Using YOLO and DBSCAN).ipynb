{
  "nbformat": 4,
  "nbformat_minor": 0,
  "metadata": {
    "colab": {
      "provenance": [],
      "authorship_tag": "ABX9TyNBMTYFZ61zFsbjlB9hnKqa",
      "include_colab_link": true
    },
    "kernelspec": {
      "name": "python3",
      "display_name": "Python 3"
    },
    "language_info": {
      "name": "python"
    }
  },
  "cells": [
    {
      "cell_type": "markdown",
      "metadata": {
        "id": "view-in-github",
        "colab_type": "text"
      },
      "source": [
        "<a href=\"https://colab.research.google.com/github/shramana263/ResoluteAI-Python/blob/main/Crowd_detection_in_videos(Using%20YOLO%20and%20DBSCAN).ipynb\" target=\"_parent\"><img src=\"https://colab.research.google.com/assets/colab-badge.svg\" alt=\"Open In Colab\"/></a>"
      ]
    },
    {
      "cell_type": "code",
      "execution_count": null,
      "metadata": {
        "colab": {
          "base_uri": "https://localhost:8080/",
          "height": 400
        },
        "id": "wVMm1I4cem8g",
        "outputId": "01e1c952-6f87-4303-b65c-a77bfc3cb3ee"
      },
      "outputs": [
        {
          "output_type": "error",
          "ename": "ModuleNotFoundError",
          "evalue": "No module named 'yolov5'",
          "traceback": [
            "\u001b[0;31m---------------------------------------------------------------------------\u001b[0m",
            "\u001b[0;31mModuleNotFoundError\u001b[0m                       Traceback (most recent call last)",
            "\u001b[0;32m<ipython-input-2-ec5ba47adf20>\u001b[0m in \u001b[0;36m<cell line: 0>\u001b[0;34m()\u001b[0m\n\u001b[1;32m      5\u001b[0m \u001b[0;32mfrom\u001b[0m \u001b[0mscipy\u001b[0m\u001b[0;34m.\u001b[0m\u001b[0moptimize\u001b[0m \u001b[0;32mimport\u001b[0m \u001b[0mlinear_sum_assignment\u001b[0m\u001b[0;34m\u001b[0m\u001b[0;34m\u001b[0m\u001b[0m\n\u001b[1;32m      6\u001b[0m \u001b[0;32mimport\u001b[0m \u001b[0mtorch\u001b[0m\u001b[0;34m\u001b[0m\u001b[0;34m\u001b[0m\u001b[0m\n\u001b[0;32m----> 7\u001b[0;31m \u001b[0;32mfrom\u001b[0m \u001b[0myolov5\u001b[0m \u001b[0;32mimport\u001b[0m \u001b[0mYOLOv5\u001b[0m\u001b[0;34m\u001b[0m\u001b[0;34m\u001b[0m\u001b[0m\n\u001b[0m\u001b[1;32m      8\u001b[0m \u001b[0;34m\u001b[0m\u001b[0m\n\u001b[1;32m      9\u001b[0m \u001b[0;31m# Initialize YOLOv5 model\u001b[0m\u001b[0;34m\u001b[0m\u001b[0;34m\u001b[0m\u001b[0m\n",
            "\u001b[0;31mModuleNotFoundError\u001b[0m: No module named 'yolov5'",
            "",
            "\u001b[0;31m---------------------------------------------------------------------------\u001b[0;32m\nNOTE: If your import is failing due to a missing package, you can\nmanually install dependencies using either !pip or !apt.\n\nTo view examples of installing some common dependencies, click the\n\"Open Examples\" button below.\n\u001b[0;31m---------------------------------------------------------------------------\u001b[0m\n"
          ],
          "errorDetails": {
            "actions": [
              {
                "action": "open_url",
                "actionText": "Open Examples",
                "url": "/notebooks/snippets/importing_libraries.ipynb"
              }
            ]
          }
        }
      ],
      "source": [
        "import cv2\n",
        "import numpy as np\n",
        "from sklearn.cluster import DBSCAN\n",
        "import pandas as pd\n",
        "from scipy.optimize import linear_sum_assignment\n",
        "import torch\n",
        "from yolov5 import YOLOv5\n",
        "\n",
        "# Initialize YOLOv5 model\n",
        "model = YOLOv5('yolov5s.pt', device='cuda' if torch.cuda.is_available() else 'cpu')\n",
        "\n",
        "# Video capture\n",
        "cap = cv2.VideoCapture('input_video.mp4')\n",
        "frame_width = int(cap.get(cv2.CAP_PROP_FRAME_WIDTH))\n",
        "epsilon = 0.05 * frame_width  # DBSCAN distance threshold\n",
        "min_samples = 3  # Minimum persons for a crowd\n",
        "\n",
        "# Data structures\n",
        "groups = {}  # {group_id: {'frames': [], 'sizes': [], 'consecutive_count': 0, 'last_frame': -1}}\n",
        "next_group_id = 0\n",
        "logs = []  # List to store (frame_number, person_count)\n",
        "\n",
        "frame_number = 0\n",
        "while cap.isOpened():\n",
        "    ret, frame = cap.read()\n",
        "    if not ret:\n",
        "        break\n",
        "\n",
        "    # Detect persons\n",
        "    results = model.predict(frame)\n",
        "    detections = results.pred[0]\n",
        "    person_detections = [d for d in detections if int(d[5]) == 0]  # COCO class 0 is 'person'\n",
        "\n",
        "    # Extract bounding box centers\n",
        "    centers = []\n",
        "    for det in person_detections:\n",
        "        x1, y1, x2, y2 = det[:4].cpu().numpy()\n",
        "        center_x = (x1 + x2) / 2\n",
        "        center_y = (y1 + y2) / 2\n",
        "        centers.append([center_x, center_y])\n",
        "    centers = np.array(centers)\n",
        "\n",
        "    # Cluster persons using DBSCAN\n",
        "    if len(centers) > 0:\n",
        "        clustering = DBSCAN(eps=epsilon, min_samples=min_samples).fit(centers)\n",
        "        labels = clustering.labels_\n",
        "    else:\n",
        "        labels = []\n",
        "\n",
        "    # Form groups\n",
        "    current_groups = {}\n",
        "    for label in set(labels):\n",
        "        if label == -1:  # Noise points\n",
        "            continue\n",
        "        group_centers = centers[labels == label]\n",
        "        group_size = len(group_centers)\n",
        "        if group_size >= min_samples:\n",
        "            group_center = np.mean(group_centers, axis=0)\n",
        "            current_groups[label] = {'center': group_center, 'size': group_size}\n",
        "\n",
        "    # Match current groups with previous groups\n",
        "    if groups:\n",
        "        prev_group_ids = list(groups.keys())\n",
        "        curr_group_labels = list(current_groups.keys())\n",
        "        cost_matrix = np.zeros((len(prev_group_ids), len(curr_group_labels)))\n",
        "        for i, gid in enumerate(prev_group_ids):\n",
        "            prev_center = groups[gid]['center']\n",
        "            for j, label in enumerate(curr_group_labels):\n",
        "                curr_center = current_groups[label]['center']\n",
        "                cost_matrix[i, j] = np.linalg.norm(prev_center - curr_center)\n",
        "\n",
        "        row_ind, col_ind = linear_sum_assignment(cost_matrix)\n",
        "        matched = {}\n",
        "        for i, j in zip(row_ind, col_ind):\n",
        "            if cost_matrix[i, j] < 2 * epsilon:\n",
        "                matched[curr_group_labels[j]] = prev_group_ids[i]\n",
        "\n",
        "    # Update groups\n",
        "    new_groups = {}\n",
        "    for label in current_groups:\n",
        "        if label in matched:\n",
        "            gid = matched[label]\n",
        "            group = groups[gid]\n",
        "            if frame_number == group['last_frame'] + 1:\n",
        "                group['consecutive_count'] += 1\n",
        "            else:\n",
        "                group['consecutive_count'] = 1\n",
        "            group['frames'].append(frame_number)\n",
        "            group['sizes'].append(current_groups[label]['size'])\n",
        "            group['center'] = current_groups[label]['center']\n",
        "            group['last_frame'] = frame_number\n",
        "            new_groups[gid] = group\n",
        "            if group['consecutive_count'] >= 10:\n",
        "                logs.append({'Frame Number': frame_number, \"Person Count in Crowd\": current_groups[label]['size']})\n",
        "        else:\n",
        "            new_groups[next_group_id] = {\n",
        "                'frames': [frame_number],\n",
        "                'sizes': [current_groups[label]['size']],\n",
        "                'center': current_groups[label]['center'],\n",
        "                'consecutive_count': 1,\n",
        "                'last_frame': frame_number\n",
        "            }\n",
        "            next_group_id += 1\n",
        "    groups = new_groups\n",
        "\n",
        "    frame_number += 1\n",
        "\n",
        "# Save logs to CSV\n",
        "if logs:\n",
        "    df = pd.DataFrame(logs)\n",
        "    df.to_csv('crowd_detection.csv', index=False)\n",
        "\n",
        "cap.release()"
      ]
    },
    {
      "cell_type": "code",
      "source": [
        "!pip install yolov5"
      ],
      "metadata": {
        "colab": {
          "base_uri": "https://localhost:8080/",
          "height": 1000
        },
        "id": "B7HeSGfHe6K-",
        "outputId": "a304fb6c-f10f-4024-dc8d-db730e0b5e33"
      },
      "execution_count": null,
      "outputs": [
        {
          "output_type": "stream",
          "name": "stdout",
          "text": [
            "Collecting yolov5\n",
            "  Downloading yolov5-7.0.14-py37.py38.py39.py310-none-any.whl.metadata (10 kB)\n",
            "Requirement already satisfied: gitpython>=3.1.30 in /usr/local/lib/python3.11/dist-packages (from yolov5) (3.1.44)\n",
            "Requirement already satisfied: matplotlib>=3.3 in /usr/local/lib/python3.11/dist-packages (from yolov5) (3.10.0)\n",
            "Requirement already satisfied: numpy>=1.18.5 in /usr/local/lib/python3.11/dist-packages (from yolov5) (2.0.2)\n",
            "Requirement already satisfied: opencv-python>=4.1.1 in /usr/local/lib/python3.11/dist-packages (from yolov5) (4.11.0.86)\n",
            "Requirement already satisfied: Pillow>=7.1.2 in /usr/local/lib/python3.11/dist-packages (from yolov5) (11.2.1)\n",
            "Requirement already satisfied: psutil in /usr/local/lib/python3.11/dist-packages (from yolov5) (5.9.5)\n",
            "Requirement already satisfied: PyYAML>=5.3.1 in /usr/local/lib/python3.11/dist-packages (from yolov5) (6.0.2)\n",
            "Requirement already satisfied: requests>=2.23.0 in /usr/local/lib/python3.11/dist-packages (from yolov5) (2.32.3)\n",
            "Requirement already satisfied: scipy>=1.4.1 in /usr/local/lib/python3.11/dist-packages (from yolov5) (1.15.3)\n",
            "Collecting thop>=0.1.1 (from yolov5)\n",
            "  Downloading thop-0.1.1.post2209072238-py3-none-any.whl.metadata (2.7 kB)\n",
            "Requirement already satisfied: torch>=1.7.0 in /usr/local/lib/python3.11/dist-packages (from yolov5) (2.6.0+cu124)\n",
            "Requirement already satisfied: torchvision>=0.8.1 in /usr/local/lib/python3.11/dist-packages (from yolov5) (0.21.0+cu124)\n",
            "Requirement already satisfied: tqdm>=4.64.0 in /usr/local/lib/python3.11/dist-packages (from yolov5) (4.67.1)\n",
            "Collecting ultralytics>=8.0.100 (from yolov5)\n",
            "  Downloading ultralytics-8.3.137-py3-none-any.whl.metadata (37 kB)\n",
            "Requirement already satisfied: tensorboard>=2.4.1 in /usr/local/lib/python3.11/dist-packages (from yolov5) (2.18.0)\n",
            "Requirement already satisfied: pandas>=1.1.4 in /usr/local/lib/python3.11/dist-packages (from yolov5) (2.2.2)\n",
            "Requirement already satisfied: seaborn>=0.11.0 in /usr/local/lib/python3.11/dist-packages (from yolov5) (0.13.2)\n",
            "Requirement already satisfied: setuptools>=65.5.1 in /usr/local/lib/python3.11/dist-packages (from yolov5) (75.2.0)\n",
            "Collecting fire (from yolov5)\n",
            "  Downloading fire-0.7.0.tar.gz (87 kB)\n",
            "\u001b[2K     \u001b[90m━━━━━━━━━━━━━━━━━━━━━━━━━━━━━━━━━━━━━━━━\u001b[0m \u001b[32m87.2/87.2 kB\u001b[0m \u001b[31m5.6 MB/s\u001b[0m eta \u001b[36m0:00:00\u001b[0m\n",
            "\u001b[?25h  Preparing metadata (setup.py) ... \u001b[?25l\u001b[?25hdone\n",
            "Collecting boto3>=1.19.1 (from yolov5)\n",
            "  Downloading boto3-1.38.18-py3-none-any.whl.metadata (6.6 kB)\n",
            "Collecting sahi>=0.11.10 (from yolov5)\n",
            "  Downloading sahi-0.11.23-py3-none-any.whl.metadata (17 kB)\n",
            "Collecting huggingface-hub<0.25.0,>=0.12.0 (from yolov5)\n",
            "  Downloading huggingface_hub-0.24.7-py3-none-any.whl.metadata (13 kB)\n",
            "Collecting roboflow>=0.2.29 (from yolov5)\n",
            "  Downloading roboflow-1.1.64-py3-none-any.whl.metadata (9.7 kB)\n",
            "Collecting botocore<1.39.0,>=1.38.18 (from boto3>=1.19.1->yolov5)\n",
            "  Downloading botocore-1.38.18-py3-none-any.whl.metadata (5.7 kB)\n",
            "Collecting jmespath<2.0.0,>=0.7.1 (from boto3>=1.19.1->yolov5)\n",
            "  Downloading jmespath-1.0.1-py3-none-any.whl.metadata (7.6 kB)\n",
            "Collecting s3transfer<0.13.0,>=0.12.0 (from boto3>=1.19.1->yolov5)\n",
            "  Downloading s3transfer-0.12.0-py3-none-any.whl.metadata (1.7 kB)\n",
            "Requirement already satisfied: gitdb<5,>=4.0.1 in /usr/local/lib/python3.11/dist-packages (from gitpython>=3.1.30->yolov5) (4.0.12)\n",
            "Requirement already satisfied: filelock in /usr/local/lib/python3.11/dist-packages (from huggingface-hub<0.25.0,>=0.12.0->yolov5) (3.18.0)\n",
            "Requirement already satisfied: fsspec>=2023.5.0 in /usr/local/lib/python3.11/dist-packages (from huggingface-hub<0.25.0,>=0.12.0->yolov5) (2025.3.2)\n",
            "Requirement already satisfied: packaging>=20.9 in /usr/local/lib/python3.11/dist-packages (from huggingface-hub<0.25.0,>=0.12.0->yolov5) (24.2)\n",
            "Requirement already satisfied: typing-extensions>=3.7.4.3 in /usr/local/lib/python3.11/dist-packages (from huggingface-hub<0.25.0,>=0.12.0->yolov5) (4.13.2)\n",
            "Requirement already satisfied: contourpy>=1.0.1 in /usr/local/lib/python3.11/dist-packages (from matplotlib>=3.3->yolov5) (1.3.2)\n",
            "Requirement already satisfied: cycler>=0.10 in /usr/local/lib/python3.11/dist-packages (from matplotlib>=3.3->yolov5) (0.12.1)\n",
            "Requirement already satisfied: fonttools>=4.22.0 in /usr/local/lib/python3.11/dist-packages (from matplotlib>=3.3->yolov5) (4.58.0)\n",
            "Requirement already satisfied: kiwisolver>=1.3.1 in /usr/local/lib/python3.11/dist-packages (from matplotlib>=3.3->yolov5) (1.4.8)\n",
            "Requirement already satisfied: pyparsing>=2.3.1 in /usr/local/lib/python3.11/dist-packages (from matplotlib>=3.3->yolov5) (3.2.3)\n",
            "Requirement already satisfied: python-dateutil>=2.7 in /usr/local/lib/python3.11/dist-packages (from matplotlib>=3.3->yolov5) (2.9.0.post0)\n",
            "Requirement already satisfied: pytz>=2020.1 in /usr/local/lib/python3.11/dist-packages (from pandas>=1.1.4->yolov5) (2025.2)\n",
            "Requirement already satisfied: tzdata>=2022.7 in /usr/local/lib/python3.11/dist-packages (from pandas>=1.1.4->yolov5) (2025.2)\n",
            "Requirement already satisfied: charset-normalizer<4,>=2 in /usr/local/lib/python3.11/dist-packages (from requests>=2.23.0->yolov5) (3.4.2)\n",
            "Requirement already satisfied: idna<4,>=2.5 in /usr/local/lib/python3.11/dist-packages (from requests>=2.23.0->yolov5) (3.10)\n",
            "Requirement already satisfied: urllib3<3,>=1.21.1 in /usr/local/lib/python3.11/dist-packages (from requests>=2.23.0->yolov5) (2.4.0)\n",
            "Requirement already satisfied: certifi>=2017.4.17 in /usr/local/lib/python3.11/dist-packages (from requests>=2.23.0->yolov5) (2025.4.26)\n",
            "Collecting idna<4,>=2.5 (from requests>=2.23.0->yolov5)\n",
            "  Downloading idna-3.7-py3-none-any.whl.metadata (9.9 kB)\n",
            "Collecting opencv-python-headless==4.10.0.84 (from roboflow>=0.2.29->yolov5)\n",
            "  Downloading opencv_python_headless-4.10.0.84-cp37-abi3-manylinux_2_17_x86_64.manylinux2014_x86_64.whl.metadata (20 kB)\n",
            "Collecting pillow-heif>=0.18.0 (from roboflow>=0.2.29->yolov5)\n",
            "  Downloading pillow_heif-0.22.0-cp311-cp311-manylinux_2_17_x86_64.manylinux2014_x86_64.whl.metadata (9.6 kB)\n",
            "Collecting python-dotenv (from roboflow>=0.2.29->yolov5)\n",
            "  Downloading python_dotenv-1.1.0-py3-none-any.whl.metadata (24 kB)\n",
            "Requirement already satisfied: six in /usr/local/lib/python3.11/dist-packages (from roboflow>=0.2.29->yolov5) (1.17.0)\n",
            "Requirement already satisfied: requests-toolbelt in /usr/local/lib/python3.11/dist-packages (from roboflow>=0.2.29->yolov5) (1.0.0)\n",
            "Collecting filetype (from roboflow>=0.2.29->yolov5)\n",
            "  Downloading filetype-1.2.0-py2.py3-none-any.whl.metadata (6.5 kB)\n",
            "Requirement already satisfied: click in /usr/local/lib/python3.11/dist-packages (from sahi>=0.11.10->yolov5) (8.2.0)\n",
            "Collecting opencv-python>=4.1.1 (from yolov5)\n",
            "  Downloading opencv_python-4.10.0.84-cp37-abi3-manylinux_2_17_x86_64.manylinux2014_x86_64.whl.metadata (20 kB)\n",
            "Collecting pybboxes==0.1.6 (from sahi>=0.11.10->yolov5)\n",
            "  Downloading pybboxes-0.1.6-py3-none-any.whl.metadata (9.9 kB)\n",
            "Requirement already satisfied: shapely>=2.0.0 in /usr/local/lib/python3.11/dist-packages (from sahi>=0.11.10->yolov5) (2.1.0)\n",
            "Collecting terminaltables (from sahi>=0.11.10->yolov5)\n",
            "  Downloading terminaltables-3.1.10-py2.py3-none-any.whl.metadata (3.5 kB)\n",
            "Requirement already satisfied: absl-py>=0.4 in /usr/local/lib/python3.11/dist-packages (from tensorboard>=2.4.1->yolov5) (1.4.0)\n",
            "Requirement already satisfied: grpcio>=1.48.2 in /usr/local/lib/python3.11/dist-packages (from tensorboard>=2.4.1->yolov5) (1.71.0)\n",
            "Requirement already satisfied: markdown>=2.6.8 in /usr/local/lib/python3.11/dist-packages (from tensorboard>=2.4.1->yolov5) (3.8)\n",
            "Requirement already satisfied: protobuf!=4.24.0,>=3.19.6 in /usr/local/lib/python3.11/dist-packages (from tensorboard>=2.4.1->yolov5) (5.29.4)\n",
            "Requirement already satisfied: tensorboard-data-server<0.8.0,>=0.7.0 in /usr/local/lib/python3.11/dist-packages (from tensorboard>=2.4.1->yolov5) (0.7.2)\n",
            "Requirement already satisfied: werkzeug>=1.0.1 in /usr/local/lib/python3.11/dist-packages (from tensorboard>=2.4.1->yolov5) (3.1.3)\n",
            "Requirement already satisfied: networkx in /usr/local/lib/python3.11/dist-packages (from torch>=1.7.0->yolov5) (3.4.2)\n",
            "Requirement already satisfied: jinja2 in /usr/local/lib/python3.11/dist-packages (from torch>=1.7.0->yolov5) (3.1.6)\n",
            "Collecting nvidia-cuda-nvrtc-cu12==12.4.127 (from torch>=1.7.0->yolov5)\n",
            "  Downloading nvidia_cuda_nvrtc_cu12-12.4.127-py3-none-manylinux2014_x86_64.whl.metadata (1.5 kB)\n",
            "Collecting nvidia-cuda-runtime-cu12==12.4.127 (from torch>=1.7.0->yolov5)\n",
            "  Downloading nvidia_cuda_runtime_cu12-12.4.127-py3-none-manylinux2014_x86_64.whl.metadata (1.5 kB)\n",
            "Collecting nvidia-cuda-cupti-cu12==12.4.127 (from torch>=1.7.0->yolov5)\n",
            "  Downloading nvidia_cuda_cupti_cu12-12.4.127-py3-none-manylinux2014_x86_64.whl.metadata (1.6 kB)\n",
            "Collecting nvidia-cudnn-cu12==9.1.0.70 (from torch>=1.7.0->yolov5)\n",
            "  Downloading nvidia_cudnn_cu12-9.1.0.70-py3-none-manylinux2014_x86_64.whl.metadata (1.6 kB)\n",
            "Collecting nvidia-cublas-cu12==12.4.5.8 (from torch>=1.7.0->yolov5)\n",
            "  Downloading nvidia_cublas_cu12-12.4.5.8-py3-none-manylinux2014_x86_64.whl.metadata (1.5 kB)\n",
            "Collecting nvidia-cufft-cu12==11.2.1.3 (from torch>=1.7.0->yolov5)\n",
            "  Downloading nvidia_cufft_cu12-11.2.1.3-py3-none-manylinux2014_x86_64.whl.metadata (1.5 kB)\n",
            "Collecting nvidia-curand-cu12==10.3.5.147 (from torch>=1.7.0->yolov5)\n",
            "  Downloading nvidia_curand_cu12-10.3.5.147-py3-none-manylinux2014_x86_64.whl.metadata (1.5 kB)\n",
            "Collecting nvidia-cusolver-cu12==11.6.1.9 (from torch>=1.7.0->yolov5)\n",
            "  Downloading nvidia_cusolver_cu12-11.6.1.9-py3-none-manylinux2014_x86_64.whl.metadata (1.6 kB)\n",
            "Collecting nvidia-cusparse-cu12==12.3.1.170 (from torch>=1.7.0->yolov5)\n",
            "  Downloading nvidia_cusparse_cu12-12.3.1.170-py3-none-manylinux2014_x86_64.whl.metadata (1.6 kB)\n",
            "Requirement already satisfied: nvidia-cusparselt-cu12==0.6.2 in /usr/local/lib/python3.11/dist-packages (from torch>=1.7.0->yolov5) (0.6.2)\n",
            "Requirement already satisfied: nvidia-nccl-cu12==2.21.5 in /usr/local/lib/python3.11/dist-packages (from torch>=1.7.0->yolov5) (2.21.5)\n",
            "Requirement already satisfied: nvidia-nvtx-cu12==12.4.127 in /usr/local/lib/python3.11/dist-packages (from torch>=1.7.0->yolov5) (12.4.127)\n",
            "Collecting nvidia-nvjitlink-cu12==12.4.127 (from torch>=1.7.0->yolov5)\n",
            "  Downloading nvidia_nvjitlink_cu12-12.4.127-py3-none-manylinux2014_x86_64.whl.metadata (1.5 kB)\n",
            "Requirement already satisfied: triton==3.2.0 in /usr/local/lib/python3.11/dist-packages (from torch>=1.7.0->yolov5) (3.2.0)\n",
            "Requirement already satisfied: sympy==1.13.1 in /usr/local/lib/python3.11/dist-packages (from torch>=1.7.0->yolov5) (1.13.1)\n",
            "Requirement already satisfied: mpmath<1.4,>=1.1.0 in /usr/local/lib/python3.11/dist-packages (from sympy==1.13.1->torch>=1.7.0->yolov5) (1.3.0)\n",
            "Requirement already satisfied: py-cpuinfo in /usr/local/lib/python3.11/dist-packages (from ultralytics>=8.0.100->yolov5) (9.0.0)\n",
            "Collecting ultralytics-thop>=2.0.0 (from ultralytics>=8.0.100->yolov5)\n",
            "  Downloading ultralytics_thop-2.0.14-py3-none-any.whl.metadata (9.4 kB)\n",
            "Requirement already satisfied: termcolor in /usr/local/lib/python3.11/dist-packages (from fire->yolov5) (3.1.0)\n",
            "Requirement already satisfied: smmap<6,>=3.0.1 in /usr/local/lib/python3.11/dist-packages (from gitdb<5,>=4.0.1->gitpython>=3.1.30->yolov5) (5.0.2)\n",
            "Requirement already satisfied: MarkupSafe>=2.1.1 in /usr/local/lib/python3.11/dist-packages (from werkzeug>=1.0.1->tensorboard>=2.4.1->yolov5) (3.0.2)\n",
            "Downloading yolov5-7.0.14-py37.py38.py39.py310-none-any.whl (953 kB)\n",
            "\u001b[2K   \u001b[90m━━━━━━━━━━━━━━━━━━━━━━━━━━━━━━━━━━━━━━━━\u001b[0m \u001b[32m953.5/953.5 kB\u001b[0m \u001b[31m31.7 MB/s\u001b[0m eta \u001b[36m0:00:00\u001b[0m\n",
            "\u001b[?25hDownloading boto3-1.38.18-py3-none-any.whl (139 kB)\n",
            "\u001b[2K   \u001b[90m━━━━━━━━━━━━━━━━━━━━━━━━━━━━━━━━━━━━━━━━\u001b[0m \u001b[32m139.9/139.9 kB\u001b[0m \u001b[31m10.3 MB/s\u001b[0m eta \u001b[36m0:00:00\u001b[0m\n",
            "\u001b[?25hDownloading huggingface_hub-0.24.7-py3-none-any.whl (417 kB)\n",
            "\u001b[2K   \u001b[90m━━━━━━━━━━━━━━━━━━━━━━━━━━━━━━━━━━━━━━━━\u001b[0m \u001b[32m417.5/417.5 kB\u001b[0m \u001b[31m26.5 MB/s\u001b[0m eta \u001b[36m0:00:00\u001b[0m\n",
            "\u001b[?25hDownloading roboflow-1.1.64-py3-none-any.whl (85 kB)\n",
            "\u001b[2K   \u001b[90m━━━━━━━━━━━━━━━━━━━━━━━━━━━━━━━━━━━━━━━━\u001b[0m \u001b[32m85.4/85.4 kB\u001b[0m \u001b[31m6.1 MB/s\u001b[0m eta \u001b[36m0:00:00\u001b[0m\n",
            "\u001b[?25hDownloading idna-3.7-py3-none-any.whl (66 kB)\n",
            "\u001b[2K   \u001b[90m━━━━━━━━━━━━━━━━━━━━━━━━━━━━━━━━━━━━━━━━\u001b[0m \u001b[32m66.8/66.8 kB\u001b[0m \u001b[31m4.8 MB/s\u001b[0m eta \u001b[36m0:00:00\u001b[0m\n",
            "\u001b[?25hDownloading opencv_python_headless-4.10.0.84-cp37-abi3-manylinux_2_17_x86_64.manylinux2014_x86_64.whl (49.9 MB)\n",
            "\u001b[2K   \u001b[90m━━━━━━━━━━━━━━━━━━━━━━━━━━━━━━━━━━━━━━━━\u001b[0m \u001b[32m49.9/49.9 MB\u001b[0m \u001b[31m17.8 MB/s\u001b[0m eta \u001b[36m0:00:00\u001b[0m\n",
            "\u001b[?25hDownloading sahi-0.11.23-py3-none-any.whl (114 kB)\n",
            "\u001b[2K   \u001b[90m━━━━━━━━━━━━━━━━━━━━━━━━━━━━━━━━━━━━━━━━\u001b[0m \u001b[32m114.7/114.7 kB\u001b[0m \u001b[31m6.9 MB/s\u001b[0m eta \u001b[36m0:00:00\u001b[0m\n",
            "\u001b[?25hDownloading pybboxes-0.1.6-py3-none-any.whl (24 kB)\n",
            "Downloading opencv_python-4.10.0.84-cp37-abi3-manylinux_2_17_x86_64.manylinux2014_x86_64.whl (62.5 MB)\n",
            "\u001b[2K   \u001b[90m━━━━━━━━━━━━━━━━━━━━━━━━━━━━━━━━━━━━━━━━\u001b[0m \u001b[32m62.5/62.5 MB\u001b[0m \u001b[31m11.6 MB/s\u001b[0m eta \u001b[36m0:00:00\u001b[0m\n",
            "\u001b[?25hDownloading thop-0.1.1.post2209072238-py3-none-any.whl (15 kB)\n",
            "Downloading nvidia_cublas_cu12-12.4.5.8-py3-none-manylinux2014_x86_64.whl (363.4 MB)\n",
            "\u001b[2K   \u001b[90m━━━━━━━━━━━━━━━━━━━━━━━━━━━━━━━━━━━━━━━━\u001b[0m \u001b[32m363.4/363.4 MB\u001b[0m \u001b[31m1.3 MB/s\u001b[0m eta \u001b[36m0:00:00\u001b[0m\n",
            "\u001b[?25hDownloading nvidia_cuda_cupti_cu12-12.4.127-py3-none-manylinux2014_x86_64.whl (13.8 MB)\n",
            "\u001b[2K   \u001b[90m━━━━━━━━━━━━━━━━━━━━━━━━━━━━━━━━━━━━━━━━\u001b[0m \u001b[32m13.8/13.8 MB\u001b[0m \u001b[31m93.3 MB/s\u001b[0m eta \u001b[36m0:00:00\u001b[0m\n",
            "\u001b[?25hDownloading nvidia_cuda_nvrtc_cu12-12.4.127-py3-none-manylinux2014_x86_64.whl (24.6 MB)\n",
            "\u001b[2K   \u001b[90m━━━━━━━━━━━━━━━━━━━━━━━━━━━━━━━━━━━━━━━━\u001b[0m \u001b[32m24.6/24.6 MB\u001b[0m \u001b[31m68.0 MB/s\u001b[0m eta \u001b[36m0:00:00\u001b[0m\n",
            "\u001b[?25hDownloading nvidia_cuda_runtime_cu12-12.4.127-py3-none-manylinux2014_x86_64.whl (883 kB)\n",
            "\u001b[2K   \u001b[90m━━━━━━━━━━━━━━━━━━━━━━━━━━━━━━━━━━━━━━━━\u001b[0m \u001b[32m883.7/883.7 kB\u001b[0m \u001b[31m43.9 MB/s\u001b[0m eta \u001b[36m0:00:00\u001b[0m\n",
            "\u001b[?25hDownloading nvidia_cudnn_cu12-9.1.0.70-py3-none-manylinux2014_x86_64.whl (664.8 MB)\n",
            "\u001b[2K   \u001b[90m━━━━━━━━━━━━━━━━━━━━━━━━━━━━━━━━━━━━━━━━\u001b[0m \u001b[32m664.8/664.8 MB\u001b[0m \u001b[31m2.8 MB/s\u001b[0m eta \u001b[36m0:00:00\u001b[0m\n",
            "\u001b[?25hDownloading nvidia_cufft_cu12-11.2.1.3-py3-none-manylinux2014_x86_64.whl (211.5 MB)\n",
            "\u001b[2K   \u001b[90m━━━━━━━━━━━━━━━━━━━━━━━━━━━━━━━━━━━━━━━━\u001b[0m \u001b[32m211.5/211.5 MB\u001b[0m \u001b[31m6.0 MB/s\u001b[0m eta \u001b[36m0:00:00\u001b[0m\n",
            "\u001b[?25hDownloading nvidia_curand_cu12-10.3.5.147-py3-none-manylinux2014_x86_64.whl (56.3 MB)\n",
            "\u001b[2K   \u001b[90m━━━━━━━━━━━━━━━━━━━━━━━━━━━━━━━━━━━━━━━━\u001b[0m \u001b[32m56.3/56.3 MB\u001b[0m \u001b[31m11.1 MB/s\u001b[0m eta \u001b[36m0:00:00\u001b[0m\n",
            "\u001b[?25hDownloading nvidia_cusolver_cu12-11.6.1.9-py3-none-manylinux2014_x86_64.whl (127.9 MB)\n",
            "\u001b[2K   \u001b[90m━━━━━━━━━━━━━━━━━━━━━━━━━━━━━━━━━━━━━━━━\u001b[0m \u001b[32m127.9/127.9 MB\u001b[0m \u001b[31m7.8 MB/s\u001b[0m eta \u001b[36m0:00:00\u001b[0m\n",
            "\u001b[?25hDownloading nvidia_cusparse_cu12-12.3.1.170-py3-none-manylinux2014_x86_64.whl (207.5 MB)\n",
            "\u001b[2K   \u001b[90m━━━━━━━━━━━━━━━━━━━━━━━━━━━━━━━━━━━━━━━━\u001b[0m \u001b[32m207.5/207.5 MB\u001b[0m \u001b[31m6.0 MB/s\u001b[0m eta \u001b[36m0:00:00\u001b[0m\n",
            "\u001b[?25hDownloading nvidia_nvjitlink_cu12-12.4.127-py3-none-manylinux2014_x86_64.whl (21.1 MB)\n",
            "\u001b[2K   \u001b[90m━━━━━━━━━━━━━━━━━━━━━━━━━━━━━━━━━━━━━━━━\u001b[0m \u001b[32m21.1/21.1 MB\u001b[0m \u001b[31m60.2 MB/s\u001b[0m eta \u001b[36m0:00:00\u001b[0m\n",
            "\u001b[?25hDownloading ultralytics-8.3.137-py3-none-any.whl (1.0 MB)\n",
            "\u001b[2K   \u001b[90m━━━━━━━━━━━━━━━━━━━━━━━━━━━━━━━━━━━━━━━━\u001b[0m \u001b[32m1.0/1.0 MB\u001b[0m \u001b[31m38.7 MB/s\u001b[0m eta \u001b[36m0:00:00\u001b[0m\n",
            "\u001b[?25hDownloading botocore-1.38.18-py3-none-any.whl (13.6 MB)\n",
            "\u001b[2K   \u001b[90m━━━━━━━━━━━━━━━━━━━━━━━━━━━━━━━━━━━━━━━━\u001b[0m \u001b[32m13.6/13.6 MB\u001b[0m \u001b[31m66.5 MB/s\u001b[0m eta \u001b[36m0:00:00\u001b[0m\n",
            "\u001b[?25hDownloading jmespath-1.0.1-py3-none-any.whl (20 kB)\n",
            "Downloading pillow_heif-0.22.0-cp311-cp311-manylinux_2_17_x86_64.manylinux2014_x86_64.whl (7.8 MB)\n",
            "\u001b[2K   \u001b[90m━━━━━━━━━━━━━━━━━━━━━━━━━━━━━━━━━━━━━━━━\u001b[0m \u001b[32m7.8/7.8 MB\u001b[0m \u001b[31m70.4 MB/s\u001b[0m eta \u001b[36m0:00:00\u001b[0m\n",
            "\u001b[?25hDownloading s3transfer-0.12.0-py3-none-any.whl (84 kB)\n",
            "\u001b[2K   \u001b[90m━━━━━━━━━━━━━━━━━━━━━━━━━━━━━━━━━━━━━━━━\u001b[0m \u001b[32m84.8/84.8 kB\u001b[0m \u001b[31m5.7 MB/s\u001b[0m eta \u001b[36m0:00:00\u001b[0m\n",
            "\u001b[?25hDownloading ultralytics_thop-2.0.14-py3-none-any.whl (26 kB)\n",
            "Downloading filetype-1.2.0-py2.py3-none-any.whl (19 kB)\n",
            "Downloading python_dotenv-1.1.0-py3-none-any.whl (20 kB)\n",
            "Downloading terminaltables-3.1.10-py2.py3-none-any.whl (15 kB)\n",
            "Building wheels for collected packages: fire\n",
            "  Building wheel for fire (setup.py) ... \u001b[?25l\u001b[?25hdone\n",
            "  Created wheel for fire: filename=fire-0.7.0-py3-none-any.whl size=114249 sha256=1875f00c4016d5d39f4c3b19d08681b9597851c55eae812533460c19002f3964\n",
            "  Stored in directory: /root/.cache/pip/wheels/46/54/24/1624fd5b8674eb1188623f7e8e17cdf7c0f6c24b609dfb8a89\n",
            "Successfully built fire\n",
            "Installing collected packages: filetype, terminaltables, python-dotenv, pybboxes, pillow-heif, opencv-python-headless, opencv-python, nvidia-nvjitlink-cu12, nvidia-curand-cu12, nvidia-cufft-cu12, nvidia-cuda-runtime-cu12, nvidia-cuda-nvrtc-cu12, nvidia-cuda-cupti-cu12, nvidia-cublas-cu12, jmespath, idna, fire, nvidia-cusparse-cu12, nvidia-cudnn-cu12, botocore, sahi, s3transfer, nvidia-cusolver-cu12, huggingface-hub, roboflow, boto3, ultralytics-thop, thop, ultralytics, yolov5\n",
            "  Attempting uninstall: opencv-python-headless\n",
            "    Found existing installation: opencv-python-headless 4.11.0.86\n",
            "    Uninstalling opencv-python-headless-4.11.0.86:\n",
            "      Successfully uninstalled opencv-python-headless-4.11.0.86\n",
            "  Attempting uninstall: opencv-python\n",
            "    Found existing installation: opencv-python 4.11.0.86\n",
            "    Uninstalling opencv-python-4.11.0.86:\n",
            "      Successfully uninstalled opencv-python-4.11.0.86\n",
            "  Attempting uninstall: nvidia-nvjitlink-cu12\n",
            "    Found existing installation: nvidia-nvjitlink-cu12 12.5.82\n",
            "    Uninstalling nvidia-nvjitlink-cu12-12.5.82:\n",
            "      Successfully uninstalled nvidia-nvjitlink-cu12-12.5.82\n",
            "  Attempting uninstall: nvidia-curand-cu12\n",
            "    Found existing installation: nvidia-curand-cu12 10.3.6.82\n",
            "    Uninstalling nvidia-curand-cu12-10.3.6.82:\n",
            "      Successfully uninstalled nvidia-curand-cu12-10.3.6.82\n",
            "  Attempting uninstall: nvidia-cufft-cu12\n",
            "    Found existing installation: nvidia-cufft-cu12 11.2.3.61\n",
            "    Uninstalling nvidia-cufft-cu12-11.2.3.61:\n",
            "      Successfully uninstalled nvidia-cufft-cu12-11.2.3.61\n",
            "  Attempting uninstall: nvidia-cuda-runtime-cu12\n",
            "    Found existing installation: nvidia-cuda-runtime-cu12 12.5.82\n",
            "    Uninstalling nvidia-cuda-runtime-cu12-12.5.82:\n",
            "      Successfully uninstalled nvidia-cuda-runtime-cu12-12.5.82\n",
            "  Attempting uninstall: nvidia-cuda-nvrtc-cu12\n",
            "    Found existing installation: nvidia-cuda-nvrtc-cu12 12.5.82\n",
            "    Uninstalling nvidia-cuda-nvrtc-cu12-12.5.82:\n",
            "      Successfully uninstalled nvidia-cuda-nvrtc-cu12-12.5.82\n",
            "  Attempting uninstall: nvidia-cuda-cupti-cu12\n",
            "    Found existing installation: nvidia-cuda-cupti-cu12 12.5.82\n",
            "    Uninstalling nvidia-cuda-cupti-cu12-12.5.82:\n",
            "      Successfully uninstalled nvidia-cuda-cupti-cu12-12.5.82\n",
            "  Attempting uninstall: nvidia-cublas-cu12\n",
            "    Found existing installation: nvidia-cublas-cu12 12.5.3.2\n",
            "    Uninstalling nvidia-cublas-cu12-12.5.3.2:\n",
            "      Successfully uninstalled nvidia-cublas-cu12-12.5.3.2\n",
            "  Attempting uninstall: idna\n",
            "    Found existing installation: idna 3.10\n",
            "    Uninstalling idna-3.10:\n",
            "      Successfully uninstalled idna-3.10\n",
            "  Attempting uninstall: nvidia-cusparse-cu12\n",
            "    Found existing installation: nvidia-cusparse-cu12 12.5.1.3\n",
            "    Uninstalling nvidia-cusparse-cu12-12.5.1.3:\n",
            "      Successfully uninstalled nvidia-cusparse-cu12-12.5.1.3\n",
            "  Attempting uninstall: nvidia-cudnn-cu12\n",
            "    Found existing installation: nvidia-cudnn-cu12 9.3.0.75\n",
            "    Uninstalling nvidia-cudnn-cu12-9.3.0.75:\n",
            "      Successfully uninstalled nvidia-cudnn-cu12-9.3.0.75\n",
            "  Attempting uninstall: nvidia-cusolver-cu12\n",
            "    Found existing installation: nvidia-cusolver-cu12 11.6.3.83\n",
            "    Uninstalling nvidia-cusolver-cu12-11.6.3.83:\n",
            "      Successfully uninstalled nvidia-cusolver-cu12-11.6.3.83\n",
            "  Attempting uninstall: huggingface-hub\n",
            "    Found existing installation: huggingface-hub 0.31.2\n",
            "    Uninstalling huggingface-hub-0.31.2:\n",
            "      Successfully uninstalled huggingface-hub-0.31.2\n",
            "\u001b[31mERROR: pip's dependency resolver does not currently take into account all the packages that are installed. This behaviour is the source of the following dependency conflicts.\n",
            "transformers 4.51.3 requires huggingface-hub<1.0,>=0.30.0, but you have huggingface-hub 0.24.7 which is incompatible.\n",
            "peft 0.15.2 requires huggingface_hub>=0.25.0, but you have huggingface-hub 0.24.7 which is incompatible.\n",
            "diffusers 0.33.1 requires huggingface-hub>=0.27.0, but you have huggingface-hub 0.24.7 which is incompatible.\u001b[0m\u001b[31m\n",
            "\u001b[0mSuccessfully installed boto3-1.38.18 botocore-1.38.18 filetype-1.2.0 fire-0.7.0 huggingface-hub-0.24.7 idna-3.7 jmespath-1.0.1 nvidia-cublas-cu12-12.4.5.8 nvidia-cuda-cupti-cu12-12.4.127 nvidia-cuda-nvrtc-cu12-12.4.127 nvidia-cuda-runtime-cu12-12.4.127 nvidia-cudnn-cu12-9.1.0.70 nvidia-cufft-cu12-11.2.1.3 nvidia-curand-cu12-10.3.5.147 nvidia-cusolver-cu12-11.6.1.9 nvidia-cusparse-cu12-12.3.1.170 nvidia-nvjitlink-cu12-12.4.127 opencv-python-4.10.0.84 opencv-python-headless-4.10.0.84 pillow-heif-0.22.0 pybboxes-0.1.6 python-dotenv-1.1.0 roboflow-1.1.64 s3transfer-0.12.0 sahi-0.11.23 terminaltables-3.1.10 thop-0.1.1.post2209072238 ultralytics-8.3.137 ultralytics-thop-2.0.14 yolov5-7.0.14\n"
          ]
        },
        {
          "output_type": "display_data",
          "data": {
            "application/vnd.colab-display-data+json": {
              "pip_warning": {
                "packages": [
                  "cv2"
                ]
              },
              "id": "d5c11b8ba4c84f6da8291c18721d23a3"
            }
          },
          "metadata": {}
        }
      ]
    },
    {
      "cell_type": "code",
      "source": [
        "import cv2\n",
        "import numpy as np\n",
        "from sklearn.cluster import DBSCAN\n",
        "import pandas as pd\n",
        "from scipy.optimize import linear_sum_assignment\n",
        "import torch\n",
        "from yolov5 import YOLOv5\n",
        "import re\n",
        "import warnings\n",
        "from tqdm import tqdm\n",
        "\n",
        "# Suppress YOLOv5 deprecation warnings\n",
        "warnings.filterwarnings(\"ignore\", category=FutureWarning, module=\"yolov5.*\")\n",
        "\n",
        "# Function to get file ID from Google Drive shareable link\n",
        "def get_file_id_from_link(link):\n",
        "    match = re.search(r'/d/(.*?)/view', link)\n",
        "    if match:\n",
        "        return match.group(1)\n",
        "    else:\n",
        "        return None\n",
        "\n",
        "# Function to get direct download URL\n",
        "def get_direct_download_url(file_id):\n",
        "    return f\"https://drive.google.com/uc?export=download&id={file_id}\"\n",
        "\n",
        "# Get user input for Google Drive link\n",
        "user_link = input(\"Please enter the Google Drive shareable link: \")\n",
        "file_id = get_file_id_from_link(user_link)\n",
        "if file_id is None:\n",
        "    print(\"Invalid Google Drive link. Please provide a valid shareable link.\")\n",
        "    exit()\n",
        "\n",
        "direct_url = get_direct_download_url(file_id)\n",
        "\n",
        "# Initialize YOLOv5 model\n",
        "model = YOLOv5('yolov5s.pt', device='cuda' if torch.cuda.is_available() else 'cpu')\n",
        "\n",
        "# Video capture from URL\n",
        "cap = cv2.VideoCapture(direct_url)\n",
        "if not cap.isOpened():\n",
        "    print(\"Error: Could not open video capture. Please ensure the file is accessible and set to 'Anyone with the link'.\")\n",
        "    exit()\n",
        "\n",
        "# Get total frame count for progress bar\n",
        "total_frames = int(cap.get(cv2.CAP_PROP_FRAME_COUNT))\n",
        "frame_width = int(cap.get(cv2.CAP_PROP_FRAME_WIDTH))\n",
        "epsilon = 0.05 * frame_width  # DBSCAN distance threshold\n",
        "min_samples = 3  # Minimum persons for a crowd\n",
        "\n",
        "# Data structures\n",
        "groups = {}  # {group_id: {'frames': [], 'sizes': [], 'consecutive_count': 0, 'last_frame': -1}}\n",
        "next_group_id = 0\n",
        "logs = []  # List to store (frame_number, person_count)\n",
        "\n",
        "frame_number = 0\n",
        "with tqdm(total=total_frames, desc=\"Processing frames\") as pbar:\n",
        "    while cap.isOpened():\n",
        "        ret, frame = cap.read()\n",
        "        if not ret:\n",
        "            print(f\"Debug: Video capture ended at frame {frame_number} (ret=False)\")\n",
        "            break\n",
        "\n",
        "        # Detect persons\n",
        "        results = model.predict(frame)\n",
        "        detections = results.pred[0]\n",
        "        person_detections = [d for d in detections if int(d[5]) == 0]  # COCO class 0 is 'person'\n",
        "        print(f\"Debug: Frame {frame_number} - {len(person_detections)} persons detected\")\n",
        "\n",
        "        # Extract bounding box centers\n",
        "        centers = []\n",
        "        for det in person_detections:\n",
        "            x1, y1, x2, y2 = det[:4].cpu().numpy()\n",
        "            center_x = (x1 + x2) / 2\n",
        "            center_y = (y1 + y2) / 2\n",
        "            centers.append([center_x, center_y])\n",
        "        centers = np.array(centers)\n",
        "\n",
        "        # Cluster persons using DBSCAN\n",
        "        if len(centers) > 0:\n",
        "            clustering = DBSCAN(eps=epsilon, min_samples=min_samples).fit(centers)\n",
        "            labels = clustering.labels_\n",
        "            num_clusters = len(set(labels)) - (1 if -1 in labels else 0)\n",
        "            print(f\"Debug: Frame {frame_number} - {num_clusters} clusters found\")\n",
        "        else:\n",
        "            labels = []\n",
        "            print(f\"Debug: Frame {frame_number} - No clusters (no centers)\")\n",
        "\n",
        "        # Form groups\n",
        "        current_groups = {}\n",
        "        for label in set(labels):\n",
        "            if label == -1:  # Noise points\n",
        "                continue\n",
        "            group_centers = centers[labels == label]\n",
        "            group_size = len(group_centers)\n",
        "            if group_size >= min_samples:\n",
        "                group_center = np.mean(group_centers, axis=0)\n",
        "                current_groups[label] = {'center': group_center, 'size': group_size}\n",
        "\n",
        "        # Match current groups with previous groups\n",
        "        matched = {}\n",
        "        if groups and current_groups:\n",
        "            prev_group_ids = list(groups.keys())\n",
        "            curr_group_labels = list(current_groups.keys())\n",
        "            cost_matrix = np.zeros((len(prev_group_ids), len(curr_group_labels)))\n",
        "            for i, gid in enumerate(prev_group_ids):\n",
        "                prev_center = groups[gid]['center']\n",
        "                for j, label in enumerate(curr_group_labels):\n",
        "                    curr_center = current_groups[label]['center']\n",
        "                    cost_matrix[i, j] = np.linalg.norm(prev_center - curr_center)\n",
        "\n",
        "            row_ind, col_ind = linear_sum_assignment(cost_matrix)\n",
        "            for i, j in zip(row_ind, col_ind):\n",
        "                if cost_matrix[i, j] < 2 * epsilon:\n",
        "                    matched[curr_group_labels[j]] = prev_group_ids[i]\n",
        "\n",
        "        # Update groups\n",
        "        new_groups = {}\n",
        "        for label in current_groups:\n",
        "            if label in matched:\n",
        "                gid = matched[label]\n",
        "                group = groups[gid]\n",
        "                if frame_number == group['last_frame'] + 1:\n",
        "                    group['consecutive_count'] += 1\n",
        "                else:\n",
        "                    group['consecutive_count'] = 1\n",
        "                group['frames'].append(frame_number)\n",
        "                group['sizes'].append(current_groups[label]['size'])\n",
        "                group['center'] = current_groups[label]['center']\n",
        "                group['last_frame'] = frame_number\n",
        "                new_groups[gid] = group\n",
        "                if group['consecutive_count'] >= 10:\n",
        "                    logs.append({'Frame Number': frame_number, \"Person Count in Crowd\": current_groups[label]['size']})\n",
        "                    print(f\"Debug: Frame {frame_number} - Crowd detected (size: {current_groups[label]['size']})\")\n",
        "            else:\n",
        "                new_groups[next_group_id] = {\n",
        "                    'frames': [frame_number],\n",
        "                    'sizes': [current_groups[label]['size']],\n",
        "                    'center': current_groups[label]['center'],\n",
        "                    'consecutive_count': 1,\n",
        "                    'last_frame': frame_number\n",
        "                }\n",
        "                next_group_id += 1\n",
        "        groups = new_groups\n",
        "\n",
        "        frame_number += 1\n",
        "        pbar.update(1)\n",
        "\n",
        "# Save logs to CSV\n",
        "if logs:\n",
        "    df = pd.DataFrame(logs)\n",
        "    df.to_csv('crowd_detection.csv', index=False)\n",
        "    print(\"Debug: CSV file 'crowd_detection.csv' generated with crowd detections\")\n",
        "else:\n",
        "    # Write empty CSV with headers\n",
        "    df = pd.DataFrame(columns=['Frame Number', 'Person Count in Crowd'])\n",
        "    df.to_csv('crowd_detection.csv', index=False)\n",
        "    print(\"Debug: No crowds detected; empty CSV file 'crowd_detection.csv' generated\")\n",
        "\n",
        "cap.release()\n",
        "print(\"Debug: Script completed processing\")\n",
        "\n",
        "#sample link:\n",
        "#with crowd- https://drive.google.com/file/d/1uY-eQOvFgmwnbmvLVRIXxfh1wepK4OdF/view?usp=drive_link\n",
        "#without crowd- https://drive.google.com/file/d/161VKGD6AnjzqmozcOhX6mu2RBRhXS9XO/view?usp=sharing"
      ],
      "metadata": {
        "colab": {
          "base_uri": "https://localhost:8080/"
        },
        "id": "6jIpZNYVfyT_",
        "outputId": "8f9cc642-bf95-4057-de5d-ee4e31f2db5e"
      },
      "execution_count": 9,
      "outputs": [
        {
          "name": "stdout",
          "output_type": "stream",
          "text": [
            "Please enter the Google Drive shareable link: https://drive.google.com/file/d/1uY-eQOvFgmwnbmvLVRIXxfh1wepK4OdF/view?usp=drive_link\n"
          ]
        },
        {
          "output_type": "stream",
          "name": "stderr",
          "text": [
            "Processing frames:   0%|          | 1/341 [00:00<02:37,  2.15it/s]"
          ]
        },
        {
          "output_type": "stream",
          "name": "stdout",
          "text": [
            "Debug: Frame 0 - 37 persons detected\n",
            "Debug: Frame 0 - 3 clusters found\n"
          ]
        },
        {
          "output_type": "stream",
          "name": "stderr",
          "text": [
            "\rProcessing frames:   1%|          | 2/341 [00:00<02:21,  2.39it/s]"
          ]
        },
        {
          "output_type": "stream",
          "name": "stdout",
          "text": [
            "Debug: Frame 1 - 38 persons detected\n",
            "Debug: Frame 1 - 3 clusters found\n"
          ]
        },
        {
          "output_type": "stream",
          "name": "stderr",
          "text": [
            "\rProcessing frames:   1%|          | 3/341 [00:01<02:07,  2.66it/s]"
          ]
        },
        {
          "output_type": "stream",
          "name": "stdout",
          "text": [
            "Debug: Frame 2 - 39 persons detected\n",
            "Debug: Frame 2 - 3 clusters found\n"
          ]
        },
        {
          "output_type": "stream",
          "name": "stderr",
          "text": [
            "\rProcessing frames:   1%|          | 4/341 [00:01<01:57,  2.86it/s]"
          ]
        },
        {
          "output_type": "stream",
          "name": "stdout",
          "text": [
            "Debug: Frame 3 - 39 persons detected\n",
            "Debug: Frame 3 - 3 clusters found\n"
          ]
        },
        {
          "output_type": "stream",
          "name": "stderr",
          "text": [
            "\rProcessing frames:   1%|▏         | 5/341 [00:01<01:50,  3.05it/s]"
          ]
        },
        {
          "output_type": "stream",
          "name": "stdout",
          "text": [
            "Debug: Frame 4 - 38 persons detected\n",
            "Debug: Frame 4 - 3 clusters found\n"
          ]
        },
        {
          "output_type": "stream",
          "name": "stderr",
          "text": [
            "\rProcessing frames:   2%|▏         | 6/341 [00:02<01:46,  3.15it/s]"
          ]
        },
        {
          "output_type": "stream",
          "name": "stdout",
          "text": [
            "Debug: Frame 5 - 38 persons detected\n",
            "Debug: Frame 5 - 3 clusters found\n"
          ]
        },
        {
          "output_type": "stream",
          "name": "stderr",
          "text": [
            "\rProcessing frames:   2%|▏         | 7/341 [00:02<01:44,  3.20it/s]"
          ]
        },
        {
          "output_type": "stream",
          "name": "stdout",
          "text": [
            "Debug: Frame 6 - 39 persons detected\n",
            "Debug: Frame 6 - 3 clusters found\n"
          ]
        },
        {
          "output_type": "stream",
          "name": "stderr",
          "text": [
            "\rProcessing frames:   2%|▏         | 8/341 [00:02<01:42,  3.26it/s]"
          ]
        },
        {
          "output_type": "stream",
          "name": "stdout",
          "text": [
            "Debug: Frame 7 - 39 persons detected\n",
            "Debug: Frame 7 - 3 clusters found\n"
          ]
        },
        {
          "output_type": "stream",
          "name": "stderr",
          "text": [
            "\rProcessing frames:   3%|▎         | 9/341 [00:02<01:41,  3.27it/s]"
          ]
        },
        {
          "output_type": "stream",
          "name": "stdout",
          "text": [
            "Debug: Frame 8 - 38 persons detected\n",
            "Debug: Frame 8 - 3 clusters found\n"
          ]
        },
        {
          "output_type": "stream",
          "name": "stderr",
          "text": [
            "\rProcessing frames:   3%|▎         | 10/341 [00:03<01:42,  3.23it/s]"
          ]
        },
        {
          "output_type": "stream",
          "name": "stdout",
          "text": [
            "Debug: Frame 9 - 38 persons detected\n",
            "Debug: Frame 9 - 3 clusters found\n",
            "Debug: Frame 9 - Crowd detected (size: 5)\n",
            "Debug: Frame 9 - Crowd detected (size: 3)\n",
            "Debug: Frame 9 - Crowd detected (size: 3)\n"
          ]
        },
        {
          "output_type": "stream",
          "name": "stderr",
          "text": [
            "\rProcessing frames:   3%|▎         | 11/341 [00:03<02:01,  2.72it/s]"
          ]
        },
        {
          "output_type": "stream",
          "name": "stdout",
          "text": [
            "Debug: Frame 10 - 38 persons detected\n",
            "Debug: Frame 10 - 3 clusters found\n",
            "Debug: Frame 10 - Crowd detected (size: 5)\n",
            "Debug: Frame 10 - Crowd detected (size: 3)\n",
            "Debug: Frame 10 - Crowd detected (size: 3)\n"
          ]
        },
        {
          "output_type": "stream",
          "name": "stderr",
          "text": [
            "\rProcessing frames:   4%|▎         | 12/341 [00:04<02:10,  2.51it/s]"
          ]
        },
        {
          "output_type": "stream",
          "name": "stdout",
          "text": [
            "Debug: Frame 11 - 38 persons detected\n",
            "Debug: Frame 11 - 3 clusters found\n",
            "Debug: Frame 11 - Crowd detected (size: 5)\n",
            "Debug: Frame 11 - Crowd detected (size: 3)\n",
            "Debug: Frame 11 - Crowd detected (size: 3)\n"
          ]
        },
        {
          "output_type": "stream",
          "name": "stderr",
          "text": [
            "\rProcessing frames:   4%|▍         | 13/341 [00:04<02:19,  2.34it/s]"
          ]
        },
        {
          "output_type": "stream",
          "name": "stdout",
          "text": [
            "Debug: Frame 12 - 38 persons detected\n",
            "Debug: Frame 12 - 3 clusters found\n",
            "Debug: Frame 12 - Crowd detected (size: 5)\n",
            "Debug: Frame 12 - Crowd detected (size: 3)\n",
            "Debug: Frame 12 - Crowd detected (size: 3)\n"
          ]
        },
        {
          "output_type": "stream",
          "name": "stderr",
          "text": [
            "\rProcessing frames:   4%|▍         | 14/341 [00:05<02:23,  2.27it/s]"
          ]
        },
        {
          "output_type": "stream",
          "name": "stdout",
          "text": [
            "Debug: Frame 13 - 37 persons detected\n",
            "Debug: Frame 13 - 3 clusters found\n",
            "Debug: Frame 13 - Crowd detected (size: 4)\n",
            "Debug: Frame 13 - Crowd detected (size: 3)\n",
            "Debug: Frame 13 - Crowd detected (size: 3)\n"
          ]
        },
        {
          "output_type": "stream",
          "name": "stderr",
          "text": [
            "\rProcessing frames:   4%|▍         | 15/341 [00:05<02:29,  2.17it/s]"
          ]
        },
        {
          "output_type": "stream",
          "name": "stdout",
          "text": [
            "Debug: Frame 14 - 37 persons detected\n",
            "Debug: Frame 14 - 3 clusters found\n",
            "Debug: Frame 14 - Crowd detected (size: 4)\n",
            "Debug: Frame 14 - Crowd detected (size: 3)\n",
            "Debug: Frame 14 - Crowd detected (size: 3)\n"
          ]
        },
        {
          "output_type": "stream",
          "name": "stderr",
          "text": [
            "\rProcessing frames:   5%|▍         | 16/341 [00:06<02:29,  2.18it/s]"
          ]
        },
        {
          "output_type": "stream",
          "name": "stdout",
          "text": [
            "Debug: Frame 15 - 36 persons detected\n",
            "Debug: Frame 15 - 3 clusters found\n",
            "Debug: Frame 15 - Crowd detected (size: 4)\n",
            "Debug: Frame 15 - Crowd detected (size: 3)\n",
            "Debug: Frame 15 - Crowd detected (size: 3)\n"
          ]
        },
        {
          "output_type": "stream",
          "name": "stderr",
          "text": [
            "\rProcessing frames:   5%|▍         | 17/341 [00:06<02:13,  2.44it/s]"
          ]
        },
        {
          "output_type": "stream",
          "name": "stdout",
          "text": [
            "Debug: Frame 16 - 36 persons detected\n",
            "Debug: Frame 16 - 3 clusters found\n",
            "Debug: Frame 16 - Crowd detected (size: 3)\n",
            "Debug: Frame 16 - Crowd detected (size: 4)\n",
            "Debug: Frame 16 - Crowd detected (size: 3)\n"
          ]
        },
        {
          "output_type": "stream",
          "name": "stderr",
          "text": [
            "\rProcessing frames:   5%|▌         | 18/341 [00:06<02:02,  2.63it/s]"
          ]
        },
        {
          "output_type": "stream",
          "name": "stdout",
          "text": [
            "Debug: Frame 17 - 38 persons detected\n",
            "Debug: Frame 17 - 3 clusters found\n",
            "Debug: Frame 17 - Crowd detected (size: 5)\n",
            "Debug: Frame 17 - Crowd detected (size: 3)\n",
            "Debug: Frame 17 - Crowd detected (size: 3)\n"
          ]
        },
        {
          "output_type": "stream",
          "name": "stderr",
          "text": [
            "\rProcessing frames:   6%|▌         | 19/341 [00:07<01:56,  2.76it/s]"
          ]
        },
        {
          "output_type": "stream",
          "name": "stdout",
          "text": [
            "Debug: Frame 18 - 39 persons detected\n",
            "Debug: Frame 18 - 3 clusters found\n",
            "Debug: Frame 18 - Crowd detected (size: 4)\n",
            "Debug: Frame 18 - Crowd detected (size: 3)\n",
            "Debug: Frame 18 - Crowd detected (size: 3)\n"
          ]
        },
        {
          "output_type": "stream",
          "name": "stderr",
          "text": [
            "\rProcessing frames:   6%|▌         | 20/341 [00:07<01:51,  2.88it/s]"
          ]
        },
        {
          "output_type": "stream",
          "name": "stdout",
          "text": [
            "Debug: Frame 19 - 39 persons detected\n",
            "Debug: Frame 19 - 3 clusters found\n",
            "Debug: Frame 19 - Crowd detected (size: 4)\n",
            "Debug: Frame 19 - Crowd detected (size: 4)\n",
            "Debug: Frame 19 - Crowd detected (size: 3)\n"
          ]
        },
        {
          "output_type": "stream",
          "name": "stderr",
          "text": [
            "\rProcessing frames:   6%|▌         | 21/341 [00:07<01:49,  2.92it/s]"
          ]
        },
        {
          "output_type": "stream",
          "name": "stdout",
          "text": [
            "Debug: Frame 20 - 39 persons detected\n",
            "Debug: Frame 20 - 3 clusters found\n",
            "Debug: Frame 20 - Crowd detected (size: 4)\n",
            "Debug: Frame 20 - Crowd detected (size: 3)\n",
            "Debug: Frame 20 - Crowd detected (size: 3)\n"
          ]
        },
        {
          "output_type": "stream",
          "name": "stderr",
          "text": [
            "\rProcessing frames:   6%|▋         | 22/341 [00:08<01:48,  2.93it/s]"
          ]
        },
        {
          "output_type": "stream",
          "name": "stdout",
          "text": [
            "Debug: Frame 21 - 38 persons detected\n",
            "Debug: Frame 21 - 4 clusters found\n",
            "Debug: Frame 21 - Crowd detected (size: 3)\n",
            "Debug: Frame 21 - Crowd detected (size: 3)\n",
            "Debug: Frame 21 - Crowd detected (size: 3)\n"
          ]
        },
        {
          "output_type": "stream",
          "name": "stderr",
          "text": [
            "\rProcessing frames:   7%|▋         | 23/341 [00:08<01:47,  2.95it/s]"
          ]
        },
        {
          "output_type": "stream",
          "name": "stdout",
          "text": [
            "Debug: Frame 22 - 37 persons detected\n",
            "Debug: Frame 22 - 3 clusters found\n",
            "Debug: Frame 22 - Crowd detected (size: 3)\n",
            "Debug: Frame 22 - Crowd detected (size: 3)\n"
          ]
        },
        {
          "output_type": "stream",
          "name": "stderr",
          "text": [
            "\rProcessing frames:   7%|▋         | 24/341 [00:08<01:48,  2.92it/s]"
          ]
        },
        {
          "output_type": "stream",
          "name": "stdout",
          "text": [
            "Debug: Frame 23 - 36 persons detected\n",
            "Debug: Frame 23 - 4 clusters found\n",
            "Debug: Frame 23 - Crowd detected (size: 3)\n",
            "Debug: Frame 23 - Crowd detected (size: 3)\n"
          ]
        },
        {
          "output_type": "stream",
          "name": "stderr",
          "text": [
            "\rProcessing frames:   7%|▋         | 25/341 [00:09<01:49,  2.89it/s]"
          ]
        },
        {
          "output_type": "stream",
          "name": "stdout",
          "text": [
            "Debug: Frame 24 - 35 persons detected\n",
            "Debug: Frame 24 - 4 clusters found\n",
            "Debug: Frame 24 - Crowd detected (size: 3)\n",
            "Debug: Frame 24 - Crowd detected (size: 3)\n"
          ]
        },
        {
          "output_type": "stream",
          "name": "stderr",
          "text": [
            "\rProcessing frames:   8%|▊         | 26/341 [00:09<01:47,  2.93it/s]"
          ]
        },
        {
          "output_type": "stream",
          "name": "stdout",
          "text": [
            "Debug: Frame 25 - 35 persons detected\n",
            "Debug: Frame 25 - 4 clusters found\n",
            "Debug: Frame 25 - Crowd detected (size: 3)\n",
            "Debug: Frame 25 - Crowd detected (size: 3)\n"
          ]
        },
        {
          "output_type": "stream",
          "name": "stderr",
          "text": [
            "\rProcessing frames:   8%|▊         | 27/341 [00:09<01:47,  2.92it/s]"
          ]
        },
        {
          "output_type": "stream",
          "name": "stdout",
          "text": [
            "Debug: Frame 26 - 36 persons detected\n",
            "Debug: Frame 26 - 5 clusters found\n",
            "Debug: Frame 26 - Crowd detected (size: 3)\n",
            "Debug: Frame 26 - Crowd detected (size: 3)\n"
          ]
        },
        {
          "output_type": "stream",
          "name": "stderr",
          "text": [
            "\rProcessing frames:   8%|▊         | 28/341 [00:10<01:44,  3.00it/s]"
          ]
        },
        {
          "output_type": "stream",
          "name": "stdout",
          "text": [
            "Debug: Frame 27 - 37 persons detected\n",
            "Debug: Frame 27 - 5 clusters found\n",
            "Debug: Frame 27 - Crowd detected (size: 4)\n",
            "Debug: Frame 27 - Crowd detected (size: 3)\n"
          ]
        },
        {
          "output_type": "stream",
          "name": "stderr",
          "text": [
            "\rProcessing frames:   9%|▊         | 29/341 [00:10<01:42,  3.06it/s]"
          ]
        },
        {
          "output_type": "stream",
          "name": "stdout",
          "text": [
            "Debug: Frame 28 - 36 persons detected\n",
            "Debug: Frame 28 - 4 clusters found\n",
            "Debug: Frame 28 - Crowd detected (size: 3)\n",
            "Debug: Frame 28 - Crowd detected (size: 3)\n"
          ]
        },
        {
          "output_type": "stream",
          "name": "stderr",
          "text": [
            "\rProcessing frames:   9%|▉         | 30/341 [00:10<01:41,  3.07it/s]"
          ]
        },
        {
          "output_type": "stream",
          "name": "stdout",
          "text": [
            "Debug: Frame 29 - 36 persons detected\n",
            "Debug: Frame 29 - 4 clusters found\n",
            "Debug: Frame 29 - Crowd detected (size: 3)\n",
            "Debug: Frame 29 - Crowd detected (size: 3)\n"
          ]
        },
        {
          "output_type": "stream",
          "name": "stderr",
          "text": [
            "\rProcessing frames:   9%|▉         | 31/341 [00:11<01:40,  3.07it/s]"
          ]
        },
        {
          "output_type": "stream",
          "name": "stdout",
          "text": [
            "Debug: Frame 30 - 37 persons detected\n",
            "Debug: Frame 30 - 4 clusters found\n",
            "Debug: Frame 30 - Crowd detected (size: 4)\n",
            "Debug: Frame 30 - Crowd detected (size: 3)\n"
          ]
        },
        {
          "output_type": "stream",
          "name": "stderr",
          "text": [
            "\rProcessing frames:   9%|▉         | 32/341 [00:11<01:40,  3.06it/s]"
          ]
        },
        {
          "output_type": "stream",
          "name": "stdout",
          "text": [
            "Debug: Frame 31 - 36 persons detected\n",
            "Debug: Frame 31 - 4 clusters found\n",
            "Debug: Frame 31 - Crowd detected (size: 3)\n",
            "Debug: Frame 31 - Crowd detected (size: 3)\n"
          ]
        },
        {
          "output_type": "stream",
          "name": "stderr",
          "text": [
            "\rProcessing frames:  10%|▉         | 33/341 [00:11<01:40,  3.05it/s]"
          ]
        },
        {
          "output_type": "stream",
          "name": "stdout",
          "text": [
            "Debug: Frame 32 - 36 persons detected\n",
            "Debug: Frame 32 - 5 clusters found\n",
            "Debug: Frame 32 - Crowd detected (size: 3)\n",
            "Debug: Frame 32 - Crowd detected (size: 3)\n"
          ]
        },
        {
          "output_type": "stream",
          "name": "stderr",
          "text": [
            "\rProcessing frames:  10%|▉         | 34/341 [00:12<01:40,  3.04it/s]"
          ]
        },
        {
          "output_type": "stream",
          "name": "stdout",
          "text": [
            "Debug: Frame 33 - 34 persons detected\n",
            "Debug: Frame 33 - 4 clusters found\n",
            "Debug: Frame 33 - Crowd detected (size: 3)\n",
            "Debug: Frame 33 - Crowd detected (size: 3)\n"
          ]
        },
        {
          "output_type": "stream",
          "name": "stderr",
          "text": [
            "\rProcessing frames:  10%|█         | 35/341 [00:12<01:39,  3.07it/s]"
          ]
        },
        {
          "output_type": "stream",
          "name": "stdout",
          "text": [
            "Debug: Frame 34 - 35 persons detected\n",
            "Debug: Frame 34 - 5 clusters found\n",
            "Debug: Frame 34 - Crowd detected (size: 3)\n",
            "Debug: Frame 34 - Crowd detected (size: 3)\n",
            "Debug: Frame 34 - Crowd detected (size: 3)\n"
          ]
        },
        {
          "output_type": "stream",
          "name": "stderr",
          "text": [
            "\rProcessing frames:  11%|█         | 36/341 [00:12<01:38,  3.11it/s]"
          ]
        },
        {
          "output_type": "stream",
          "name": "stdout",
          "text": [
            "Debug: Frame 35 - 35 persons detected\n",
            "Debug: Frame 35 - 5 clusters found\n",
            "Debug: Frame 35 - Crowd detected (size: 3)\n",
            "Debug: Frame 35 - Crowd detected (size: 3)\n",
            "Debug: Frame 35 - Crowd detected (size: 3)\n"
          ]
        },
        {
          "output_type": "stream",
          "name": "stderr",
          "text": [
            "\rProcessing frames:  11%|█         | 37/341 [00:13<01:38,  3.09it/s]"
          ]
        },
        {
          "output_type": "stream",
          "name": "stdout",
          "text": [
            "Debug: Frame 36 - 35 persons detected\n",
            "Debug: Frame 36 - 4 clusters found\n",
            "Debug: Frame 36 - Crowd detected (size: 3)\n",
            "Debug: Frame 36 - Crowd detected (size: 3)\n",
            "Debug: Frame 36 - Crowd detected (size: 3)\n"
          ]
        },
        {
          "output_type": "stream",
          "name": "stderr",
          "text": [
            "\rProcessing frames:  11%|█         | 38/341 [00:13<01:37,  3.10it/s]"
          ]
        },
        {
          "output_type": "stream",
          "name": "stdout",
          "text": [
            "Debug: Frame 37 - 34 persons detected\n",
            "Debug: Frame 37 - 4 clusters found\n",
            "Debug: Frame 37 - Crowd detected (size: 3)\n",
            "Debug: Frame 37 - Crowd detected (size: 3)\n",
            "Debug: Frame 37 - Crowd detected (size: 3)\n"
          ]
        },
        {
          "output_type": "stream",
          "name": "stderr",
          "text": [
            "\rProcessing frames:  11%|█▏        | 39/341 [00:13<01:37,  3.11it/s]"
          ]
        },
        {
          "output_type": "stream",
          "name": "stdout",
          "text": [
            "Debug: Frame 38 - 37 persons detected\n",
            "Debug: Frame 38 - 5 clusters found\n",
            "Debug: Frame 38 - Crowd detected (size: 3)\n",
            "Debug: Frame 38 - Crowd detected (size: 3)\n",
            "Debug: Frame 38 - Crowd detected (size: 3)\n"
          ]
        },
        {
          "output_type": "stream",
          "name": "stderr",
          "text": [
            "\rProcessing frames:  12%|█▏        | 40/341 [00:14<01:38,  3.06it/s]"
          ]
        },
        {
          "output_type": "stream",
          "name": "stdout",
          "text": [
            "Debug: Frame 39 - 34 persons detected\n",
            "Debug: Frame 39 - 3 clusters found\n",
            "Debug: Frame 39 - Crowd detected (size: 3)\n",
            "Debug: Frame 39 - Crowd detected (size: 3)\n"
          ]
        },
        {
          "output_type": "stream",
          "name": "stderr",
          "text": [
            "\rProcessing frames:  12%|█▏        | 41/341 [00:14<01:38,  3.05it/s]"
          ]
        },
        {
          "output_type": "stream",
          "name": "stdout",
          "text": [
            "Debug: Frame 40 - 36 persons detected\n",
            "Debug: Frame 40 - 4 clusters found\n",
            "Debug: Frame 40 - Crowd detected (size: 3)\n",
            "Debug: Frame 40 - Crowd detected (size: 3)\n"
          ]
        },
        {
          "output_type": "stream",
          "name": "stderr",
          "text": [
            "\rProcessing frames:  12%|█▏        | 42/341 [00:14<01:37,  3.08it/s]"
          ]
        },
        {
          "output_type": "stream",
          "name": "stdout",
          "text": [
            "Debug: Frame 41 - 35 persons detected\n",
            "Debug: Frame 41 - 4 clusters found\n",
            "Debug: Frame 41 - Crowd detected (size: 3)\n"
          ]
        },
        {
          "output_type": "stream",
          "name": "stderr",
          "text": [
            "\rProcessing frames:  13%|█▎        | 43/341 [00:14<01:37,  3.06it/s]"
          ]
        },
        {
          "output_type": "stream",
          "name": "stdout",
          "text": [
            "Debug: Frame 42 - 35 persons detected\n",
            "Debug: Frame 42 - 2 clusters found\n",
            "Debug: Frame 42 - Crowd detected (size: 3)\n"
          ]
        },
        {
          "output_type": "stream",
          "name": "stderr",
          "text": [
            "\rProcessing frames:  13%|█▎        | 44/341 [00:15<01:33,  3.17it/s]"
          ]
        },
        {
          "output_type": "stream",
          "name": "stdout",
          "text": [
            "Debug: Frame 43 - 36 persons detected\n",
            "Debug: Frame 43 - 4 clusters found\n",
            "Debug: Frame 43 - Crowd detected (size: 3)\n"
          ]
        },
        {
          "output_type": "stream",
          "name": "stderr",
          "text": [
            "\rProcessing frames:  13%|█▎        | 45/341 [00:15<01:30,  3.27it/s]"
          ]
        },
        {
          "output_type": "stream",
          "name": "stdout",
          "text": [
            "Debug: Frame 44 - 36 persons detected\n",
            "Debug: Frame 44 - 3 clusters found\n",
            "Debug: Frame 44 - Crowd detected (size: 3)\n"
          ]
        },
        {
          "output_type": "stream",
          "name": "stderr",
          "text": [
            "\rProcessing frames:  13%|█▎        | 46/341 [00:15<01:28,  3.34it/s]"
          ]
        },
        {
          "output_type": "stream",
          "name": "stdout",
          "text": [
            "Debug: Frame 45 - 37 persons detected\n",
            "Debug: Frame 45 - 4 clusters found\n",
            "Debug: Frame 45 - Crowd detected (size: 3)\n"
          ]
        },
        {
          "output_type": "stream",
          "name": "stderr",
          "text": [
            "\rProcessing frames:  14%|█▍        | 47/341 [00:16<01:29,  3.27it/s]"
          ]
        },
        {
          "output_type": "stream",
          "name": "stdout",
          "text": [
            "Debug: Frame 46 - 37 persons detected\n",
            "Debug: Frame 46 - 5 clusters found\n",
            "Debug: Frame 46 - Crowd detected (size: 3)\n",
            "Debug: Frame 46 - Crowd detected (size: 3)\n"
          ]
        },
        {
          "output_type": "stream",
          "name": "stderr",
          "text": [
            "\rProcessing frames:  14%|█▍        | 48/341 [00:16<01:42,  2.85it/s]"
          ]
        },
        {
          "output_type": "stream",
          "name": "stdout",
          "text": [
            "Debug: Frame 47 - 41 persons detected\n",
            "Debug: Frame 47 - 5 clusters found\n",
            "Debug: Frame 47 - Crowd detected (size: 3)\n"
          ]
        },
        {
          "output_type": "stream",
          "name": "stderr",
          "text": [
            "\rProcessing frames:  14%|█▍        | 49/341 [00:17<01:56,  2.51it/s]"
          ]
        },
        {
          "output_type": "stream",
          "name": "stdout",
          "text": [
            "Debug: Frame 48 - 38 persons detected\n",
            "Debug: Frame 48 - 4 clusters found\n",
            "Debug: Frame 48 - Crowd detected (size: 3)\n"
          ]
        },
        {
          "output_type": "stream",
          "name": "stderr",
          "text": [
            "\rProcessing frames:  15%|█▍        | 50/341 [00:17<02:04,  2.34it/s]"
          ]
        },
        {
          "output_type": "stream",
          "name": "stdout",
          "text": [
            "Debug: Frame 49 - 38 persons detected\n",
            "Debug: Frame 49 - 4 clusters found\n",
            "Debug: Frame 49 - Crowd detected (size: 3)\n"
          ]
        },
        {
          "output_type": "stream",
          "name": "stderr",
          "text": [
            "\rProcessing frames:  15%|█▍        | 51/341 [00:18<02:08,  2.26it/s]"
          ]
        },
        {
          "output_type": "stream",
          "name": "stdout",
          "text": [
            "Debug: Frame 50 - 39 persons detected\n",
            "Debug: Frame 50 - 5 clusters found\n",
            "Debug: Frame 50 - Crowd detected (size: 3)\n"
          ]
        },
        {
          "output_type": "stream",
          "name": "stderr",
          "text": [
            "\rProcessing frames:  15%|█▌        | 52/341 [00:18<02:14,  2.15it/s]"
          ]
        },
        {
          "output_type": "stream",
          "name": "stdout",
          "text": [
            "Debug: Frame 51 - 39 persons detected\n",
            "Debug: Frame 51 - 5 clusters found\n",
            "Debug: Frame 51 - Crowd detected (size: 3)\n"
          ]
        },
        {
          "output_type": "stream",
          "name": "stderr",
          "text": [
            "\rProcessing frames:  16%|█▌        | 53/341 [00:19<02:14,  2.14it/s]"
          ]
        },
        {
          "output_type": "stream",
          "name": "stdout",
          "text": [
            "Debug: Frame 52 - 39 persons detected\n",
            "Debug: Frame 52 - 4 clusters found\n",
            "Debug: Frame 52 - Crowd detected (size: 3)\n",
            "Debug: Frame 52 - Crowd detected (size: 3)\n"
          ]
        },
        {
          "output_type": "stream",
          "name": "stderr",
          "text": [
            "\rProcessing frames:  16%|█▌        | 54/341 [00:19<02:01,  2.36it/s]"
          ]
        },
        {
          "output_type": "stream",
          "name": "stdout",
          "text": [
            "Debug: Frame 53 - 39 persons detected\n",
            "Debug: Frame 53 - 5 clusters found\n",
            "Debug: Frame 53 - Crowd detected (size: 4)\n",
            "Debug: Frame 53 - Crowd detected (size: 3)\n"
          ]
        },
        {
          "output_type": "stream",
          "name": "stderr",
          "text": [
            "\rProcessing frames:  16%|█▌        | 55/341 [00:19<01:52,  2.55it/s]"
          ]
        },
        {
          "output_type": "stream",
          "name": "stdout",
          "text": [
            "Debug: Frame 54 - 39 persons detected\n",
            "Debug: Frame 54 - 4 clusters found\n",
            "Debug: Frame 54 - Crowd detected (size: 4)\n"
          ]
        },
        {
          "output_type": "stream",
          "name": "stderr",
          "text": [
            "\rProcessing frames:  16%|█▋        | 56/341 [00:20<01:44,  2.72it/s]"
          ]
        },
        {
          "output_type": "stream",
          "name": "stdout",
          "text": [
            "Debug: Frame 55 - 39 persons detected\n",
            "Debug: Frame 55 - 3 clusters found\n",
            "Debug: Frame 55 - Crowd detected (size: 4)\n"
          ]
        },
        {
          "output_type": "stream",
          "name": "stderr",
          "text": [
            "\rProcessing frames:  17%|█▋        | 57/341 [00:20<01:40,  2.81it/s]"
          ]
        },
        {
          "output_type": "stream",
          "name": "stdout",
          "text": [
            "Debug: Frame 56 - 41 persons detected\n",
            "Debug: Frame 56 - 4 clusters found\n",
            "Debug: Frame 56 - Crowd detected (size: 4)\n"
          ]
        },
        {
          "output_type": "stream",
          "name": "stderr",
          "text": [
            "\rProcessing frames:  17%|█▋        | 58/341 [00:20<01:39,  2.84it/s]"
          ]
        },
        {
          "output_type": "stream",
          "name": "stdout",
          "text": [
            "Debug: Frame 57 - 39 persons detected\n",
            "Debug: Frame 57 - 4 clusters found\n",
            "Debug: Frame 57 - Crowd detected (size: 3)\n"
          ]
        },
        {
          "output_type": "stream",
          "name": "stderr",
          "text": [
            "\rProcessing frames:  17%|█▋        | 59/341 [00:21<01:37,  2.90it/s]"
          ]
        },
        {
          "output_type": "stream",
          "name": "stdout",
          "text": [
            "Debug: Frame 58 - 39 persons detected\n",
            "Debug: Frame 58 - 3 clusters found\n",
            "Debug: Frame 58 - Crowd detected (size: 4)\n",
            "Debug: Frame 58 - Crowd detected (size: 3)\n"
          ]
        },
        {
          "output_type": "stream",
          "name": "stderr",
          "text": [
            "\rProcessing frames:  18%|█▊        | 60/341 [00:21<01:36,  2.91it/s]"
          ]
        },
        {
          "output_type": "stream",
          "name": "stdout",
          "text": [
            "Debug: Frame 59 - 40 persons detected\n",
            "Debug: Frame 59 - 4 clusters found\n",
            "Debug: Frame 59 - Crowd detected (size: 3)\n",
            "Debug: Frame 59 - Crowd detected (size: 3)\n"
          ]
        },
        {
          "output_type": "stream",
          "name": "stderr",
          "text": [
            "\rProcessing frames:  18%|█▊        | 61/341 [00:21<01:35,  2.93it/s]"
          ]
        },
        {
          "output_type": "stream",
          "name": "stdout",
          "text": [
            "Debug: Frame 60 - 38 persons detected\n",
            "Debug: Frame 60 - 3 clusters found\n",
            "Debug: Frame 60 - Crowd detected (size: 3)\n"
          ]
        },
        {
          "output_type": "stream",
          "name": "stderr",
          "text": [
            "\rProcessing frames:  18%|█▊        | 62/341 [00:22<01:34,  2.95it/s]"
          ]
        },
        {
          "output_type": "stream",
          "name": "stdout",
          "text": [
            "Debug: Frame 61 - 40 persons detected\n",
            "Debug: Frame 61 - 4 clusters found\n",
            "Debug: Frame 61 - Crowd detected (size: 3)\n"
          ]
        },
        {
          "output_type": "stream",
          "name": "stderr",
          "text": [
            "\rProcessing frames:  18%|█▊        | 63/341 [00:22<01:32,  2.99it/s]"
          ]
        },
        {
          "output_type": "stream",
          "name": "stdout",
          "text": [
            "Debug: Frame 62 - 39 persons detected\n",
            "Debug: Frame 62 - 3 clusters found\n",
            "Debug: Frame 62 - Crowd detected (size: 4)\n"
          ]
        },
        {
          "output_type": "stream",
          "name": "stderr",
          "text": [
            "\rProcessing frames:  19%|█▉        | 64/341 [00:22<01:33,  2.96it/s]"
          ]
        },
        {
          "output_type": "stream",
          "name": "stdout",
          "text": [
            "Debug: Frame 63 - 38 persons detected\n",
            "Debug: Frame 63 - 3 clusters found\n",
            "Debug: Frame 63 - Crowd detected (size: 4)\n"
          ]
        },
        {
          "output_type": "stream",
          "name": "stderr",
          "text": [
            "\rProcessing frames:  19%|█▉        | 65/341 [00:23<01:31,  3.02it/s]"
          ]
        },
        {
          "output_type": "stream",
          "name": "stdout",
          "text": [
            "Debug: Frame 64 - 38 persons detected\n",
            "Debug: Frame 64 - 3 clusters found\n",
            "Debug: Frame 64 - Crowd detected (size: 4)\n"
          ]
        },
        {
          "output_type": "stream",
          "name": "stderr",
          "text": [
            "\rProcessing frames:  19%|█▉        | 66/341 [00:23<01:28,  3.11it/s]"
          ]
        },
        {
          "output_type": "stream",
          "name": "stdout",
          "text": [
            "Debug: Frame 65 - 39 persons detected\n",
            "Debug: Frame 65 - 3 clusters found\n",
            "Debug: Frame 65 - Crowd detected (size: 4)\n",
            "Debug: Frame 65 - Crowd detected (size: 3)\n"
          ]
        },
        {
          "output_type": "stream",
          "name": "stderr",
          "text": [
            "\rProcessing frames:  20%|█▉        | 67/341 [00:23<01:26,  3.16it/s]"
          ]
        },
        {
          "output_type": "stream",
          "name": "stdout",
          "text": [
            "Debug: Frame 66 - 37 persons detected\n",
            "Debug: Frame 66 - 3 clusters found\n",
            "Debug: Frame 66 - Crowd detected (size: 3)\n",
            "Debug: Frame 66 - Crowd detected (size: 3)\n"
          ]
        },
        {
          "output_type": "stream",
          "name": "stderr",
          "text": [
            "\rProcessing frames:  20%|█▉        | 68/341 [00:23<01:23,  3.25it/s]"
          ]
        },
        {
          "output_type": "stream",
          "name": "stdout",
          "text": [
            "Debug: Frame 67 - 37 persons detected\n",
            "Debug: Frame 67 - 2 clusters found\n",
            "Debug: Frame 67 - Crowd detected (size: 3)\n"
          ]
        },
        {
          "output_type": "stream",
          "name": "stderr",
          "text": [
            "\rProcessing frames:  20%|██        | 69/341 [00:24<01:22,  3.30it/s]"
          ]
        },
        {
          "output_type": "stream",
          "name": "stdout",
          "text": [
            "Debug: Frame 68 - 37 persons detected\n",
            "Debug: Frame 68 - 2 clusters found\n",
            "Debug: Frame 68 - Crowd detected (size: 3)\n"
          ]
        },
        {
          "output_type": "stream",
          "name": "stderr",
          "text": [
            "\rProcessing frames:  21%|██        | 70/341 [00:24<01:25,  3.19it/s]"
          ]
        },
        {
          "output_type": "stream",
          "name": "stdout",
          "text": [
            "Debug: Frame 69 - 38 persons detected\n",
            "Debug: Frame 69 - 3 clusters found\n",
            "Debug: Frame 69 - Crowd detected (size: 3)\n"
          ]
        },
        {
          "output_type": "stream",
          "name": "stderr",
          "text": [
            "\rProcessing frames:  21%|██        | 71/341 [00:24<01:25,  3.16it/s]"
          ]
        },
        {
          "output_type": "stream",
          "name": "stdout",
          "text": [
            "Debug: Frame 70 - 39 persons detected\n",
            "Debug: Frame 70 - 3 clusters found\n",
            "Debug: Frame 70 - Crowd detected (size: 5)\n",
            "Debug: Frame 70 - Crowd detected (size: 3)\n"
          ]
        },
        {
          "output_type": "stream",
          "name": "stderr",
          "text": [
            "\rProcessing frames:  21%|██        | 72/341 [00:25<01:26,  3.13it/s]"
          ]
        },
        {
          "output_type": "stream",
          "name": "stdout",
          "text": [
            "Debug: Frame 71 - 40 persons detected\n",
            "Debug: Frame 71 - 2 clusters found\n",
            "Debug: Frame 71 - Crowd detected (size: 5)\n",
            "Debug: Frame 71 - Crowd detected (size: 3)\n"
          ]
        },
        {
          "output_type": "stream",
          "name": "stderr",
          "text": [
            "\rProcessing frames:  21%|██▏       | 73/341 [00:25<01:28,  3.04it/s]"
          ]
        },
        {
          "output_type": "stream",
          "name": "stdout",
          "text": [
            "Debug: Frame 72 - 41 persons detected\n",
            "Debug: Frame 72 - 3 clusters found\n",
            "Debug: Frame 72 - Crowd detected (size: 5)\n",
            "Debug: Frame 72 - Crowd detected (size: 3)\n"
          ]
        },
        {
          "output_type": "stream",
          "name": "stderr",
          "text": [
            "\rProcessing frames:  22%|██▏       | 74/341 [00:25<01:26,  3.08it/s]"
          ]
        },
        {
          "output_type": "stream",
          "name": "stdout",
          "text": [
            "Debug: Frame 73 - 39 persons detected\n",
            "Debug: Frame 73 - 3 clusters found\n",
            "Debug: Frame 73 - Crowd detected (size: 5)\n",
            "Debug: Frame 73 - Crowd detected (size: 3)\n"
          ]
        },
        {
          "output_type": "stream",
          "name": "stderr",
          "text": [
            "\rProcessing frames:  22%|██▏       | 75/341 [00:26<01:25,  3.12it/s]"
          ]
        },
        {
          "output_type": "stream",
          "name": "stdout",
          "text": [
            "Debug: Frame 74 - 42 persons detected\n",
            "Debug: Frame 74 - 3 clusters found\n",
            "Debug: Frame 74 - Crowd detected (size: 5)\n",
            "Debug: Frame 74 - Crowd detected (size: 3)\n"
          ]
        },
        {
          "output_type": "stream",
          "name": "stderr",
          "text": [
            "\rProcessing frames:  22%|██▏       | 76/341 [00:26<01:24,  3.15it/s]"
          ]
        },
        {
          "output_type": "stream",
          "name": "stdout",
          "text": [
            "Debug: Frame 75 - 43 persons detected\n",
            "Debug: Frame 75 - 4 clusters found\n",
            "Debug: Frame 75 - Crowd detected (size: 5)\n",
            "Debug: Frame 75 - Crowd detected (size: 3)\n"
          ]
        },
        {
          "output_type": "stream",
          "name": "stderr",
          "text": [
            "\rProcessing frames:  23%|██▎       | 77/341 [00:26<01:25,  3.10it/s]"
          ]
        },
        {
          "output_type": "stream",
          "name": "stdout",
          "text": [
            "Debug: Frame 76 - 42 persons detected\n",
            "Debug: Frame 76 - 3 clusters found\n",
            "Debug: Frame 76 - Crowd detected (size: 3)\n",
            "Debug: Frame 76 - Crowd detected (size: 5)\n"
          ]
        },
        {
          "output_type": "stream",
          "name": "stderr",
          "text": [
            "\rProcessing frames:  23%|██▎       | 78/341 [00:27<01:23,  3.14it/s]"
          ]
        },
        {
          "output_type": "stream",
          "name": "stdout",
          "text": [
            "Debug: Frame 77 - 42 persons detected\n",
            "Debug: Frame 77 - 3 clusters found\n",
            "Debug: Frame 77 - Crowd detected (size: 3)\n",
            "Debug: Frame 77 - Crowd detected (size: 5)\n"
          ]
        },
        {
          "output_type": "stream",
          "name": "stderr",
          "text": [
            "\rProcessing frames:  23%|██▎       | 79/341 [00:27<01:23,  3.14it/s]"
          ]
        },
        {
          "output_type": "stream",
          "name": "stdout",
          "text": [
            "Debug: Frame 78 - 42 persons detected\n",
            "Debug: Frame 78 - 3 clusters found\n",
            "Debug: Frame 78 - Crowd detected (size: 5)\n",
            "Debug: Frame 78 - Crowd detected (size: 3)\n"
          ]
        },
        {
          "output_type": "stream",
          "name": "stderr",
          "text": [
            "\rProcessing frames:  23%|██▎       | 80/341 [00:27<01:24,  3.10it/s]"
          ]
        },
        {
          "output_type": "stream",
          "name": "stdout",
          "text": [
            "Debug: Frame 79 - 41 persons detected\n",
            "Debug: Frame 79 - 2 clusters found\n",
            "Debug: Frame 79 - Crowd detected (size: 5)\n"
          ]
        },
        {
          "output_type": "stream",
          "name": "stderr",
          "text": [
            "\rProcessing frames:  24%|██▍       | 81/341 [00:28<01:23,  3.11it/s]"
          ]
        },
        {
          "output_type": "stream",
          "name": "stdout",
          "text": [
            "Debug: Frame 80 - 41 persons detected\n",
            "Debug: Frame 80 - 2 clusters found\n",
            "Debug: Frame 80 - Crowd detected (size: 5)\n"
          ]
        },
        {
          "output_type": "stream",
          "name": "stderr",
          "text": [
            "\rProcessing frames:  24%|██▍       | 82/341 [00:28<01:23,  3.10it/s]"
          ]
        },
        {
          "output_type": "stream",
          "name": "stdout",
          "text": [
            "Debug: Frame 81 - 40 persons detected\n",
            "Debug: Frame 81 - 2 clusters found\n",
            "Debug: Frame 81 - Crowd detected (size: 3)\n",
            "Debug: Frame 81 - Crowd detected (size: 5)\n"
          ]
        },
        {
          "output_type": "stream",
          "name": "stderr",
          "text": [
            "\rProcessing frames:  24%|██▍       | 83/341 [00:28<01:24,  3.06it/s]"
          ]
        },
        {
          "output_type": "stream",
          "name": "stdout",
          "text": [
            "Debug: Frame 82 - 41 persons detected\n",
            "Debug: Frame 82 - 2 clusters found\n",
            "Debug: Frame 82 - Crowd detected (size: 5)\n",
            "Debug: Frame 82 - Crowd detected (size: 5)\n"
          ]
        },
        {
          "output_type": "stream",
          "name": "stderr",
          "text": [
            "\rProcessing frames:  25%|██▍       | 84/341 [00:29<01:24,  3.05it/s]"
          ]
        },
        {
          "output_type": "stream",
          "name": "stdout",
          "text": [
            "Debug: Frame 83 - 41 persons detected\n",
            "Debug: Frame 83 - 3 clusters found\n",
            "Debug: Frame 83 - Crowd detected (size: 4)\n",
            "Debug: Frame 83 - Crowd detected (size: 5)\n"
          ]
        },
        {
          "output_type": "stream",
          "name": "stderr",
          "text": [
            "\rProcessing frames:  25%|██▍       | 85/341 [00:29<01:36,  2.64it/s]"
          ]
        },
        {
          "output_type": "stream",
          "name": "stdout",
          "text": [
            "Debug: Frame 84 - 42 persons detected\n",
            "Debug: Frame 84 - 3 clusters found\n",
            "Debug: Frame 84 - Crowd detected (size: 5)\n",
            "Debug: Frame 84 - Crowd detected (size: 3)\n"
          ]
        },
        {
          "output_type": "stream",
          "name": "stderr",
          "text": [
            "\rProcessing frames:  25%|██▌       | 86/341 [00:30<01:46,  2.39it/s]"
          ]
        },
        {
          "output_type": "stream",
          "name": "stdout",
          "text": [
            "Debug: Frame 85 - 40 persons detected\n",
            "Debug: Frame 85 - 3 clusters found\n",
            "Debug: Frame 85 - Crowd detected (size: 3)\n",
            "Debug: Frame 85 - Crowd detected (size: 5)\n"
          ]
        },
        {
          "output_type": "stream",
          "name": "stderr",
          "text": [
            "\rProcessing frames:  26%|██▌       | 87/341 [00:30<01:48,  2.34it/s]"
          ]
        },
        {
          "output_type": "stream",
          "name": "stdout",
          "text": [
            "Debug: Frame 86 - 39 persons detected\n",
            "Debug: Frame 86 - 3 clusters found\n",
            "Debug: Frame 86 - Crowd detected (size: 5)\n",
            "Debug: Frame 86 - Crowd detected (size: 3)\n"
          ]
        },
        {
          "output_type": "stream",
          "name": "stderr",
          "text": [
            "\rProcessing frames:  26%|██▌       | 88/341 [00:31<01:54,  2.21it/s]"
          ]
        },
        {
          "output_type": "stream",
          "name": "stdout",
          "text": [
            "Debug: Frame 87 - 39 persons detected\n",
            "Debug: Frame 87 - 3 clusters found\n",
            "Debug: Frame 87 - Crowd detected (size: 5)\n",
            "Debug: Frame 87 - Crowd detected (size: 3)\n"
          ]
        },
        {
          "output_type": "stream",
          "name": "stderr",
          "text": [
            "\rProcessing frames:  26%|██▌       | 89/341 [00:31<01:55,  2.17it/s]"
          ]
        },
        {
          "output_type": "stream",
          "name": "stdout",
          "text": [
            "Debug: Frame 88 - 39 persons detected\n",
            "Debug: Frame 88 - 3 clusters found\n",
            "Debug: Frame 88 - Crowd detected (size: 3)\n",
            "Debug: Frame 88 - Crowd detected (size: 4)\n"
          ]
        },
        {
          "output_type": "stream",
          "name": "stderr",
          "text": [
            "\rProcessing frames:  26%|██▋       | 90/341 [00:32<01:55,  2.18it/s]"
          ]
        },
        {
          "output_type": "stream",
          "name": "stdout",
          "text": [
            "Debug: Frame 89 - 38 persons detected\n",
            "Debug: Frame 89 - 3 clusters found\n",
            "Debug: Frame 89 - Crowd detected (size: 3)\n",
            "Debug: Frame 89 - Crowd detected (size: 4)\n"
          ]
        },
        {
          "output_type": "stream",
          "name": "stderr",
          "text": [
            "\rProcessing frames:  27%|██▋       | 91/341 [00:32<01:43,  2.42it/s]"
          ]
        },
        {
          "output_type": "stream",
          "name": "stdout",
          "text": [
            "Debug: Frame 90 - 37 persons detected\n",
            "Debug: Frame 90 - 2 clusters found\n",
            "Debug: Frame 90 - Crowd detected (size: 3)\n",
            "Debug: Frame 90 - Crowd detected (size: 4)\n"
          ]
        },
        {
          "output_type": "stream",
          "name": "stderr",
          "text": [
            "\rProcessing frames:  27%|██▋       | 92/341 [00:32<01:35,  2.60it/s]"
          ]
        },
        {
          "output_type": "stream",
          "name": "stdout",
          "text": [
            "Debug: Frame 91 - 38 persons detected\n",
            "Debug: Frame 91 - 3 clusters found\n",
            "Debug: Frame 91 - Crowd detected (size: 3)\n",
            "Debug: Frame 91 - Crowd detected (size: 4)\n"
          ]
        },
        {
          "output_type": "stream",
          "name": "stderr",
          "text": [
            "\rProcessing frames:  27%|██▋       | 93/341 [00:32<01:30,  2.75it/s]"
          ]
        },
        {
          "output_type": "stream",
          "name": "stdout",
          "text": [
            "Debug: Frame 92 - 37 persons detected\n",
            "Debug: Frame 92 - 2 clusters found\n",
            "Debug: Frame 92 - Crowd detected (size: 3)\n",
            "Debug: Frame 92 - Crowd detected (size: 4)\n"
          ]
        },
        {
          "output_type": "stream",
          "name": "stderr",
          "text": [
            "\rProcessing frames:  28%|██▊       | 94/341 [00:33<01:27,  2.82it/s]"
          ]
        },
        {
          "output_type": "stream",
          "name": "stdout",
          "text": [
            "Debug: Frame 93 - 40 persons detected\n",
            "Debug: Frame 93 - 4 clusters found\n",
            "Debug: Frame 93 - Crowd detected (size: 3)\n",
            "Debug: Frame 93 - Crowd detected (size: 4)\n"
          ]
        },
        {
          "output_type": "stream",
          "name": "stderr",
          "text": [
            "\rProcessing frames:  28%|██▊       | 95/341 [00:33<01:24,  2.91it/s]"
          ]
        },
        {
          "output_type": "stream",
          "name": "stdout",
          "text": [
            "Debug: Frame 94 - 37 persons detected\n",
            "Debug: Frame 94 - 3 clusters found\n",
            "Debug: Frame 94 - Crowd detected (size: 3)\n",
            "Debug: Frame 94 - Crowd detected (size: 4)\n"
          ]
        },
        {
          "output_type": "stream",
          "name": "stderr",
          "text": [
            "\rProcessing frames:  28%|██▊       | 96/341 [00:33<01:22,  2.96it/s]"
          ]
        },
        {
          "output_type": "stream",
          "name": "stdout",
          "text": [
            "Debug: Frame 95 - 36 persons detected\n",
            "Debug: Frame 95 - 3 clusters found\n",
            "Debug: Frame 95 - Crowd detected (size: 3)\n",
            "Debug: Frame 95 - Crowd detected (size: 4)\n"
          ]
        },
        {
          "output_type": "stream",
          "name": "stderr",
          "text": [
            "\rProcessing frames:  28%|██▊       | 97/341 [00:34<01:22,  2.96it/s]"
          ]
        },
        {
          "output_type": "stream",
          "name": "stdout",
          "text": [
            "Debug: Frame 96 - 37 persons detected\n",
            "Debug: Frame 96 - 3 clusters found\n",
            "Debug: Frame 96 - Crowd detected (size: 3)\n",
            "Debug: Frame 96 - Crowd detected (size: 4)\n"
          ]
        },
        {
          "output_type": "stream",
          "name": "stderr",
          "text": [
            "\rProcessing frames:  29%|██▊       | 98/341 [00:34<01:21,  3.00it/s]"
          ]
        },
        {
          "output_type": "stream",
          "name": "stdout",
          "text": [
            "Debug: Frame 97 - 36 persons detected\n",
            "Debug: Frame 97 - 3 clusters found\n",
            "Debug: Frame 97 - Crowd detected (size: 3)\n",
            "Debug: Frame 97 - Crowd detected (size: 4)\n"
          ]
        },
        {
          "output_type": "stream",
          "name": "stderr",
          "text": [
            "\rProcessing frames:  29%|██▉       | 99/341 [00:34<01:19,  3.04it/s]"
          ]
        },
        {
          "output_type": "stream",
          "name": "stdout",
          "text": [
            "Debug: Frame 98 - 36 persons detected\n",
            "Debug: Frame 98 - 3 clusters found\n",
            "Debug: Frame 98 - Crowd detected (size: 3)\n",
            "Debug: Frame 98 - Crowd detected (size: 4)\n"
          ]
        },
        {
          "output_type": "stream",
          "name": "stderr",
          "text": [
            "\rProcessing frames:  29%|██▉       | 100/341 [00:35<01:19,  3.03it/s]"
          ]
        },
        {
          "output_type": "stream",
          "name": "stdout",
          "text": [
            "Debug: Frame 99 - 36 persons detected\n",
            "Debug: Frame 99 - 3 clusters found\n",
            "Debug: Frame 99 - Crowd detected (size: 3)\n",
            "Debug: Frame 99 - Crowd detected (size: 4)\n"
          ]
        },
        {
          "output_type": "stream",
          "name": "stderr",
          "text": [
            "\rProcessing frames:  30%|██▉       | 101/341 [00:35<01:18,  3.07it/s]"
          ]
        },
        {
          "output_type": "stream",
          "name": "stdout",
          "text": [
            "Debug: Frame 100 - 36 persons detected\n",
            "Debug: Frame 100 - 4 clusters found\n",
            "Debug: Frame 100 - Crowd detected (size: 3)\n",
            "Debug: Frame 100 - Crowd detected (size: 4)\n"
          ]
        },
        {
          "output_type": "stream",
          "name": "stderr",
          "text": [
            "\rProcessing frames:  30%|██▉       | 102/341 [00:35<01:16,  3.14it/s]"
          ]
        },
        {
          "output_type": "stream",
          "name": "stdout",
          "text": [
            "Debug: Frame 101 - 36 persons detected\n",
            "Debug: Frame 101 - 3 clusters found\n",
            "Debug: Frame 101 - Crowd detected (size: 3)\n",
            "Debug: Frame 101 - Crowd detected (size: 4)\n"
          ]
        },
        {
          "output_type": "stream",
          "name": "stderr",
          "text": [
            "\rProcessing frames:  30%|███       | 103/341 [00:36<01:13,  3.22it/s]"
          ]
        },
        {
          "output_type": "stream",
          "name": "stdout",
          "text": [
            "Debug: Frame 102 - 35 persons detected\n",
            "Debug: Frame 102 - 2 clusters found\n",
            "Debug: Frame 102 - Crowd detected (size: 3)\n",
            "Debug: Frame 102 - Crowd detected (size: 4)\n"
          ]
        },
        {
          "output_type": "stream",
          "name": "stderr",
          "text": [
            "\rProcessing frames:  30%|███       | 104/341 [00:36<01:12,  3.27it/s]"
          ]
        },
        {
          "output_type": "stream",
          "name": "stdout",
          "text": [
            "Debug: Frame 103 - 34 persons detected\n",
            "Debug: Frame 103 - 2 clusters found\n",
            "Debug: Frame 103 - Crowd detected (size: 3)\n",
            "Debug: Frame 103 - Crowd detected (size: 4)\n"
          ]
        },
        {
          "output_type": "stream",
          "name": "stderr",
          "text": [
            "\rProcessing frames:  31%|███       | 105/341 [00:36<01:12,  3.25it/s]"
          ]
        },
        {
          "output_type": "stream",
          "name": "stdout",
          "text": [
            "Debug: Frame 104 - 35 persons detected\n",
            "Debug: Frame 104 - 2 clusters found\n",
            "Debug: Frame 104 - Crowd detected (size: 3)\n",
            "Debug: Frame 104 - Crowd detected (size: 4)\n"
          ]
        },
        {
          "output_type": "stream",
          "name": "stderr",
          "text": [
            "\rProcessing frames:  31%|███       | 106/341 [00:37<01:13,  3.20it/s]"
          ]
        },
        {
          "output_type": "stream",
          "name": "stdout",
          "text": [
            "Debug: Frame 105 - 37 persons detected\n",
            "Debug: Frame 105 - 2 clusters found\n",
            "Debug: Frame 105 - Crowd detected (size: 3)\n",
            "Debug: Frame 105 - Crowd detected (size: 4)\n"
          ]
        },
        {
          "output_type": "stream",
          "name": "stderr",
          "text": [
            "\rProcessing frames:  31%|███▏      | 107/341 [00:37<01:14,  3.16it/s]"
          ]
        },
        {
          "output_type": "stream",
          "name": "stdout",
          "text": [
            "Debug: Frame 106 - 35 persons detected\n",
            "Debug: Frame 106 - 2 clusters found\n",
            "Debug: Frame 106 - Crowd detected (size: 3)\n",
            "Debug: Frame 106 - Crowd detected (size: 4)\n"
          ]
        },
        {
          "output_type": "stream",
          "name": "stderr",
          "text": [
            "\rProcessing frames:  32%|███▏      | 108/341 [00:37<01:11,  3.24it/s]"
          ]
        },
        {
          "output_type": "stream",
          "name": "stdout",
          "text": [
            "Debug: Frame 107 - 36 persons detected\n",
            "Debug: Frame 107 - 3 clusters found\n",
            "Debug: Frame 107 - Crowd detected (size: 4)\n",
            "Debug: Frame 107 - Crowd detected (size: 3)\n"
          ]
        },
        {
          "output_type": "stream",
          "name": "stderr",
          "text": [
            "\rProcessing frames:  32%|███▏      | 109/341 [00:37<01:10,  3.30it/s]"
          ]
        },
        {
          "output_type": "stream",
          "name": "stdout",
          "text": [
            "Debug: Frame 108 - 36 persons detected\n",
            "Debug: Frame 108 - 2 clusters found\n",
            "Debug: Frame 108 - Crowd detected (size: 4)\n",
            "Debug: Frame 108 - Crowd detected (size: 3)\n"
          ]
        },
        {
          "output_type": "stream",
          "name": "stderr",
          "text": [
            "\rProcessing frames:  32%|███▏      | 110/341 [00:38<01:09,  3.31it/s]"
          ]
        },
        {
          "output_type": "stream",
          "name": "stdout",
          "text": [
            "Debug: Frame 109 - 37 persons detected\n",
            "Debug: Frame 109 - 2 clusters found\n",
            "Debug: Frame 109 - Crowd detected (size: 4)\n",
            "Debug: Frame 109 - Crowd detected (size: 3)\n"
          ]
        },
        {
          "output_type": "stream",
          "name": "stderr",
          "text": [
            "\rProcessing frames:  33%|███▎      | 111/341 [00:38<01:08,  3.36it/s]"
          ]
        },
        {
          "output_type": "stream",
          "name": "stdout",
          "text": [
            "Debug: Frame 110 - 36 persons detected\n",
            "Debug: Frame 110 - 2 clusters found\n",
            "Debug: Frame 110 - Crowd detected (size: 4)\n",
            "Debug: Frame 110 - Crowd detected (size: 3)\n"
          ]
        },
        {
          "output_type": "stream",
          "name": "stderr",
          "text": [
            "\rProcessing frames:  33%|███▎      | 112/341 [00:38<01:05,  3.47it/s]"
          ]
        },
        {
          "output_type": "stream",
          "name": "stdout",
          "text": [
            "Debug: Frame 111 - 34 persons detected\n",
            "Debug: Frame 111 - 2 clusters found\n",
            "Debug: Frame 111 - Crowd detected (size: 4)\n",
            "Debug: Frame 111 - Crowd detected (size: 3)\n"
          ]
        },
        {
          "output_type": "stream",
          "name": "stderr",
          "text": [
            "\rProcessing frames:  33%|███▎      | 113/341 [00:39<01:03,  3.59it/s]"
          ]
        },
        {
          "output_type": "stream",
          "name": "stdout",
          "text": [
            "Debug: Frame 112 - 35 persons detected\n",
            "Debug: Frame 112 - 2 clusters found\n",
            "Debug: Frame 112 - Crowd detected (size: 4)\n",
            "Debug: Frame 112 - Crowd detected (size: 3)\n"
          ]
        },
        {
          "output_type": "stream",
          "name": "stderr",
          "text": [
            "\rProcessing frames:  33%|███▎      | 114/341 [00:39<01:02,  3.62it/s]"
          ]
        },
        {
          "output_type": "stream",
          "name": "stdout",
          "text": [
            "Debug: Frame 113 - 33 persons detected\n",
            "Debug: Frame 113 - 2 clusters found\n",
            "Debug: Frame 113 - Crowd detected (size: 3)\n",
            "Debug: Frame 113 - Crowd detected (size: 3)\n"
          ]
        },
        {
          "output_type": "stream",
          "name": "stderr",
          "text": [
            "\rProcessing frames:  34%|███▎      | 115/341 [00:39<01:02,  3.62it/s]"
          ]
        },
        {
          "output_type": "stream",
          "name": "stdout",
          "text": [
            "Debug: Frame 114 - 34 persons detected\n",
            "Debug: Frame 114 - 2 clusters found\n",
            "Debug: Frame 114 - Crowd detected (size: 3)\n",
            "Debug: Frame 114 - Crowd detected (size: 3)\n"
          ]
        },
        {
          "output_type": "stream",
          "name": "stderr",
          "text": [
            "\rProcessing frames:  34%|███▍      | 116/341 [00:39<01:02,  3.57it/s]"
          ]
        },
        {
          "output_type": "stream",
          "name": "stdout",
          "text": [
            "Debug: Frame 115 - 35 persons detected\n",
            "Debug: Frame 115 - 2 clusters found\n",
            "Debug: Frame 115 - Crowd detected (size: 3)\n",
            "Debug: Frame 115 - Crowd detected (size: 3)\n"
          ]
        },
        {
          "output_type": "stream",
          "name": "stderr",
          "text": [
            "\rProcessing frames:  34%|███▍      | 117/341 [00:40<01:02,  3.56it/s]"
          ]
        },
        {
          "output_type": "stream",
          "name": "stdout",
          "text": [
            "Debug: Frame 116 - 38 persons detected\n",
            "Debug: Frame 116 - 3 clusters found\n",
            "Debug: Frame 116 - Crowd detected (size: 3)\n",
            "Debug: Frame 116 - Crowd detected (size: 3)\n"
          ]
        },
        {
          "output_type": "stream",
          "name": "stderr",
          "text": [
            "\rProcessing frames:  35%|███▍      | 118/341 [00:40<01:04,  3.45it/s]"
          ]
        },
        {
          "output_type": "stream",
          "name": "stdout",
          "text": [
            "Debug: Frame 117 - 35 persons detected\n",
            "Debug: Frame 117 - 2 clusters found\n",
            "Debug: Frame 117 - Crowd detected (size: 3)\n",
            "Debug: Frame 117 - Crowd detected (size: 3)\n"
          ]
        },
        {
          "output_type": "stream",
          "name": "stderr",
          "text": [
            "\rProcessing frames:  35%|███▍      | 119/341 [00:40<01:06,  3.35it/s]"
          ]
        },
        {
          "output_type": "stream",
          "name": "stdout",
          "text": [
            "Debug: Frame 118 - 35 persons detected\n",
            "Debug: Frame 118 - 3 clusters found\n",
            "Debug: Frame 118 - Crowd detected (size: 3)\n",
            "Debug: Frame 118 - Crowd detected (size: 3)\n"
          ]
        },
        {
          "output_type": "stream",
          "name": "stderr",
          "text": [
            "\rProcessing frames:  35%|███▌      | 120/341 [00:41<01:05,  3.38it/s]"
          ]
        },
        {
          "output_type": "stream",
          "name": "stdout",
          "text": [
            "Debug: Frame 119 - 33 persons detected\n",
            "Debug: Frame 119 - 2 clusters found\n",
            "Debug: Frame 119 - Crowd detected (size: 3)\n",
            "Debug: Frame 119 - Crowd detected (size: 3)\n"
          ]
        },
        {
          "output_type": "stream",
          "name": "stderr",
          "text": [
            "\rProcessing frames:  35%|███▌      | 121/341 [00:41<01:05,  3.36it/s]"
          ]
        },
        {
          "output_type": "stream",
          "name": "stdout",
          "text": [
            "Debug: Frame 120 - 33 persons detected\n",
            "Debug: Frame 120 - 2 clusters found\n",
            "Debug: Frame 120 - Crowd detected (size: 3)\n",
            "Debug: Frame 120 - Crowd detected (size: 3)\n"
          ]
        },
        {
          "output_type": "stream",
          "name": "stderr",
          "text": [
            "\rProcessing frames:  36%|███▌      | 122/341 [00:41<01:04,  3.40it/s]"
          ]
        },
        {
          "output_type": "stream",
          "name": "stdout",
          "text": [
            "Debug: Frame 121 - 37 persons detected\n",
            "Debug: Frame 121 - 4 clusters found\n",
            "Debug: Frame 121 - Crowd detected (size: 3)\n",
            "Debug: Frame 121 - Crowd detected (size: 3)\n"
          ]
        },
        {
          "output_type": "stream",
          "name": "stderr",
          "text": [
            "\rProcessing frames:  36%|███▌      | 123/341 [00:41<01:03,  3.44it/s]"
          ]
        },
        {
          "output_type": "stream",
          "name": "stdout",
          "text": [
            "Debug: Frame 122 - 36 persons detected\n",
            "Debug: Frame 122 - 3 clusters found\n",
            "Debug: Frame 122 - Crowd detected (size: 3)\n",
            "Debug: Frame 122 - Crowd detected (size: 3)\n"
          ]
        },
        {
          "output_type": "stream",
          "name": "stderr",
          "text": [
            "\rProcessing frames:  36%|███▋      | 124/341 [00:42<01:11,  3.05it/s]"
          ]
        },
        {
          "output_type": "stream",
          "name": "stdout",
          "text": [
            "Debug: Frame 123 - 35 persons detected\n",
            "Debug: Frame 123 - 2 clusters found\n",
            "Debug: Frame 123 - Crowd detected (size: 3)\n",
            "Debug: Frame 123 - Crowd detected (size: 3)\n"
          ]
        },
        {
          "output_type": "stream",
          "name": "stderr",
          "text": [
            "\rProcessing frames:  37%|███▋      | 125/341 [00:42<01:17,  2.81it/s]"
          ]
        },
        {
          "output_type": "stream",
          "name": "stdout",
          "text": [
            "Debug: Frame 124 - 36 persons detected\n",
            "Debug: Frame 124 - 3 clusters found\n",
            "Debug: Frame 124 - Crowd detected (size: 3)\n",
            "Debug: Frame 124 - Crowd detected (size: 3)\n"
          ]
        },
        {
          "output_type": "stream",
          "name": "stderr",
          "text": [
            "\rProcessing frames:  37%|███▋      | 126/341 [00:43<01:20,  2.65it/s]"
          ]
        },
        {
          "output_type": "stream",
          "name": "stdout",
          "text": [
            "Debug: Frame 125 - 36 persons detected\n",
            "Debug: Frame 125 - 3 clusters found\n",
            "Debug: Frame 125 - Crowd detected (size: 3)\n",
            "Debug: Frame 125 - Crowd detected (size: 3)\n"
          ]
        },
        {
          "output_type": "stream",
          "name": "stderr",
          "text": [
            "\rProcessing frames:  37%|███▋      | 127/341 [00:44<02:22,  1.51it/s]"
          ]
        },
        {
          "output_type": "stream",
          "name": "stdout",
          "text": [
            "Debug: Frame 126 - 36 persons detected\n",
            "Debug: Frame 126 - 2 clusters found\n",
            "Debug: Frame 126 - Crowd detected (size: 3)\n",
            "Debug: Frame 126 - Crowd detected (size: 3)\n"
          ]
        },
        {
          "output_type": "stream",
          "name": "stderr",
          "text": [
            "\rProcessing frames:  38%|███▊      | 128/341 [00:44<02:03,  1.72it/s]"
          ]
        },
        {
          "output_type": "stream",
          "name": "stdout",
          "text": [
            "Debug: Frame 127 - 37 persons detected\n",
            "Debug: Frame 127 - 3 clusters found\n",
            "Debug: Frame 127 - Crowd detected (size: 3)\n",
            "Debug: Frame 127 - Crowd detected (size: 4)\n"
          ]
        },
        {
          "output_type": "stream",
          "name": "stderr",
          "text": [
            "\rProcessing frames:  38%|███▊      | 129/341 [00:45<01:42,  2.07it/s]"
          ]
        },
        {
          "output_type": "stream",
          "name": "stdout",
          "text": [
            "Debug: Frame 128 - 33 persons detected\n",
            "Debug: Frame 128 - 2 clusters found\n",
            "Debug: Frame 128 - Crowd detected (size: 3)\n"
          ]
        },
        {
          "output_type": "stream",
          "name": "stderr",
          "text": [
            "\rProcessing frames:  38%|███▊      | 130/341 [00:45<01:28,  2.37it/s]"
          ]
        },
        {
          "output_type": "stream",
          "name": "stdout",
          "text": [
            "Debug: Frame 129 - 32 persons detected\n",
            "Debug: Frame 129 - 2 clusters found\n",
            "Debug: Frame 129 - Crowd detected (size: 3)\n"
          ]
        },
        {
          "output_type": "stream",
          "name": "stderr",
          "text": [
            "\rProcessing frames:  38%|███▊      | 131/341 [00:45<01:20,  2.60it/s]"
          ]
        },
        {
          "output_type": "stream",
          "name": "stdout",
          "text": [
            "Debug: Frame 130 - 33 persons detected\n",
            "Debug: Frame 130 - 2 clusters found\n",
            "Debug: Frame 130 - Crowd detected (size: 3)\n"
          ]
        },
        {
          "output_type": "stream",
          "name": "stderr",
          "text": [
            "\rProcessing frames:  39%|███▊      | 132/341 [00:46<01:15,  2.78it/s]"
          ]
        },
        {
          "output_type": "stream",
          "name": "stdout",
          "text": [
            "Debug: Frame 131 - 32 persons detected\n",
            "Debug: Frame 131 - 2 clusters found\n",
            "Debug: Frame 131 - Crowd detected (size: 3)\n"
          ]
        },
        {
          "output_type": "stream",
          "name": "stderr",
          "text": [
            "\rProcessing frames:  39%|███▉      | 133/341 [00:46<01:10,  2.93it/s]"
          ]
        },
        {
          "output_type": "stream",
          "name": "stdout",
          "text": [
            "Debug: Frame 132 - 32 persons detected\n",
            "Debug: Frame 132 - 1 clusters found\n",
            "Debug: Frame 132 - Crowd detected (size: 3)\n"
          ]
        },
        {
          "output_type": "stream",
          "name": "stderr",
          "text": [
            "\rProcessing frames:  39%|███▉      | 134/341 [00:46<01:08,  3.01it/s]"
          ]
        },
        {
          "output_type": "stream",
          "name": "stdout",
          "text": [
            "Debug: Frame 133 - 32 persons detected\n",
            "Debug: Frame 133 - 1 clusters found\n",
            "Debug: Frame 133 - Crowd detected (size: 3)\n"
          ]
        },
        {
          "output_type": "stream",
          "name": "stderr",
          "text": [
            "\rProcessing frames:  40%|███▉      | 135/341 [00:46<01:04,  3.18it/s]"
          ]
        },
        {
          "output_type": "stream",
          "name": "stdout",
          "text": [
            "Debug: Frame 134 - 32 persons detected\n",
            "Debug: Frame 134 - 2 clusters found\n",
            "Debug: Frame 134 - Crowd detected (size: 3)\n"
          ]
        },
        {
          "output_type": "stream",
          "name": "stderr",
          "text": [
            "\rProcessing frames:  40%|███▉      | 136/341 [00:47<01:01,  3.34it/s]"
          ]
        },
        {
          "output_type": "stream",
          "name": "stdout",
          "text": [
            "Debug: Frame 135 - 34 persons detected\n",
            "Debug: Frame 135 - 2 clusters found\n",
            "Debug: Frame 135 - Crowd detected (size: 3)\n"
          ]
        },
        {
          "output_type": "stream",
          "name": "stderr",
          "text": [
            "\rProcessing frames:  40%|████      | 137/341 [00:47<00:58,  3.50it/s]"
          ]
        },
        {
          "output_type": "stream",
          "name": "stdout",
          "text": [
            "Debug: Frame 136 - 33 persons detected\n",
            "Debug: Frame 136 - 1 clusters found\n",
            "Debug: Frame 136 - Crowd detected (size: 3)\n"
          ]
        },
        {
          "output_type": "stream",
          "name": "stderr",
          "text": [
            "\rProcessing frames:  40%|████      | 138/341 [00:47<00:59,  3.43it/s]"
          ]
        },
        {
          "output_type": "stream",
          "name": "stdout",
          "text": [
            "Debug: Frame 137 - 32 persons detected\n",
            "Debug: Frame 137 - 1 clusters found\n",
            "Debug: Frame 137 - Crowd detected (size: 4)\n"
          ]
        },
        {
          "output_type": "stream",
          "name": "stderr",
          "text": [
            "\rProcessing frames:  41%|████      | 139/341 [00:48<00:59,  3.41it/s]"
          ]
        },
        {
          "output_type": "stream",
          "name": "stdout",
          "text": [
            "Debug: Frame 138 - 32 persons detected\n",
            "Debug: Frame 138 - 1 clusters found\n",
            "Debug: Frame 138 - Crowd detected (size: 4)\n"
          ]
        },
        {
          "output_type": "stream",
          "name": "stderr",
          "text": [
            "\rProcessing frames:  41%|████      | 140/341 [00:48<00:59,  3.38it/s]"
          ]
        },
        {
          "output_type": "stream",
          "name": "stdout",
          "text": [
            "Debug: Frame 139 - 31 persons detected\n",
            "Debug: Frame 139 - 1 clusters found\n",
            "Debug: Frame 139 - Crowd detected (size: 4)\n"
          ]
        },
        {
          "output_type": "stream",
          "name": "stderr",
          "text": [
            "\rProcessing frames:  41%|████▏     | 141/341 [00:48<01:00,  3.32it/s]"
          ]
        },
        {
          "output_type": "stream",
          "name": "stdout",
          "text": [
            "Debug: Frame 140 - 32 persons detected\n",
            "Debug: Frame 140 - 1 clusters found\n",
            "Debug: Frame 140 - Crowd detected (size: 4)\n"
          ]
        },
        {
          "output_type": "stream",
          "name": "stderr",
          "text": [
            "\rProcessing frames:  42%|████▏     | 142/341 [00:49<01:03,  3.15it/s]"
          ]
        },
        {
          "output_type": "stream",
          "name": "stdout",
          "text": [
            "Debug: Frame 141 - 31 persons detected\n",
            "Debug: Frame 141 - 1 clusters found\n",
            "Debug: Frame 141 - Crowd detected (size: 4)\n"
          ]
        },
        {
          "output_type": "stream",
          "name": "stderr",
          "text": [
            "\rProcessing frames:  42%|████▏     | 143/341 [00:49<01:02,  3.17it/s]"
          ]
        },
        {
          "output_type": "stream",
          "name": "stdout",
          "text": [
            "Debug: Frame 142 - 32 persons detected\n",
            "Debug: Frame 142 - 1 clusters found\n",
            "Debug: Frame 142 - Crowd detected (size: 4)\n"
          ]
        },
        {
          "output_type": "stream",
          "name": "stderr",
          "text": [
            "\rProcessing frames:  42%|████▏     | 144/341 [00:49<01:00,  3.23it/s]"
          ]
        },
        {
          "output_type": "stream",
          "name": "stdout",
          "text": [
            "Debug: Frame 143 - 32 persons detected\n",
            "Debug: Frame 143 - 2 clusters found\n",
            "Debug: Frame 143 - Crowd detected (size: 4)\n"
          ]
        },
        {
          "output_type": "stream",
          "name": "stderr",
          "text": [
            "\rProcessing frames:  43%|████▎     | 145/341 [00:50<01:00,  3.22it/s]"
          ]
        },
        {
          "output_type": "stream",
          "name": "stdout",
          "text": [
            "Debug: Frame 144 - 31 persons detected\n",
            "Debug: Frame 144 - 1 clusters found\n",
            "Debug: Frame 144 - Crowd detected (size: 4)\n"
          ]
        },
        {
          "output_type": "stream",
          "name": "stderr",
          "text": [
            "\rProcessing frames:  43%|████▎     | 146/341 [00:50<00:59,  3.27it/s]"
          ]
        },
        {
          "output_type": "stream",
          "name": "stdout",
          "text": [
            "Debug: Frame 145 - 31 persons detected\n",
            "Debug: Frame 145 - 1 clusters found\n",
            "Debug: Frame 145 - Crowd detected (size: 4)\n"
          ]
        },
        {
          "output_type": "stream",
          "name": "stderr",
          "text": [
            "\rProcessing frames:  43%|████▎     | 147/341 [00:50<00:58,  3.31it/s]"
          ]
        },
        {
          "output_type": "stream",
          "name": "stdout",
          "text": [
            "Debug: Frame 146 - 31 persons detected\n",
            "Debug: Frame 146 - 1 clusters found\n",
            "Debug: Frame 146 - Crowd detected (size: 4)\n"
          ]
        },
        {
          "output_type": "stream",
          "name": "stderr",
          "text": [
            "\rProcessing frames:  43%|████▎     | 148/341 [00:50<00:59,  3.26it/s]"
          ]
        },
        {
          "output_type": "stream",
          "name": "stdout",
          "text": [
            "Debug: Frame 147 - 32 persons detected\n",
            "Debug: Frame 147 - 2 clusters found\n",
            "Debug: Frame 147 - Crowd detected (size: 4)\n"
          ]
        },
        {
          "output_type": "stream",
          "name": "stderr",
          "text": [
            "\rProcessing frames:  44%|████▎     | 149/341 [00:51<00:57,  3.32it/s]"
          ]
        },
        {
          "output_type": "stream",
          "name": "stdout",
          "text": [
            "Debug: Frame 148 - 31 persons detected\n",
            "Debug: Frame 148 - 1 clusters found\n",
            "Debug: Frame 148 - Crowd detected (size: 4)\n"
          ]
        },
        {
          "output_type": "stream",
          "name": "stderr",
          "text": [
            "\rProcessing frames:  44%|████▍     | 150/341 [00:51<00:56,  3.36it/s]"
          ]
        },
        {
          "output_type": "stream",
          "name": "stdout",
          "text": [
            "Debug: Frame 149 - 31 persons detected\n",
            "Debug: Frame 149 - 1 clusters found\n",
            "Debug: Frame 149 - Crowd detected (size: 4)\n"
          ]
        },
        {
          "output_type": "stream",
          "name": "stderr",
          "text": [
            "\rProcessing frames:  44%|████▍     | 151/341 [00:51<00:56,  3.39it/s]"
          ]
        },
        {
          "output_type": "stream",
          "name": "stdout",
          "text": [
            "Debug: Frame 150 - 31 persons detected\n",
            "Debug: Frame 150 - 1 clusters found\n",
            "Debug: Frame 150 - Crowd detected (size: 4)\n"
          ]
        },
        {
          "output_type": "stream",
          "name": "stderr",
          "text": [
            "\rProcessing frames:  45%|████▍     | 152/341 [00:52<00:56,  3.34it/s]"
          ]
        },
        {
          "output_type": "stream",
          "name": "stdout",
          "text": [
            "Debug: Frame 151 - 29 persons detected\n",
            "Debug: Frame 151 - 0 clusters found\n"
          ]
        },
        {
          "output_type": "stream",
          "name": "stderr",
          "text": [
            "\rProcessing frames:  45%|████▍     | 153/341 [00:52<00:55,  3.39it/s]"
          ]
        },
        {
          "output_type": "stream",
          "name": "stdout",
          "text": [
            "Debug: Frame 152 - 30 persons detected\n",
            "Debug: Frame 152 - 2 clusters found\n"
          ]
        },
        {
          "output_type": "stream",
          "name": "stderr",
          "text": [
            "\rProcessing frames:  45%|████▌     | 154/341 [00:52<00:55,  3.38it/s]"
          ]
        },
        {
          "output_type": "stream",
          "name": "stdout",
          "text": [
            "Debug: Frame 153 - 29 persons detected\n",
            "Debug: Frame 153 - 1 clusters found\n"
          ]
        },
        {
          "output_type": "stream",
          "name": "stderr",
          "text": [
            "\rProcessing frames:  45%|████▌     | 155/341 [00:52<00:56,  3.28it/s]"
          ]
        },
        {
          "output_type": "stream",
          "name": "stdout",
          "text": [
            "Debug: Frame 154 - 29 persons detected\n",
            "Debug: Frame 154 - 1 clusters found\n"
          ]
        },
        {
          "output_type": "stream",
          "name": "stderr",
          "text": [
            "\rProcessing frames:  46%|████▌     | 156/341 [00:53<00:56,  3.29it/s]"
          ]
        },
        {
          "output_type": "stream",
          "name": "stdout",
          "text": [
            "Debug: Frame 155 - 30 persons detected\n",
            "Debug: Frame 155 - 2 clusters found\n"
          ]
        },
        {
          "output_type": "stream",
          "name": "stderr",
          "text": [
            "\rProcessing frames:  46%|████▌     | 157/341 [00:53<00:55,  3.33it/s]"
          ]
        },
        {
          "output_type": "stream",
          "name": "stdout",
          "text": [
            "Debug: Frame 156 - 29 persons detected\n",
            "Debug: Frame 156 - 1 clusters found\n"
          ]
        },
        {
          "output_type": "stream",
          "name": "stderr",
          "text": [
            "\rProcessing frames:  46%|████▋     | 158/341 [00:53<00:55,  3.32it/s]"
          ]
        },
        {
          "output_type": "stream",
          "name": "stdout",
          "text": [
            "Debug: Frame 157 - 29 persons detected\n",
            "Debug: Frame 157 - 1 clusters found\n"
          ]
        },
        {
          "output_type": "stream",
          "name": "stderr",
          "text": [
            "\rProcessing frames:  47%|████▋     | 159/341 [00:54<00:53,  3.41it/s]"
          ]
        },
        {
          "output_type": "stream",
          "name": "stdout",
          "text": [
            "Debug: Frame 158 - 29 persons detected\n",
            "Debug: Frame 158 - 1 clusters found\n"
          ]
        },
        {
          "output_type": "stream",
          "name": "stderr",
          "text": [
            "\rProcessing frames:  47%|████▋     | 160/341 [00:54<00:51,  3.53it/s]"
          ]
        },
        {
          "output_type": "stream",
          "name": "stdout",
          "text": [
            "Debug: Frame 159 - 29 persons detected\n",
            "Debug: Frame 159 - 1 clusters found\n"
          ]
        },
        {
          "output_type": "stream",
          "name": "stderr",
          "text": [
            "\rProcessing frames:  47%|████▋     | 161/341 [00:54<00:49,  3.62it/s]"
          ]
        },
        {
          "output_type": "stream",
          "name": "stdout",
          "text": [
            "Debug: Frame 160 - 30 persons detected\n",
            "Debug: Frame 160 - 1 clusters found\n"
          ]
        },
        {
          "output_type": "stream",
          "name": "stderr",
          "text": [
            "\rProcessing frames:  48%|████▊     | 162/341 [00:54<00:50,  3.51it/s]"
          ]
        },
        {
          "output_type": "stream",
          "name": "stdout",
          "text": [
            "Debug: Frame 161 - 31 persons detected\n",
            "Debug: Frame 161 - 1 clusters found\n",
            "Debug: Frame 161 - Crowd detected (size: 4)\n"
          ]
        },
        {
          "output_type": "stream",
          "name": "stderr",
          "text": [
            "\rProcessing frames:  48%|████▊     | 163/341 [00:55<00:57,  3.10it/s]"
          ]
        },
        {
          "output_type": "stream",
          "name": "stdout",
          "text": [
            "Debug: Frame 162 - 31 persons detected\n",
            "Debug: Frame 162 - 1 clusters found\n",
            "Debug: Frame 162 - Crowd detected (size: 4)\n"
          ]
        },
        {
          "output_type": "stream",
          "name": "stderr",
          "text": [
            "\rProcessing frames:  48%|████▊     | 164/341 [00:55<01:01,  2.88it/s]"
          ]
        },
        {
          "output_type": "stream",
          "name": "stdout",
          "text": [
            "Debug: Frame 163 - 31 persons detected\n",
            "Debug: Frame 163 - 1 clusters found\n",
            "Debug: Frame 163 - Crowd detected (size: 4)\n"
          ]
        },
        {
          "output_type": "stream",
          "name": "stderr",
          "text": [
            "\rProcessing frames:  48%|████▊     | 165/341 [00:56<01:04,  2.71it/s]"
          ]
        },
        {
          "output_type": "stream",
          "name": "stdout",
          "text": [
            "Debug: Frame 164 - 32 persons detected\n",
            "Debug: Frame 164 - 2 clusters found\n",
            "Debug: Frame 164 - Crowd detected (size: 4)\n"
          ]
        },
        {
          "output_type": "stream",
          "name": "stderr",
          "text": [
            "\rProcessing frames:  49%|████▊     | 166/341 [00:56<01:06,  2.64it/s]"
          ]
        },
        {
          "output_type": "stream",
          "name": "stdout",
          "text": [
            "Debug: Frame 165 - 32 persons detected\n",
            "Debug: Frame 165 - 2 clusters found\n",
            "Debug: Frame 165 - Crowd detected (size: 4)\n"
          ]
        },
        {
          "output_type": "stream",
          "name": "stderr",
          "text": [
            "\rProcessing frames:  49%|████▉     | 167/341 [00:57<01:08,  2.53it/s]"
          ]
        },
        {
          "output_type": "stream",
          "name": "stdout",
          "text": [
            "Debug: Frame 166 - 33 persons detected\n",
            "Debug: Frame 166 - 3 clusters found\n",
            "Debug: Frame 166 - Crowd detected (size: 4)\n"
          ]
        },
        {
          "output_type": "stream",
          "name": "stderr",
          "text": [
            "\rProcessing frames:  49%|████▉     | 168/341 [00:57<01:12,  2.39it/s]"
          ]
        },
        {
          "output_type": "stream",
          "name": "stdout",
          "text": [
            "Debug: Frame 167 - 31 persons detected\n",
            "Debug: Frame 167 - 1 clusters found\n",
            "Debug: Frame 167 - Crowd detected (size: 3)\n"
          ]
        },
        {
          "output_type": "stream",
          "name": "stderr",
          "text": [
            "\rProcessing frames:  50%|████▉     | 169/341 [00:57<01:09,  2.48it/s]"
          ]
        },
        {
          "output_type": "stream",
          "name": "stdout",
          "text": [
            "Debug: Frame 168 - 31 persons detected\n",
            "Debug: Frame 168 - 1 clusters found\n",
            "Debug: Frame 168 - Crowd detected (size: 3)\n"
          ]
        },
        {
          "output_type": "stream",
          "name": "stderr",
          "text": [
            "\rProcessing frames:  50%|████▉     | 170/341 [00:58<01:03,  2.69it/s]"
          ]
        },
        {
          "output_type": "stream",
          "name": "stdout",
          "text": [
            "Debug: Frame 169 - 32 persons detected\n",
            "Debug: Frame 169 - 1 clusters found\n",
            "Debug: Frame 169 - Crowd detected (size: 4)\n"
          ]
        },
        {
          "output_type": "stream",
          "name": "stderr",
          "text": [
            "\rProcessing frames:  50%|█████     | 171/341 [00:58<00:59,  2.85it/s]"
          ]
        },
        {
          "output_type": "stream",
          "name": "stdout",
          "text": [
            "Debug: Frame 170 - 31 persons detected\n",
            "Debug: Frame 170 - 1 clusters found\n",
            "Debug: Frame 170 - Crowd detected (size: 3)\n"
          ]
        },
        {
          "output_type": "stream",
          "name": "stderr",
          "text": [
            "\rProcessing frames:  50%|█████     | 172/341 [00:58<00:56,  3.00it/s]"
          ]
        },
        {
          "output_type": "stream",
          "name": "stdout",
          "text": [
            "Debug: Frame 171 - 31 persons detected\n",
            "Debug: Frame 171 - 1 clusters found\n",
            "Debug: Frame 171 - Crowd detected (size: 3)\n"
          ]
        },
        {
          "output_type": "stream",
          "name": "stderr",
          "text": [
            "\rProcessing frames:  51%|█████     | 173/341 [00:59<00:54,  3.11it/s]"
          ]
        },
        {
          "output_type": "stream",
          "name": "stdout",
          "text": [
            "Debug: Frame 172 - 31 persons detected\n",
            "Debug: Frame 172 - 1 clusters found\n",
            "Debug: Frame 172 - Crowd detected (size: 3)\n"
          ]
        },
        {
          "output_type": "stream",
          "name": "stderr",
          "text": [
            "\rProcessing frames:  51%|█████     | 174/341 [00:59<00:51,  3.26it/s]"
          ]
        },
        {
          "output_type": "stream",
          "name": "stdout",
          "text": [
            "Debug: Frame 173 - 32 persons detected\n",
            "Debug: Frame 173 - 2 clusters found\n",
            "Debug: Frame 173 - Crowd detected (size: 3)\n"
          ]
        },
        {
          "output_type": "stream",
          "name": "stderr",
          "text": [
            "\rProcessing frames:  51%|█████▏    | 175/341 [00:59<00:49,  3.38it/s]"
          ]
        },
        {
          "output_type": "stream",
          "name": "stdout",
          "text": [
            "Debug: Frame 174 - 32 persons detected\n",
            "Debug: Frame 174 - 2 clusters found\n",
            "Debug: Frame 174 - Crowd detected (size: 3)\n"
          ]
        },
        {
          "output_type": "stream",
          "name": "stderr",
          "text": [
            "\rProcessing frames:  52%|█████▏    | 176/341 [00:59<00:46,  3.51it/s]"
          ]
        },
        {
          "output_type": "stream",
          "name": "stdout",
          "text": [
            "Debug: Frame 175 - 31 persons detected\n",
            "Debug: Frame 175 - 2 clusters found\n",
            "Debug: Frame 175 - Crowd detected (size: 3)\n"
          ]
        },
        {
          "output_type": "stream",
          "name": "stderr",
          "text": [
            "\rProcessing frames:  52%|█████▏    | 177/341 [01:00<00:45,  3.58it/s]"
          ]
        },
        {
          "output_type": "stream",
          "name": "stdout",
          "text": [
            "Debug: Frame 176 - 32 persons detected\n",
            "Debug: Frame 176 - 2 clusters found\n",
            "Debug: Frame 176 - Crowd detected (size: 3)\n"
          ]
        },
        {
          "output_type": "stream",
          "name": "stderr",
          "text": [
            "\rProcessing frames:  52%|█████▏    | 178/341 [01:00<00:45,  3.60it/s]"
          ]
        },
        {
          "output_type": "stream",
          "name": "stdout",
          "text": [
            "Debug: Frame 177 - 32 persons detected\n",
            "Debug: Frame 177 - 2 clusters found\n",
            "Debug: Frame 177 - Crowd detected (size: 3)\n"
          ]
        },
        {
          "output_type": "stream",
          "name": "stderr",
          "text": [
            "\rProcessing frames:  52%|█████▏    | 179/341 [01:00<00:44,  3.67it/s]"
          ]
        },
        {
          "output_type": "stream",
          "name": "stdout",
          "text": [
            "Debug: Frame 178 - 31 persons detected\n",
            "Debug: Frame 178 - 1 clusters found\n",
            "Debug: Frame 178 - Crowd detected (size: 3)\n"
          ]
        },
        {
          "output_type": "stream",
          "name": "stderr",
          "text": [
            "\rProcessing frames:  53%|█████▎    | 180/341 [01:00<00:43,  3.69it/s]"
          ]
        },
        {
          "output_type": "stream",
          "name": "stdout",
          "text": [
            "Debug: Frame 179 - 32 persons detected\n",
            "Debug: Frame 179 - 2 clusters found\n",
            "Debug: Frame 179 - Crowd detected (size: 3)\n"
          ]
        },
        {
          "output_type": "stream",
          "name": "stderr",
          "text": [
            "\rProcessing frames:  53%|█████▎    | 181/341 [01:01<00:44,  3.59it/s]"
          ]
        },
        {
          "output_type": "stream",
          "name": "stdout",
          "text": [
            "Debug: Frame 180 - 32 persons detected\n",
            "Debug: Frame 180 - 1 clusters found\n",
            "Debug: Frame 180 - Crowd detected (size: 3)\n"
          ]
        },
        {
          "output_type": "stream",
          "name": "stderr",
          "text": [
            "\rProcessing frames:  53%|█████▎    | 182/341 [01:01<00:47,  3.36it/s]"
          ]
        },
        {
          "output_type": "stream",
          "name": "stdout",
          "text": [
            "Debug: Frame 181 - 32 persons detected\n",
            "Debug: Frame 181 - 1 clusters found\n",
            "Debug: Frame 181 - Crowd detected (size: 3)\n"
          ]
        },
        {
          "output_type": "stream",
          "name": "stderr",
          "text": [
            "\rProcessing frames:  54%|█████▎    | 183/341 [01:01<00:46,  3.39it/s]"
          ]
        },
        {
          "output_type": "stream",
          "name": "stdout",
          "text": [
            "Debug: Frame 182 - 31 persons detected\n",
            "Debug: Frame 182 - 1 clusters found\n",
            "Debug: Frame 182 - Crowd detected (size: 3)\n"
          ]
        },
        {
          "output_type": "stream",
          "name": "stderr",
          "text": [
            "\rProcessing frames:  54%|█████▍    | 184/341 [01:02<00:46,  3.38it/s]"
          ]
        },
        {
          "output_type": "stream",
          "name": "stdout",
          "text": [
            "Debug: Frame 183 - 32 persons detected\n",
            "Debug: Frame 183 - 2 clusters found\n",
            "Debug: Frame 183 - Crowd detected (size: 3)\n"
          ]
        },
        {
          "output_type": "stream",
          "name": "stderr",
          "text": [
            "\rProcessing frames:  54%|█████▍    | 185/341 [01:02<00:45,  3.40it/s]"
          ]
        },
        {
          "output_type": "stream",
          "name": "stdout",
          "text": [
            "Debug: Frame 184 - 31 persons detected\n",
            "Debug: Frame 184 - 1 clusters found\n",
            "Debug: Frame 184 - Crowd detected (size: 3)\n"
          ]
        },
        {
          "output_type": "stream",
          "name": "stderr",
          "text": [
            "\rProcessing frames:  55%|█████▍    | 186/341 [01:02<00:46,  3.32it/s]"
          ]
        },
        {
          "output_type": "stream",
          "name": "stdout",
          "text": [
            "Debug: Frame 185 - 30 persons detected\n",
            "Debug: Frame 185 - 1 clusters found\n",
            "Debug: Frame 185 - Crowd detected (size: 3)\n"
          ]
        },
        {
          "output_type": "stream",
          "name": "stderr",
          "text": [
            "\rProcessing frames:  55%|█████▍    | 187/341 [01:03<00:46,  3.31it/s]"
          ]
        },
        {
          "output_type": "stream",
          "name": "stdout",
          "text": [
            "Debug: Frame 186 - 31 persons detected\n",
            "Debug: Frame 186 - 1 clusters found\n",
            "Debug: Frame 186 - Crowd detected (size: 3)\n"
          ]
        },
        {
          "output_type": "stream",
          "name": "stderr",
          "text": [
            "\rProcessing frames:  55%|█████▌    | 188/341 [01:03<00:44,  3.45it/s]"
          ]
        },
        {
          "output_type": "stream",
          "name": "stdout",
          "text": [
            "Debug: Frame 187 - 30 persons detected\n",
            "Debug: Frame 187 - 0 clusters found\n"
          ]
        },
        {
          "output_type": "stream",
          "name": "stderr",
          "text": [
            "\rProcessing frames:  55%|█████▌    | 189/341 [01:03<00:43,  3.52it/s]"
          ]
        },
        {
          "output_type": "stream",
          "name": "stdout",
          "text": [
            "Debug: Frame 188 - 32 persons detected\n",
            "Debug: Frame 188 - 1 clusters found\n"
          ]
        },
        {
          "output_type": "stream",
          "name": "stderr",
          "text": [
            "\rProcessing frames:  56%|█████▌    | 190/341 [01:03<00:42,  3.56it/s]"
          ]
        },
        {
          "output_type": "stream",
          "name": "stdout",
          "text": [
            "Debug: Frame 189 - 32 persons detected\n",
            "Debug: Frame 189 - 2 clusters found\n"
          ]
        },
        {
          "output_type": "stream",
          "name": "stderr",
          "text": [
            "\rProcessing frames:  56%|█████▌    | 191/341 [01:04<00:41,  3.61it/s]"
          ]
        },
        {
          "output_type": "stream",
          "name": "stdout",
          "text": [
            "Debug: Frame 190 - 33 persons detected\n",
            "Debug: Frame 190 - 2 clusters found\n"
          ]
        },
        {
          "output_type": "stream",
          "name": "stderr",
          "text": [
            "\rProcessing frames:  56%|█████▋    | 192/341 [01:04<00:40,  3.67it/s]"
          ]
        },
        {
          "output_type": "stream",
          "name": "stdout",
          "text": [
            "Debug: Frame 191 - 35 persons detected\n",
            "Debug: Frame 191 - 3 clusters found\n"
          ]
        },
        {
          "output_type": "stream",
          "name": "stderr",
          "text": [
            "\rProcessing frames:  57%|█████▋    | 193/341 [01:04<00:40,  3.66it/s]"
          ]
        },
        {
          "output_type": "stream",
          "name": "stdout",
          "text": [
            "Debug: Frame 192 - 33 persons detected\n",
            "Debug: Frame 192 - 2 clusters found\n"
          ]
        },
        {
          "output_type": "stream",
          "name": "stderr",
          "text": [
            "\rProcessing frames:  57%|█████▋    | 194/341 [01:04<00:39,  3.71it/s]"
          ]
        },
        {
          "output_type": "stream",
          "name": "stdout",
          "text": [
            "Debug: Frame 193 - 35 persons detected\n",
            "Debug: Frame 193 - 2 clusters found\n"
          ]
        },
        {
          "output_type": "stream",
          "name": "stderr",
          "text": [
            "\rProcessing frames:  57%|█████▋    | 195/341 [01:05<00:39,  3.74it/s]"
          ]
        },
        {
          "output_type": "stream",
          "name": "stdout",
          "text": [
            "Debug: Frame 194 - 35 persons detected\n",
            "Debug: Frame 194 - 2 clusters found\n"
          ]
        },
        {
          "output_type": "stream",
          "name": "stderr",
          "text": [
            "\rProcessing frames:  57%|█████▋    | 196/341 [01:05<00:39,  3.72it/s]"
          ]
        },
        {
          "output_type": "stream",
          "name": "stdout",
          "text": [
            "Debug: Frame 195 - 35 persons detected\n",
            "Debug: Frame 195 - 2 clusters found\n"
          ]
        },
        {
          "output_type": "stream",
          "name": "stderr",
          "text": [
            "\rProcessing frames:  58%|█████▊    | 197/341 [01:05<00:39,  3.67it/s]"
          ]
        },
        {
          "output_type": "stream",
          "name": "stdout",
          "text": [
            "Debug: Frame 196 - 35 persons detected\n",
            "Debug: Frame 196 - 2 clusters found\n"
          ]
        },
        {
          "output_type": "stream",
          "name": "stderr",
          "text": [
            "\rProcessing frames:  58%|█████▊    | 198/341 [01:06<00:38,  3.69it/s]"
          ]
        },
        {
          "output_type": "stream",
          "name": "stdout",
          "text": [
            "Debug: Frame 197 - 35 persons detected\n",
            "Debug: Frame 197 - 2 clusters found\n",
            "Debug: Frame 197 - Crowd detected (size: 4)\n"
          ]
        },
        {
          "output_type": "stream",
          "name": "stderr",
          "text": [
            "\rProcessing frames:  58%|█████▊    | 199/341 [01:06<00:38,  3.72it/s]"
          ]
        },
        {
          "output_type": "stream",
          "name": "stdout",
          "text": [
            "Debug: Frame 198 - 36 persons detected\n",
            "Debug: Frame 198 - 2 clusters found\n",
            "Debug: Frame 198 - Crowd detected (size: 3)\n",
            "Debug: Frame 198 - Crowd detected (size: 4)\n"
          ]
        },
        {
          "output_type": "stream",
          "name": "stderr",
          "text": [
            "\rProcessing frames:  59%|█████▊    | 200/341 [01:06<00:37,  3.74it/s]"
          ]
        },
        {
          "output_type": "stream",
          "name": "stdout",
          "text": [
            "Debug: Frame 199 - 34 persons detected\n",
            "Debug: Frame 199 - 2 clusters found\n",
            "Debug: Frame 199 - Crowd detected (size: 3)\n",
            "Debug: Frame 199 - Crowd detected (size: 4)\n"
          ]
        },
        {
          "output_type": "stream",
          "name": "stderr",
          "text": [
            "\rProcessing frames:  59%|█████▉    | 201/341 [01:06<00:37,  3.70it/s]"
          ]
        },
        {
          "output_type": "stream",
          "name": "stdout",
          "text": [
            "Debug: Frame 200 - 34 persons detected\n",
            "Debug: Frame 200 - 2 clusters found\n",
            "Debug: Frame 200 - Crowd detected (size: 3)\n",
            "Debug: Frame 200 - Crowd detected (size: 4)\n"
          ]
        },
        {
          "output_type": "stream",
          "name": "stderr",
          "text": [
            "\rProcessing frames:  59%|█████▉    | 202/341 [01:07<00:37,  3.73it/s]"
          ]
        },
        {
          "output_type": "stream",
          "name": "stdout",
          "text": [
            "Debug: Frame 201 - 34 persons detected\n",
            "Debug: Frame 201 - 2 clusters found\n",
            "Debug: Frame 201 - Crowd detected (size: 3)\n",
            "Debug: Frame 201 - Crowd detected (size: 4)\n"
          ]
        },
        {
          "output_type": "stream",
          "name": "stderr",
          "text": [
            "\rProcessing frames:  60%|█████▉    | 203/341 [01:07<00:36,  3.76it/s]"
          ]
        },
        {
          "output_type": "stream",
          "name": "stdout",
          "text": [
            "Debug: Frame 202 - 34 persons detected\n",
            "Debug: Frame 202 - 2 clusters found\n",
            "Debug: Frame 202 - Crowd detected (size: 4)\n",
            "Debug: Frame 202 - Crowd detected (size: 3)\n"
          ]
        },
        {
          "output_type": "stream",
          "name": "stderr",
          "text": [
            "\rProcessing frames:  60%|█████▉    | 204/341 [01:07<00:35,  3.81it/s]"
          ]
        },
        {
          "output_type": "stream",
          "name": "stdout",
          "text": [
            "Debug: Frame 203 - 34 persons detected\n",
            "Debug: Frame 203 - 2 clusters found\n",
            "Debug: Frame 203 - Crowd detected (size: 3)\n",
            "Debug: Frame 203 - Crowd detected (size: 4)\n"
          ]
        },
        {
          "output_type": "stream",
          "name": "stderr",
          "text": [
            "\rProcessing frames:  60%|██████    | 205/341 [01:07<00:39,  3.40it/s]"
          ]
        },
        {
          "output_type": "stream",
          "name": "stdout",
          "text": [
            "Debug: Frame 204 - 36 persons detected\n",
            "Debug: Frame 204 - 2 clusters found\n",
            "Debug: Frame 204 - Crowd detected (size: 7)\n",
            "Debug: Frame 204 - Crowd detected (size: 3)\n"
          ]
        },
        {
          "output_type": "stream",
          "name": "stderr",
          "text": [
            "\rProcessing frames:  60%|██████    | 206/341 [01:08<00:44,  3.05it/s]"
          ]
        },
        {
          "output_type": "stream",
          "name": "stdout",
          "text": [
            "Debug: Frame 205 - 35 persons detected\n",
            "Debug: Frame 205 - 2 clusters found\n",
            "Debug: Frame 205 - Crowd detected (size: 7)\n",
            "Debug: Frame 205 - Crowd detected (size: 3)\n"
          ]
        },
        {
          "output_type": "stream",
          "name": "stderr",
          "text": [
            "\rProcessing frames:  61%|██████    | 207/341 [01:08<00:47,  2.80it/s]"
          ]
        },
        {
          "output_type": "stream",
          "name": "stdout",
          "text": [
            "Debug: Frame 206 - 35 persons detected\n",
            "Debug: Frame 206 - 2 clusters found\n",
            "Debug: Frame 206 - Crowd detected (size: 7)\n",
            "Debug: Frame 206 - Crowd detected (size: 3)\n"
          ]
        },
        {
          "output_type": "stream",
          "name": "stderr",
          "text": [
            "\rProcessing frames:  61%|██████    | 208/341 [01:09<00:50,  2.64it/s]"
          ]
        },
        {
          "output_type": "stream",
          "name": "stdout",
          "text": [
            "Debug: Frame 207 - 35 persons detected\n",
            "Debug: Frame 207 - 2 clusters found\n",
            "Debug: Frame 207 - Crowd detected (size: 7)\n",
            "Debug: Frame 207 - Crowd detected (size: 3)\n"
          ]
        },
        {
          "output_type": "stream",
          "name": "stderr",
          "text": [
            "\rProcessing frames:  61%|██████▏   | 209/341 [01:09<00:55,  2.40it/s]"
          ]
        },
        {
          "output_type": "stream",
          "name": "stdout",
          "text": [
            "Debug: Frame 208 - 36 persons detected\n",
            "Debug: Frame 208 - 2 clusters found\n",
            "Debug: Frame 208 - Crowd detected (size: 7)\n",
            "Debug: Frame 208 - Crowd detected (size: 3)\n"
          ]
        },
        {
          "output_type": "stream",
          "name": "stderr",
          "text": [
            "\rProcessing frames:  62%|██████▏   | 210/341 [01:10<00:56,  2.31it/s]"
          ]
        },
        {
          "output_type": "stream",
          "name": "stdout",
          "text": [
            "Debug: Frame 209 - 34 persons detected\n",
            "Debug: Frame 209 - 2 clusters found\n",
            "Debug: Frame 209 - Crowd detected (size: 6)\n",
            "Debug: Frame 209 - Crowd detected (size: 3)\n"
          ]
        },
        {
          "output_type": "stream",
          "name": "stderr",
          "text": [
            "\rProcessing frames:  62%|██████▏   | 211/341 [01:10<00:57,  2.28it/s]"
          ]
        },
        {
          "output_type": "stream",
          "name": "stdout",
          "text": [
            "Debug: Frame 210 - 34 persons detected\n",
            "Debug: Frame 210 - 2 clusters found\n",
            "Debug: Frame 210 - Crowd detected (size: 6)\n",
            "Debug: Frame 210 - Crowd detected (size: 3)\n"
          ]
        },
        {
          "output_type": "stream",
          "name": "stderr",
          "text": [
            "\rProcessing frames:  62%|██████▏   | 212/341 [01:11<00:52,  2.47it/s]"
          ]
        },
        {
          "output_type": "stream",
          "name": "stdout",
          "text": [
            "Debug: Frame 211 - 33 persons detected\n",
            "Debug: Frame 211 - 2 clusters found\n",
            "Debug: Frame 211 - Crowd detected (size: 6)\n",
            "Debug: Frame 211 - Crowd detected (size: 3)\n"
          ]
        },
        {
          "output_type": "stream",
          "name": "stderr",
          "text": [
            "\rProcessing frames:  62%|██████▏   | 213/341 [01:11<00:47,  2.69it/s]"
          ]
        },
        {
          "output_type": "stream",
          "name": "stdout",
          "text": [
            "Debug: Frame 212 - 33 persons detected\n",
            "Debug: Frame 212 - 2 clusters found\n",
            "Debug: Frame 212 - Crowd detected (size: 6)\n",
            "Debug: Frame 212 - Crowd detected (size: 3)\n"
          ]
        },
        {
          "output_type": "stream",
          "name": "stderr",
          "text": [
            "\rProcessing frames:  63%|██████▎   | 214/341 [01:11<00:43,  2.95it/s]"
          ]
        },
        {
          "output_type": "stream",
          "name": "stdout",
          "text": [
            "Debug: Frame 213 - 33 persons detected\n",
            "Debug: Frame 213 - 2 clusters found\n",
            "Debug: Frame 213 - Crowd detected (size: 6)\n",
            "Debug: Frame 213 - Crowd detected (size: 3)\n"
          ]
        },
        {
          "output_type": "stream",
          "name": "stderr",
          "text": [
            "\rProcessing frames:  63%|██████▎   | 215/341 [01:11<00:39,  3.15it/s]"
          ]
        },
        {
          "output_type": "stream",
          "name": "stdout",
          "text": [
            "Debug: Frame 214 - 34 persons detected\n",
            "Debug: Frame 214 - 3 clusters found\n",
            "Debug: Frame 214 - Crowd detected (size: 6)\n",
            "Debug: Frame 214 - Crowd detected (size: 3)\n"
          ]
        },
        {
          "output_type": "stream",
          "name": "stderr",
          "text": [
            "\rProcessing frames:  63%|██████▎   | 216/341 [01:12<00:38,  3.25it/s]"
          ]
        },
        {
          "output_type": "stream",
          "name": "stdout",
          "text": [
            "Debug: Frame 215 - 34 persons detected\n",
            "Debug: Frame 215 - 2 clusters found\n",
            "Debug: Frame 215 - Crowd detected (size: 4)\n",
            "Debug: Frame 215 - Crowd detected (size: 6)\n"
          ]
        },
        {
          "output_type": "stream",
          "name": "stderr",
          "text": [
            "\rProcessing frames:  64%|██████▎   | 217/341 [01:12<00:36,  3.39it/s]"
          ]
        },
        {
          "output_type": "stream",
          "name": "stdout",
          "text": [
            "Debug: Frame 216 - 33 persons detected\n",
            "Debug: Frame 216 - 2 clusters found\n",
            "Debug: Frame 216 - Crowd detected (size: 6)\n",
            "Debug: Frame 216 - Crowd detected (size: 3)\n"
          ]
        },
        {
          "output_type": "stream",
          "name": "stderr",
          "text": [
            "\rProcessing frames:  64%|██████▍   | 218/341 [01:12<00:35,  3.49it/s]"
          ]
        },
        {
          "output_type": "stream",
          "name": "stdout",
          "text": [
            "Debug: Frame 217 - 35 persons detected\n",
            "Debug: Frame 217 - 3 clusters found\n",
            "Debug: Frame 217 - Crowd detected (size: 6)\n",
            "Debug: Frame 217 - Crowd detected (size: 3)\n"
          ]
        },
        {
          "output_type": "stream",
          "name": "stderr",
          "text": [
            "\rProcessing frames:  64%|██████▍   | 219/341 [01:12<00:34,  3.58it/s]"
          ]
        },
        {
          "output_type": "stream",
          "name": "stdout",
          "text": [
            "Debug: Frame 218 - 34 persons detected\n",
            "Debug: Frame 218 - 2 clusters found\n",
            "Debug: Frame 218 - Crowd detected (size: 7)\n",
            "Debug: Frame 218 - Crowd detected (size: 3)\n"
          ]
        },
        {
          "output_type": "stream",
          "name": "stderr",
          "text": [
            "\rProcessing frames:  65%|██████▍   | 220/341 [01:13<00:33,  3.58it/s]"
          ]
        },
        {
          "output_type": "stream",
          "name": "stdout",
          "text": [
            "Debug: Frame 219 - 35 persons detected\n",
            "Debug: Frame 219 - 2 clusters found\n",
            "Debug: Frame 219 - Crowd detected (size: 7)\n",
            "Debug: Frame 219 - Crowd detected (size: 3)\n"
          ]
        },
        {
          "output_type": "stream",
          "name": "stderr",
          "text": [
            "\rProcessing frames:  65%|██████▍   | 221/341 [01:13<00:33,  3.63it/s]"
          ]
        },
        {
          "output_type": "stream",
          "name": "stdout",
          "text": [
            "Debug: Frame 220 - 34 persons detected\n",
            "Debug: Frame 220 - 2 clusters found\n",
            "Debug: Frame 220 - Crowd detected (size: 7)\n",
            "Debug: Frame 220 - Crowd detected (size: 3)\n"
          ]
        },
        {
          "output_type": "stream",
          "name": "stderr",
          "text": [
            "\rProcessing frames:  65%|██████▌   | 222/341 [01:13<00:32,  3.67it/s]"
          ]
        },
        {
          "output_type": "stream",
          "name": "stdout",
          "text": [
            "Debug: Frame 221 - 33 persons detected\n",
            "Debug: Frame 221 - 2 clusters found\n",
            "Debug: Frame 221 - Crowd detected (size: 7)\n",
            "Debug: Frame 221 - Crowd detected (size: 3)\n"
          ]
        },
        {
          "output_type": "stream",
          "name": "stderr",
          "text": [
            "\rProcessing frames:  65%|██████▌   | 223/341 [01:13<00:32,  3.67it/s]"
          ]
        },
        {
          "output_type": "stream",
          "name": "stdout",
          "text": [
            "Debug: Frame 222 - 35 persons detected\n",
            "Debug: Frame 222 - 2 clusters found\n",
            "Debug: Frame 222 - Crowd detected (size: 8)\n",
            "Debug: Frame 222 - Crowd detected (size: 3)\n"
          ]
        },
        {
          "output_type": "stream",
          "name": "stderr",
          "text": [
            "\rProcessing frames:  66%|██████▌   | 224/341 [01:14<00:32,  3.65it/s]"
          ]
        },
        {
          "output_type": "stream",
          "name": "stdout",
          "text": [
            "Debug: Frame 223 - 34 persons detected\n",
            "Debug: Frame 223 - 2 clusters found\n",
            "Debug: Frame 223 - Crowd detected (size: 8)\n",
            "Debug: Frame 223 - Crowd detected (size: 3)\n"
          ]
        },
        {
          "output_type": "stream",
          "name": "stderr",
          "text": [
            "\rProcessing frames:  66%|██████▌   | 225/341 [01:14<00:32,  3.52it/s]"
          ]
        },
        {
          "output_type": "stream",
          "name": "stdout",
          "text": [
            "Debug: Frame 224 - 34 persons detected\n",
            "Debug: Frame 224 - 2 clusters found\n",
            "Debug: Frame 224 - Crowd detected (size: 8)\n",
            "Debug: Frame 224 - Crowd detected (size: 3)\n"
          ]
        },
        {
          "output_type": "stream",
          "name": "stderr",
          "text": [
            "\rProcessing frames:  66%|██████▋   | 226/341 [01:14<00:33,  3.47it/s]"
          ]
        },
        {
          "output_type": "stream",
          "name": "stdout",
          "text": [
            "Debug: Frame 225 - 35 persons detected\n",
            "Debug: Frame 225 - 2 clusters found\n",
            "Debug: Frame 225 - Crowd detected (size: 9)\n",
            "Debug: Frame 225 - Crowd detected (size: 3)\n"
          ]
        },
        {
          "output_type": "stream",
          "name": "stderr",
          "text": [
            "\rProcessing frames:  67%|██████▋   | 227/341 [01:15<00:33,  3.38it/s]"
          ]
        },
        {
          "output_type": "stream",
          "name": "stdout",
          "text": [
            "Debug: Frame 226 - 33 persons detected\n",
            "Debug: Frame 226 - 2 clusters found\n",
            "Debug: Frame 226 - Crowd detected (size: 7)\n",
            "Debug: Frame 226 - Crowd detected (size: 3)\n"
          ]
        },
        {
          "output_type": "stream",
          "name": "stderr",
          "text": [
            "\rProcessing frames:  67%|██████▋   | 228/341 [01:15<00:32,  3.43it/s]"
          ]
        },
        {
          "output_type": "stream",
          "name": "stdout",
          "text": [
            "Debug: Frame 227 - 31 persons detected\n",
            "Debug: Frame 227 - 2 clusters found\n",
            "Debug: Frame 227 - Crowd detected (size: 7)\n",
            "Debug: Frame 227 - Crowd detected (size: 3)\n"
          ]
        },
        {
          "output_type": "stream",
          "name": "stderr",
          "text": [
            "\rProcessing frames:  67%|██████▋   | 229/341 [01:15<00:31,  3.52it/s]"
          ]
        },
        {
          "output_type": "stream",
          "name": "stdout",
          "text": [
            "Debug: Frame 228 - 31 persons detected\n",
            "Debug: Frame 228 - 2 clusters found\n",
            "Debug: Frame 228 - Crowd detected (size: 7)\n",
            "Debug: Frame 228 - Crowd detected (size: 3)\n"
          ]
        },
        {
          "output_type": "stream",
          "name": "stderr",
          "text": [
            "\rProcessing frames:  67%|██████▋   | 230/341 [01:16<00:31,  3.56it/s]"
          ]
        },
        {
          "output_type": "stream",
          "name": "stdout",
          "text": [
            "Debug: Frame 229 - 29 persons detected\n",
            "Debug: Frame 229 - 2 clusters found\n",
            "Debug: Frame 229 - Crowd detected (size: 3)\n",
            "Debug: Frame 229 - Crowd detected (size: 4)\n"
          ]
        },
        {
          "output_type": "stream",
          "name": "stderr",
          "text": [
            "\rProcessing frames:  68%|██████▊   | 231/341 [01:16<00:30,  3.56it/s]"
          ]
        },
        {
          "output_type": "stream",
          "name": "stdout",
          "text": [
            "Debug: Frame 230 - 30 persons detected\n",
            "Debug: Frame 230 - 3 clusters found\n",
            "Debug: Frame 230 - Crowd detected (size: 3)\n",
            "Debug: Frame 230 - Crowd detected (size: 4)\n"
          ]
        },
        {
          "output_type": "stream",
          "name": "stderr",
          "text": [
            "\rProcessing frames:  68%|██████▊   | 232/341 [01:16<00:30,  3.60it/s]"
          ]
        },
        {
          "output_type": "stream",
          "name": "stdout",
          "text": [
            "Debug: Frame 231 - 31 persons detected\n",
            "Debug: Frame 231 - 2 clusters found\n",
            "Debug: Frame 231 - Crowd detected (size: 3)\n",
            "Debug: Frame 231 - Crowd detected (size: 4)\n"
          ]
        },
        {
          "output_type": "stream",
          "name": "stderr",
          "text": [
            "\rProcessing frames:  68%|██████▊   | 233/341 [01:16<00:29,  3.63it/s]"
          ]
        },
        {
          "output_type": "stream",
          "name": "stdout",
          "text": [
            "Debug: Frame 232 - 31 persons detected\n",
            "Debug: Frame 232 - 2 clusters found\n",
            "Debug: Frame 232 - Crowd detected (size: 3)\n",
            "Debug: Frame 232 - Crowd detected (size: 4)\n"
          ]
        },
        {
          "output_type": "stream",
          "name": "stderr",
          "text": [
            "\rProcessing frames:  69%|██████▊   | 234/341 [01:17<00:29,  3.66it/s]"
          ]
        },
        {
          "output_type": "stream",
          "name": "stdout",
          "text": [
            "Debug: Frame 233 - 31 persons detected\n",
            "Debug: Frame 233 - 3 clusters found\n",
            "Debug: Frame 233 - Crowd detected (size: 3)\n",
            "Debug: Frame 233 - Crowd detected (size: 4)\n"
          ]
        },
        {
          "output_type": "stream",
          "name": "stderr",
          "text": [
            "\rProcessing frames:  69%|██████▉   | 235/341 [01:17<00:29,  3.65it/s]"
          ]
        },
        {
          "output_type": "stream",
          "name": "stdout",
          "text": [
            "Debug: Frame 234 - 31 persons detected\n",
            "Debug: Frame 234 - 1 clusters found\n",
            "Debug: Frame 234 - Crowd detected (size: 3)\n"
          ]
        },
        {
          "output_type": "stream",
          "name": "stderr",
          "text": [
            "\rProcessing frames:  69%|██████▉   | 236/341 [01:17<00:28,  3.69it/s]"
          ]
        },
        {
          "output_type": "stream",
          "name": "stdout",
          "text": [
            "Debug: Frame 235 - 31 persons detected\n",
            "Debug: Frame 235 - 1 clusters found\n",
            "Debug: Frame 235 - Crowd detected (size: 3)\n"
          ]
        },
        {
          "output_type": "stream",
          "name": "stderr",
          "text": [
            "\rProcessing frames:  70%|██████▉   | 237/341 [01:17<00:27,  3.73it/s]"
          ]
        },
        {
          "output_type": "stream",
          "name": "stdout",
          "text": [
            "Debug: Frame 236 - 32 persons detected\n",
            "Debug: Frame 236 - 2 clusters found\n",
            "Debug: Frame 236 - Crowd detected (size: 3)\n"
          ]
        },
        {
          "output_type": "stream",
          "name": "stderr",
          "text": [
            "\rProcessing frames:  70%|██████▉   | 238/341 [01:18<00:27,  3.75it/s]"
          ]
        },
        {
          "output_type": "stream",
          "name": "stdout",
          "text": [
            "Debug: Frame 237 - 31 persons detected\n",
            "Debug: Frame 237 - 1 clusters found\n",
            "Debug: Frame 237 - Crowd detected (size: 3)\n"
          ]
        },
        {
          "output_type": "stream",
          "name": "stderr",
          "text": [
            "\rProcessing frames:  70%|███████   | 239/341 [01:18<00:27,  3.69it/s]"
          ]
        },
        {
          "output_type": "stream",
          "name": "stdout",
          "text": [
            "Debug: Frame 238 - 29 persons detected\n",
            "Debug: Frame 238 - 1 clusters found\n",
            "Debug: Frame 238 - Crowd detected (size: 3)\n"
          ]
        },
        {
          "output_type": "stream",
          "name": "stderr",
          "text": [
            "\rProcessing frames:  70%|███████   | 240/341 [01:18<00:27,  3.63it/s]"
          ]
        },
        {
          "output_type": "stream",
          "name": "stdout",
          "text": [
            "Debug: Frame 239 - 29 persons detected\n",
            "Debug: Frame 239 - 1 clusters found\n",
            "Debug: Frame 239 - Crowd detected (size: 3)\n"
          ]
        },
        {
          "output_type": "stream",
          "name": "stderr",
          "text": [
            "\rProcessing frames:  71%|███████   | 241/341 [01:19<00:28,  3.52it/s]"
          ]
        },
        {
          "output_type": "stream",
          "name": "stdout",
          "text": [
            "Debug: Frame 240 - 30 persons detected\n",
            "Debug: Frame 240 - 1 clusters found\n",
            "Debug: Frame 240 - Crowd detected (size: 3)\n"
          ]
        },
        {
          "output_type": "stream",
          "name": "stderr",
          "text": [
            "\rProcessing frames:  71%|███████   | 242/341 [01:19<00:28,  3.47it/s]"
          ]
        },
        {
          "output_type": "stream",
          "name": "stdout",
          "text": [
            "Debug: Frame 241 - 30 persons detected\n",
            "Debug: Frame 241 - 1 clusters found\n",
            "Debug: Frame 241 - Crowd detected (size: 3)\n"
          ]
        },
        {
          "output_type": "stream",
          "name": "stderr",
          "text": [
            "\rProcessing frames:  71%|███████▏  | 243/341 [01:19<00:27,  3.50it/s]"
          ]
        },
        {
          "output_type": "stream",
          "name": "stdout",
          "text": [
            "Debug: Frame 242 - 29 persons detected\n",
            "Debug: Frame 242 - 1 clusters found\n",
            "Debug: Frame 242 - Crowd detected (size: 3)\n"
          ]
        },
        {
          "output_type": "stream",
          "name": "stderr",
          "text": [
            "\rProcessing frames:  72%|███████▏  | 244/341 [01:19<00:27,  3.56it/s]"
          ]
        },
        {
          "output_type": "stream",
          "name": "stdout",
          "text": [
            "Debug: Frame 243 - 28 persons detected\n",
            "Debug: Frame 243 - 2 clusters found\n",
            "Debug: Frame 243 - Crowd detected (size: 3)\n"
          ]
        },
        {
          "output_type": "stream",
          "name": "stderr",
          "text": [
            "\rProcessing frames:  72%|███████▏  | 245/341 [01:20<00:26,  3.57it/s]"
          ]
        },
        {
          "output_type": "stream",
          "name": "stdout",
          "text": [
            "Debug: Frame 244 - 26 persons detected\n",
            "Debug: Frame 244 - 1 clusters found\n",
            "Debug: Frame 244 - Crowd detected (size: 3)\n"
          ]
        },
        {
          "output_type": "stream",
          "name": "stderr",
          "text": [
            "\rProcessing frames:  72%|███████▏  | 246/341 [01:20<00:26,  3.59it/s]"
          ]
        },
        {
          "output_type": "stream",
          "name": "stdout",
          "text": [
            "Debug: Frame 245 - 29 persons detected\n",
            "Debug: Frame 245 - 2 clusters found\n",
            "Debug: Frame 245 - Crowd detected (size: 4)\n"
          ]
        },
        {
          "output_type": "stream",
          "name": "stderr",
          "text": [
            "\rProcessing frames:  72%|███████▏  | 247/341 [01:20<00:25,  3.66it/s]"
          ]
        },
        {
          "output_type": "stream",
          "name": "stdout",
          "text": [
            "Debug: Frame 246 - 28 persons detected\n",
            "Debug: Frame 246 - 1 clusters found\n",
            "Debug: Frame 246 - Crowd detected (size: 4)\n"
          ]
        },
        {
          "output_type": "stream",
          "name": "stderr",
          "text": [
            "\rProcessing frames:  73%|███████▎  | 248/341 [01:21<00:29,  3.18it/s]"
          ]
        },
        {
          "output_type": "stream",
          "name": "stdout",
          "text": [
            "Debug: Frame 247 - 27 persons detected\n",
            "Debug: Frame 247 - 1 clusters found\n",
            "Debug: Frame 247 - Crowd detected (size: 3)\n"
          ]
        },
        {
          "output_type": "stream",
          "name": "stderr",
          "text": [
            "\rProcessing frames:  73%|███████▎  | 249/341 [01:21<00:32,  2.83it/s]"
          ]
        },
        {
          "output_type": "stream",
          "name": "stdout",
          "text": [
            "Debug: Frame 248 - 27 persons detected\n",
            "Debug: Frame 248 - 1 clusters found\n",
            "Debug: Frame 248 - Crowd detected (size: 3)\n"
          ]
        },
        {
          "output_type": "stream",
          "name": "stderr",
          "text": [
            "\rProcessing frames:  73%|███████▎  | 250/341 [01:22<00:35,  2.58it/s]"
          ]
        },
        {
          "output_type": "stream",
          "name": "stdout",
          "text": [
            "Debug: Frame 249 - 29 persons detected\n",
            "Debug: Frame 249 - 1 clusters found\n",
            "Debug: Frame 249 - Crowd detected (size: 3)\n"
          ]
        },
        {
          "output_type": "stream",
          "name": "stderr",
          "text": [
            "\rProcessing frames:  74%|███████▎  | 251/341 [01:22<00:36,  2.47it/s]"
          ]
        },
        {
          "output_type": "stream",
          "name": "stdout",
          "text": [
            "Debug: Frame 250 - 28 persons detected\n",
            "Debug: Frame 250 - 1 clusters found\n",
            "Debug: Frame 250 - Crowd detected (size: 3)\n"
          ]
        },
        {
          "output_type": "stream",
          "name": "stderr",
          "text": [
            "\rProcessing frames:  74%|███████▍  | 252/341 [01:22<00:37,  2.36it/s]"
          ]
        },
        {
          "output_type": "stream",
          "name": "stdout",
          "text": [
            "Debug: Frame 251 - 28 persons detected\n",
            "Debug: Frame 251 - 1 clusters found\n",
            "Debug: Frame 251 - Crowd detected (size: 3)\n"
          ]
        },
        {
          "output_type": "stream",
          "name": "stderr",
          "text": [
            "\rProcessing frames:  74%|███████▍  | 253/341 [01:23<00:38,  2.29it/s]"
          ]
        },
        {
          "output_type": "stream",
          "name": "stdout",
          "text": [
            "Debug: Frame 252 - 31 persons detected\n",
            "Debug: Frame 252 - 1 clusters found\n",
            "Debug: Frame 252 - Crowd detected (size: 3)\n"
          ]
        },
        {
          "output_type": "stream",
          "name": "stderr",
          "text": [
            "\rProcessing frames:  74%|███████▍  | 254/341 [01:23<00:36,  2.38it/s]"
          ]
        },
        {
          "output_type": "stream",
          "name": "stdout",
          "text": [
            "Debug: Frame 253 - 31 persons detected\n",
            "Debug: Frame 253 - 1 clusters found\n",
            "Debug: Frame 253 - Crowd detected (size: 3)\n"
          ]
        },
        {
          "output_type": "stream",
          "name": "stderr",
          "text": [
            "\rProcessing frames:  75%|███████▍  | 255/341 [01:24<00:32,  2.62it/s]"
          ]
        },
        {
          "output_type": "stream",
          "name": "stdout",
          "text": [
            "Debug: Frame 254 - 31 persons detected\n",
            "Debug: Frame 254 - 1 clusters found\n",
            "Debug: Frame 254 - Crowd detected (size: 3)\n"
          ]
        },
        {
          "output_type": "stream",
          "name": "stderr",
          "text": [
            "\rProcessing frames:  75%|███████▌  | 256/341 [01:24<00:30,  2.80it/s]"
          ]
        },
        {
          "output_type": "stream",
          "name": "stdout",
          "text": [
            "Debug: Frame 255 - 30 persons detected\n",
            "Debug: Frame 255 - 2 clusters found\n",
            "Debug: Frame 255 - Crowd detected (size: 3)\n"
          ]
        },
        {
          "output_type": "stream",
          "name": "stderr",
          "text": [
            "\rProcessing frames:  75%|███████▌  | 257/341 [01:24<00:28,  2.90it/s]"
          ]
        },
        {
          "output_type": "stream",
          "name": "stdout",
          "text": [
            "Debug: Frame 256 - 30 persons detected\n",
            "Debug: Frame 256 - 2 clusters found\n",
            "Debug: Frame 256 - Crowd detected (size: 3)\n"
          ]
        },
        {
          "output_type": "stream",
          "name": "stderr",
          "text": [
            "\rProcessing frames:  76%|███████▌  | 258/341 [01:24<00:27,  3.02it/s]"
          ]
        },
        {
          "output_type": "stream",
          "name": "stdout",
          "text": [
            "Debug: Frame 257 - 31 persons detected\n",
            "Debug: Frame 257 - 2 clusters found\n",
            "Debug: Frame 257 - Crowd detected (size: 3)\n"
          ]
        },
        {
          "output_type": "stream",
          "name": "stderr",
          "text": [
            "\rProcessing frames:  76%|███████▌  | 259/341 [01:25<00:26,  3.12it/s]"
          ]
        },
        {
          "output_type": "stream",
          "name": "stdout",
          "text": [
            "Debug: Frame 258 - 31 persons detected\n",
            "Debug: Frame 258 - 2 clusters found\n",
            "Debug: Frame 258 - Crowd detected (size: 3)\n"
          ]
        },
        {
          "output_type": "stream",
          "name": "stderr",
          "text": [
            "\rProcessing frames:  76%|███████▌  | 260/341 [01:26<00:38,  2.11it/s]"
          ]
        },
        {
          "output_type": "stream",
          "name": "stdout",
          "text": [
            "Debug: Frame 259 - 31 persons detected\n",
            "Debug: Frame 259 - 2 clusters found\n",
            "Debug: Frame 259 - Crowd detected (size: 3)\n"
          ]
        },
        {
          "output_type": "stream",
          "name": "stderr",
          "text": [
            "\rProcessing frames:  77%|███████▋  | 261/341 [01:26<00:33,  2.39it/s]"
          ]
        },
        {
          "output_type": "stream",
          "name": "stdout",
          "text": [
            "Debug: Frame 260 - 31 persons detected\n",
            "Debug: Frame 260 - 2 clusters found\n",
            "Debug: Frame 260 - Crowd detected (size: 3)\n"
          ]
        },
        {
          "output_type": "stream",
          "name": "stderr",
          "text": [
            "\rProcessing frames:  77%|███████▋  | 262/341 [01:27<00:40,  1.93it/s]"
          ]
        },
        {
          "output_type": "stream",
          "name": "stdout",
          "text": [
            "Debug: Frame 261 - 31 persons detected\n",
            "Debug: Frame 261 - 2 clusters found\n",
            "Debug: Frame 261 - Crowd detected (size: 3)\n"
          ]
        },
        {
          "output_type": "stream",
          "name": "stderr",
          "text": [
            "\rProcessing frames:  77%|███████▋  | 263/341 [01:27<00:36,  2.13it/s]"
          ]
        },
        {
          "output_type": "stream",
          "name": "stdout",
          "text": [
            "Debug: Frame 262 - 31 persons detected\n",
            "Debug: Frame 262 - 2 clusters found\n",
            "Debug: Frame 262 - Crowd detected (size: 3)\n"
          ]
        },
        {
          "output_type": "stream",
          "name": "stderr",
          "text": [
            "\rProcessing frames:  77%|███████▋  | 264/341 [01:27<00:32,  2.39it/s]"
          ]
        },
        {
          "output_type": "stream",
          "name": "stdout",
          "text": [
            "Debug: Frame 263 - 33 persons detected\n",
            "Debug: Frame 263 - 4 clusters found\n",
            "Debug: Frame 263 - Crowd detected (size: 3)\n"
          ]
        },
        {
          "output_type": "stream",
          "name": "stderr",
          "text": [
            "\rProcessing frames:  78%|███████▊  | 265/341 [01:28<00:28,  2.68it/s]"
          ]
        },
        {
          "output_type": "stream",
          "name": "stdout",
          "text": [
            "Debug: Frame 264 - 34 persons detected\n",
            "Debug: Frame 264 - 4 clusters found\n",
            "Debug: Frame 264 - Crowd detected (size: 3)\n",
            "Debug: Frame 264 - Crowd detected (size: 3)\n"
          ]
        },
        {
          "output_type": "stream",
          "name": "stderr",
          "text": [
            "\rProcessing frames:  78%|███████▊  | 266/341 [01:28<00:25,  2.91it/s]"
          ]
        },
        {
          "output_type": "stream",
          "name": "stdout",
          "text": [
            "Debug: Frame 265 - 35 persons detected\n",
            "Debug: Frame 265 - 4 clusters found\n",
            "Debug: Frame 265 - Crowd detected (size: 4)\n",
            "Debug: Frame 265 - Crowd detected (size: 3)\n"
          ]
        },
        {
          "output_type": "stream",
          "name": "stderr",
          "text": [
            "\rProcessing frames:  78%|███████▊  | 267/341 [01:28<00:23,  3.13it/s]"
          ]
        },
        {
          "output_type": "stream",
          "name": "stdout",
          "text": [
            "Debug: Frame 266 - 34 persons detected\n",
            "Debug: Frame 266 - 4 clusters found\n",
            "Debug: Frame 266 - Crowd detected (size: 3)\n",
            "Debug: Frame 266 - Crowd detected (size: 3)\n"
          ]
        },
        {
          "output_type": "stream",
          "name": "stderr",
          "text": [
            "\rProcessing frames:  79%|███████▊  | 268/341 [01:28<00:23,  3.11it/s]"
          ]
        },
        {
          "output_type": "stream",
          "name": "stdout",
          "text": [
            "Debug: Frame 267 - 34 persons detected\n",
            "Debug: Frame 267 - 3 clusters found\n",
            "Debug: Frame 267 - Crowd detected (size: 3)\n",
            "Debug: Frame 267 - Crowd detected (size: 3)\n"
          ]
        },
        {
          "output_type": "stream",
          "name": "stderr",
          "text": [
            "\rProcessing frames:  79%|███████▉  | 269/341 [01:29<00:22,  3.14it/s]"
          ]
        },
        {
          "output_type": "stream",
          "name": "stdout",
          "text": [
            "Debug: Frame 268 - 30 persons detected\n",
            "Debug: Frame 268 - 3 clusters found\n",
            "Debug: Frame 268 - Crowd detected (size: 3)\n",
            "Debug: Frame 268 - Crowd detected (size: 3)\n"
          ]
        },
        {
          "output_type": "stream",
          "name": "stderr",
          "text": [
            "\rProcessing frames:  79%|███████▉  | 270/341 [01:29<00:22,  3.14it/s]"
          ]
        },
        {
          "output_type": "stream",
          "name": "stdout",
          "text": [
            "Debug: Frame 269 - 30 persons detected\n",
            "Debug: Frame 269 - 3 clusters found\n",
            "Debug: Frame 269 - Crowd detected (size: 3)\n",
            "Debug: Frame 269 - Crowd detected (size: 3)\n"
          ]
        },
        {
          "output_type": "stream",
          "name": "stderr",
          "text": [
            "\rProcessing frames:  79%|███████▉  | 271/341 [01:29<00:22,  3.11it/s]"
          ]
        },
        {
          "output_type": "stream",
          "name": "stdout",
          "text": [
            "Debug: Frame 270 - 34 persons detected\n",
            "Debug: Frame 270 - 3 clusters found\n",
            "Debug: Frame 270 - Crowd detected (size: 3)\n",
            "Debug: Frame 270 - Crowd detected (size: 3)\n"
          ]
        },
        {
          "output_type": "stream",
          "name": "stderr",
          "text": [
            "\rProcessing frames:  80%|███████▉  | 272/341 [01:30<00:21,  3.16it/s]"
          ]
        },
        {
          "output_type": "stream",
          "name": "stdout",
          "text": [
            "Debug: Frame 271 - 30 persons detected\n",
            "Debug: Frame 271 - 3 clusters found\n",
            "Debug: Frame 271 - Crowd detected (size: 3)\n",
            "Debug: Frame 271 - Crowd detected (size: 3)\n"
          ]
        },
        {
          "output_type": "stream",
          "name": "stderr",
          "text": [
            "\rProcessing frames:  80%|████████  | 273/341 [01:30<00:21,  3.19it/s]"
          ]
        },
        {
          "output_type": "stream",
          "name": "stdout",
          "text": [
            "Debug: Frame 272 - 30 persons detected\n",
            "Debug: Frame 272 - 3 clusters found\n",
            "Debug: Frame 272 - Crowd detected (size: 3)\n",
            "Debug: Frame 272 - Crowd detected (size: 3)\n",
            "Debug: Frame 272 - Crowd detected (size: 3)\n"
          ]
        },
        {
          "output_type": "stream",
          "name": "stderr",
          "text": [
            "\rProcessing frames:  80%|████████  | 274/341 [01:30<00:20,  3.25it/s]"
          ]
        },
        {
          "output_type": "stream",
          "name": "stdout",
          "text": [
            "Debug: Frame 273 - 31 persons detected\n",
            "Debug: Frame 273 - 3 clusters found\n",
            "Debug: Frame 273 - Crowd detected (size: 3)\n",
            "Debug: Frame 273 - Crowd detected (size: 3)\n",
            "Debug: Frame 273 - Crowd detected (size: 3)\n"
          ]
        },
        {
          "output_type": "stream",
          "name": "stderr",
          "text": [
            "\rProcessing frames:  81%|████████  | 275/341 [01:31<00:20,  3.23it/s]"
          ]
        },
        {
          "output_type": "stream",
          "name": "stdout",
          "text": [
            "Debug: Frame 274 - 29 persons detected\n",
            "Debug: Frame 274 - 3 clusters found\n",
            "Debug: Frame 274 - Crowd detected (size: 3)\n",
            "Debug: Frame 274 - Crowd detected (size: 3)\n",
            "Debug: Frame 274 - Crowd detected (size: 3)\n"
          ]
        },
        {
          "output_type": "stream",
          "name": "stderr",
          "text": [
            "\rProcessing frames:  81%|████████  | 276/341 [01:31<00:20,  3.23it/s]"
          ]
        },
        {
          "output_type": "stream",
          "name": "stdout",
          "text": [
            "Debug: Frame 275 - 28 persons detected\n",
            "Debug: Frame 275 - 3 clusters found\n",
            "Debug: Frame 275 - Crowd detected (size: 3)\n",
            "Debug: Frame 275 - Crowd detected (size: 3)\n",
            "Debug: Frame 275 - Crowd detected (size: 4)\n"
          ]
        },
        {
          "output_type": "stream",
          "name": "stderr",
          "text": [
            "\rProcessing frames:  81%|████████  | 277/341 [01:31<00:20,  3.16it/s]"
          ]
        },
        {
          "output_type": "stream",
          "name": "stdout",
          "text": [
            "Debug: Frame 276 - 29 persons detected\n",
            "Debug: Frame 276 - 3 clusters found\n",
            "Debug: Frame 276 - Crowd detected (size: 3)\n",
            "Debug: Frame 276 - Crowd detected (size: 3)\n",
            "Debug: Frame 276 - Crowd detected (size: 4)\n"
          ]
        },
        {
          "output_type": "stream",
          "name": "stderr",
          "text": [
            "\rProcessing frames:  82%|████████▏ | 278/341 [01:32<00:19,  3.15it/s]"
          ]
        },
        {
          "output_type": "stream",
          "name": "stdout",
          "text": [
            "Debug: Frame 277 - 32 persons detected\n",
            "Debug: Frame 277 - 4 clusters found\n",
            "Debug: Frame 277 - Crowd detected (size: 5)\n",
            "Debug: Frame 277 - Crowd detected (size: 3)\n",
            "Debug: Frame 277 - Crowd detected (size: 4)\n"
          ]
        },
        {
          "output_type": "stream",
          "name": "stderr",
          "text": [
            "\rProcessing frames:  82%|████████▏ | 279/341 [01:32<00:19,  3.24it/s]"
          ]
        },
        {
          "output_type": "stream",
          "name": "stdout",
          "text": [
            "Debug: Frame 278 - 33 persons detected\n",
            "Debug: Frame 278 - 3 clusters found\n",
            "Debug: Frame 278 - Crowd detected (size: 3)\n",
            "Debug: Frame 278 - Crowd detected (size: 6)\n",
            "Debug: Frame 278 - Crowd detected (size: 4)\n"
          ]
        },
        {
          "output_type": "stream",
          "name": "stderr",
          "text": [
            "\rProcessing frames:  82%|████████▏ | 280/341 [01:32<00:18,  3.27it/s]"
          ]
        },
        {
          "output_type": "stream",
          "name": "stdout",
          "text": [
            "Debug: Frame 279 - 31 persons detected\n",
            "Debug: Frame 279 - 4 clusters found\n",
            "Debug: Frame 279 - Crowd detected (size: 4)\n",
            "Debug: Frame 279 - Crowd detected (size: 3)\n",
            "Debug: Frame 279 - Crowd detected (size: 4)\n"
          ]
        },
        {
          "output_type": "stream",
          "name": "stderr",
          "text": [
            "\rProcessing frames:  82%|████████▏ | 281/341 [01:32<00:18,  3.32it/s]"
          ]
        },
        {
          "output_type": "stream",
          "name": "stdout",
          "text": [
            "Debug: Frame 280 - 31 persons detected\n",
            "Debug: Frame 280 - 4 clusters found\n",
            "Debug: Frame 280 - Crowd detected (size: 4)\n",
            "Debug: Frame 280 - Crowd detected (size: 3)\n",
            "Debug: Frame 280 - Crowd detected (size: 4)\n"
          ]
        },
        {
          "output_type": "stream",
          "name": "stderr",
          "text": [
            "\rProcessing frames:  83%|████████▎ | 282/341 [01:33<00:17,  3.29it/s]"
          ]
        },
        {
          "output_type": "stream",
          "name": "stdout",
          "text": [
            "Debug: Frame 281 - 32 persons detected\n",
            "Debug: Frame 281 - 4 clusters found\n",
            "Debug: Frame 281 - Crowd detected (size: 4)\n",
            "Debug: Frame 281 - Crowd detected (size: 5)\n",
            "Debug: Frame 281 - Crowd detected (size: 3)\n"
          ]
        },
        {
          "output_type": "stream",
          "name": "stderr",
          "text": [
            "\rProcessing frames:  83%|████████▎ | 283/341 [01:33<00:17,  3.34it/s]"
          ]
        },
        {
          "output_type": "stream",
          "name": "stdout",
          "text": [
            "Debug: Frame 282 - 33 persons detected\n",
            "Debug: Frame 282 - 4 clusters found\n",
            "Debug: Frame 282 - Crowd detected (size: 4)\n",
            "Debug: Frame 282 - Crowd detected (size: 5)\n",
            "Debug: Frame 282 - Crowd detected (size: 3)\n"
          ]
        },
        {
          "output_type": "stream",
          "name": "stderr",
          "text": [
            "\rProcessing frames:  83%|████████▎ | 284/341 [01:33<00:18,  3.04it/s]"
          ]
        },
        {
          "output_type": "stream",
          "name": "stdout",
          "text": [
            "Debug: Frame 283 - 33 persons detected\n",
            "Debug: Frame 283 - 4 clusters found\n",
            "Debug: Frame 283 - Crowd detected (size: 5)\n",
            "Debug: Frame 283 - Crowd detected (size: 3)\n",
            "Debug: Frame 283 - Crowd detected (size: 4)\n"
          ]
        },
        {
          "output_type": "stream",
          "name": "stderr",
          "text": [
            "\rProcessing frames:  84%|████████▎ | 285/341 [01:34<00:20,  2.79it/s]"
          ]
        },
        {
          "output_type": "stream",
          "name": "stdout",
          "text": [
            "Debug: Frame 284 - 32 persons detected\n",
            "Debug: Frame 284 - 4 clusters found\n",
            "Debug: Frame 284 - Crowd detected (size: 4)\n",
            "Debug: Frame 284 - Crowd detected (size: 3)\n",
            "Debug: Frame 284 - Crowd detected (size: 4)\n"
          ]
        },
        {
          "output_type": "stream",
          "name": "stderr",
          "text": [
            "\rProcessing frames:  84%|████████▍ | 286/341 [01:34<00:20,  2.75it/s]"
          ]
        },
        {
          "output_type": "stream",
          "name": "stdout",
          "text": [
            "Debug: Frame 285 - 33 persons detected\n",
            "Debug: Frame 285 - 4 clusters found\n",
            "Debug: Frame 285 - Crowd detected (size: 3)\n",
            "Debug: Frame 285 - Crowd detected (size: 4)\n",
            "Debug: Frame 285 - Crowd detected (size: 4)\n"
          ]
        },
        {
          "output_type": "stream",
          "name": "stderr",
          "text": [
            "\rProcessing frames:  84%|████████▍ | 287/341 [01:35<00:20,  2.67it/s]"
          ]
        },
        {
          "output_type": "stream",
          "name": "stdout",
          "text": [
            "Debug: Frame 286 - 32 persons detected\n",
            "Debug: Frame 286 - 4 clusters found\n",
            "Debug: Frame 286 - Crowd detected (size: 4)\n",
            "Debug: Frame 286 - Crowd detected (size: 3)\n",
            "Debug: Frame 286 - Crowd detected (size: 4)\n"
          ]
        },
        {
          "output_type": "stream",
          "name": "stderr",
          "text": [
            "\rProcessing frames:  84%|████████▍ | 288/341 [01:35<00:20,  2.60it/s]"
          ]
        },
        {
          "output_type": "stream",
          "name": "stdout",
          "text": [
            "Debug: Frame 287 - 35 persons detected\n",
            "Debug: Frame 287 - 4 clusters found\n",
            "Debug: Frame 287 - Crowd detected (size: 3)\n",
            "Debug: Frame 287 - Crowd detected (size: 4)\n",
            "Debug: Frame 287 - Crowd detected (size: 4)\n"
          ]
        },
        {
          "output_type": "stream",
          "name": "stderr",
          "text": [
            "\rProcessing frames:  85%|████████▍ | 289/341 [01:35<00:20,  2.53it/s]"
          ]
        },
        {
          "output_type": "stream",
          "name": "stdout",
          "text": [
            "Debug: Frame 288 - 35 persons detected\n",
            "Debug: Frame 288 - 3 clusters found\n",
            "Debug: Frame 288 - Crowd detected (size: 5)\n",
            "Debug: Frame 288 - Crowd detected (size: 3)\n",
            "Debug: Frame 288 - Crowd detected (size: 4)\n"
          ]
        },
        {
          "output_type": "stream",
          "name": "stderr",
          "text": [
            "\rProcessing frames:  85%|████████▌ | 290/341 [01:36<00:21,  2.42it/s]"
          ]
        },
        {
          "output_type": "stream",
          "name": "stdout",
          "text": [
            "Debug: Frame 289 - 34 persons detected\n",
            "Debug: Frame 289 - 4 clusters found\n",
            "Debug: Frame 289 - Crowd detected (size: 4)\n",
            "Debug: Frame 289 - Crowd detected (size: 3)\n",
            "Debug: Frame 289 - Crowd detected (size: 4)\n"
          ]
        },
        {
          "output_type": "stream",
          "name": "stderr",
          "text": [
            "\rProcessing frames:  85%|████████▌ | 291/341 [01:36<00:19,  2.51it/s]"
          ]
        },
        {
          "output_type": "stream",
          "name": "stdout",
          "text": [
            "Debug: Frame 290 - 32 persons detected\n",
            "Debug: Frame 290 - 3 clusters found\n",
            "Debug: Frame 290 - Crowd detected (size: 4)\n",
            "Debug: Frame 290 - Crowd detected (size: 3)\n",
            "Debug: Frame 290 - Crowd detected (size: 4)\n"
          ]
        },
        {
          "output_type": "stream",
          "name": "stderr",
          "text": [
            "\rProcessing frames:  86%|████████▌ | 292/341 [01:37<00:18,  2.71it/s]"
          ]
        },
        {
          "output_type": "stream",
          "name": "stdout",
          "text": [
            "Debug: Frame 291 - 33 persons detected\n",
            "Debug: Frame 291 - 3 clusters found\n",
            "Debug: Frame 291 - Crowd detected (size: 5)\n",
            "Debug: Frame 291 - Crowd detected (size: 3)\n",
            "Debug: Frame 291 - Crowd detected (size: 4)\n"
          ]
        },
        {
          "output_type": "stream",
          "name": "stderr",
          "text": [
            "\rProcessing frames:  86%|████████▌ | 293/341 [01:37<00:16,  2.86it/s]"
          ]
        },
        {
          "output_type": "stream",
          "name": "stdout",
          "text": [
            "Debug: Frame 292 - 34 persons detected\n",
            "Debug: Frame 292 - 3 clusters found\n",
            "Debug: Frame 292 - Crowd detected (size: 5)\n",
            "Debug: Frame 292 - Crowd detected (size: 5)\n",
            "Debug: Frame 292 - Crowd detected (size: 3)\n"
          ]
        },
        {
          "output_type": "stream",
          "name": "stderr",
          "text": [
            "\rProcessing frames:  86%|████████▌ | 294/341 [01:37<00:15,  2.95it/s]"
          ]
        },
        {
          "output_type": "stream",
          "name": "stdout",
          "text": [
            "Debug: Frame 293 - 34 persons detected\n",
            "Debug: Frame 293 - 3 clusters found\n",
            "Debug: Frame 293 - Crowd detected (size: 5)\n",
            "Debug: Frame 293 - Crowd detected (size: 4)\n",
            "Debug: Frame 293 - Crowd detected (size: 4)\n"
          ]
        },
        {
          "output_type": "stream",
          "name": "stderr",
          "text": [
            "\rProcessing frames:  87%|████████▋ | 295/341 [01:38<00:14,  3.09it/s]"
          ]
        },
        {
          "output_type": "stream",
          "name": "stdout",
          "text": [
            "Debug: Frame 294 - 34 persons detected\n",
            "Debug: Frame 294 - 3 clusters found\n",
            "Debug: Frame 294 - Crowd detected (size: 6)\n",
            "Debug: Frame 294 - Crowd detected (size: 4)\n",
            "Debug: Frame 294 - Crowd detected (size: 3)\n"
          ]
        },
        {
          "output_type": "stream",
          "name": "stderr",
          "text": [
            "\rProcessing frames:  87%|████████▋ | 296/341 [01:38<00:14,  3.18it/s]"
          ]
        },
        {
          "output_type": "stream",
          "name": "stdout",
          "text": [
            "Debug: Frame 295 - 32 persons detected\n",
            "Debug: Frame 295 - 3 clusters found\n",
            "Debug: Frame 295 - Crowd detected (size: 5)\n",
            "Debug: Frame 295 - Crowd detected (size: 4)\n",
            "Debug: Frame 295 - Crowd detected (size: 3)\n"
          ]
        },
        {
          "output_type": "stream",
          "name": "stderr",
          "text": [
            "\rProcessing frames:  87%|████████▋ | 297/341 [01:38<00:13,  3.36it/s]"
          ]
        },
        {
          "output_type": "stream",
          "name": "stdout",
          "text": [
            "Debug: Frame 296 - 32 persons detected\n",
            "Debug: Frame 296 - 3 clusters found\n",
            "Debug: Frame 296 - Crowd detected (size: 5)\n",
            "Debug: Frame 296 - Crowd detected (size: 4)\n",
            "Debug: Frame 296 - Crowd detected (size: 3)\n"
          ]
        },
        {
          "output_type": "stream",
          "name": "stderr",
          "text": [
            "\rProcessing frames:  87%|████████▋ | 298/341 [01:38<00:12,  3.48it/s]"
          ]
        },
        {
          "output_type": "stream",
          "name": "stdout",
          "text": [
            "Debug: Frame 297 - 31 persons detected\n",
            "Debug: Frame 297 - 3 clusters found\n",
            "Debug: Frame 297 - Crowd detected (size: 5)\n",
            "Debug: Frame 297 - Crowd detected (size: 4)\n",
            "Debug: Frame 297 - Crowd detected (size: 3)\n"
          ]
        },
        {
          "output_type": "stream",
          "name": "stderr",
          "text": [
            "\rProcessing frames:  88%|████████▊ | 299/341 [01:39<00:12,  3.47it/s]"
          ]
        },
        {
          "output_type": "stream",
          "name": "stdout",
          "text": [
            "Debug: Frame 298 - 32 persons detected\n",
            "Debug: Frame 298 - 3 clusters found\n",
            "Debug: Frame 298 - Crowd detected (size: 4)\n",
            "Debug: Frame 298 - Crowd detected (size: 4)\n",
            "Debug: Frame 298 - Crowd detected (size: 3)\n"
          ]
        },
        {
          "output_type": "stream",
          "name": "stderr",
          "text": [
            "\rProcessing frames:  88%|████████▊ | 300/341 [01:39<00:12,  3.35it/s]"
          ]
        },
        {
          "output_type": "stream",
          "name": "stdout",
          "text": [
            "Debug: Frame 299 - 33 persons detected\n",
            "Debug: Frame 299 - 4 clusters found\n",
            "Debug: Frame 299 - Crowd detected (size: 4)\n",
            "Debug: Frame 299 - Crowd detected (size: 3)\n",
            "Debug: Frame 299 - Crowd detected (size: 4)\n"
          ]
        },
        {
          "output_type": "stream",
          "name": "stderr",
          "text": [
            "\rProcessing frames:  88%|████████▊ | 301/341 [01:39<00:12,  3.29it/s]"
          ]
        },
        {
          "output_type": "stream",
          "name": "stdout",
          "text": [
            "Debug: Frame 300 - 34 persons detected\n",
            "Debug: Frame 300 - 4 clusters found\n",
            "Debug: Frame 300 - Crowd detected (size: 5)\n",
            "Debug: Frame 300 - Crowd detected (size: 5)\n",
            "Debug: Frame 300 - Crowd detected (size: 3)\n"
          ]
        },
        {
          "output_type": "stream",
          "name": "stderr",
          "text": [
            "\rProcessing frames:  89%|████████▊ | 302/341 [01:40<00:12,  3.17it/s]"
          ]
        },
        {
          "output_type": "stream",
          "name": "stdout",
          "text": [
            "Debug: Frame 301 - 33 persons detected\n",
            "Debug: Frame 301 - 3 clusters found\n",
            "Debug: Frame 301 - Crowd detected (size: 5)\n",
            "Debug: Frame 301 - Crowd detected (size: 5)\n",
            "Debug: Frame 301 - Crowd detected (size: 3)\n"
          ]
        },
        {
          "output_type": "stream",
          "name": "stderr",
          "text": [
            "\rProcessing frames:  89%|████████▉ | 303/341 [01:40<00:11,  3.18it/s]"
          ]
        },
        {
          "output_type": "stream",
          "name": "stdout",
          "text": [
            "Debug: Frame 302 - 32 persons detected\n",
            "Debug: Frame 302 - 3 clusters found\n",
            "Debug: Frame 302 - Crowd detected (size: 3)\n",
            "Debug: Frame 302 - Crowd detected (size: 5)\n",
            "Debug: Frame 302 - Crowd detected (size: 5)\n"
          ]
        },
        {
          "output_type": "stream",
          "name": "stderr",
          "text": [
            "\rProcessing frames:  89%|████████▉ | 304/341 [01:40<00:11,  3.28it/s]"
          ]
        },
        {
          "output_type": "stream",
          "name": "stdout",
          "text": [
            "Debug: Frame 303 - 35 persons detected\n",
            "Debug: Frame 303 - 3 clusters found\n",
            "Debug: Frame 303 - Crowd detected (size: 6)\n",
            "Debug: Frame 303 - Crowd detected (size: 3)\n",
            "Debug: Frame 303 - Crowd detected (size: 5)\n"
          ]
        },
        {
          "output_type": "stream",
          "name": "stderr",
          "text": [
            "\rProcessing frames:  89%|████████▉ | 305/341 [01:40<00:10,  3.36it/s]"
          ]
        },
        {
          "output_type": "stream",
          "name": "stdout",
          "text": [
            "Debug: Frame 304 - 35 persons detected\n",
            "Debug: Frame 304 - 3 clusters found\n",
            "Debug: Frame 304 - Crowd detected (size: 6)\n",
            "Debug: Frame 304 - Crowd detected (size: 3)\n",
            "Debug: Frame 304 - Crowd detected (size: 5)\n"
          ]
        },
        {
          "output_type": "stream",
          "name": "stderr",
          "text": [
            "\rProcessing frames:  90%|████████▉ | 306/341 [01:41<00:10,  3.46it/s]"
          ]
        },
        {
          "output_type": "stream",
          "name": "stdout",
          "text": [
            "Debug: Frame 305 - 34 persons detected\n",
            "Debug: Frame 305 - 3 clusters found\n",
            "Debug: Frame 305 - Crowd detected (size: 7)\n",
            "Debug: Frame 305 - Crowd detected (size: 3)\n",
            "Debug: Frame 305 - Crowd detected (size: 5)\n"
          ]
        },
        {
          "output_type": "stream",
          "name": "stderr",
          "text": [
            "\rProcessing frames:  90%|█████████ | 307/341 [01:41<00:09,  3.48it/s]"
          ]
        },
        {
          "output_type": "stream",
          "name": "stdout",
          "text": [
            "Debug: Frame 306 - 35 persons detected\n",
            "Debug: Frame 306 - 3 clusters found\n",
            "Debug: Frame 306 - Crowd detected (size: 6)\n",
            "Debug: Frame 306 - Crowd detected (size: 3)\n",
            "Debug: Frame 306 - Crowd detected (size: 5)\n"
          ]
        },
        {
          "output_type": "stream",
          "name": "stderr",
          "text": [
            "\rProcessing frames:  90%|█████████ | 308/341 [01:41<00:09,  3.58it/s]"
          ]
        },
        {
          "output_type": "stream",
          "name": "stdout",
          "text": [
            "Debug: Frame 307 - 35 persons detected\n",
            "Debug: Frame 307 - 3 clusters found\n",
            "Debug: Frame 307 - Crowd detected (size: 3)\n",
            "Debug: Frame 307 - Crowd detected (size: 5)\n",
            "Debug: Frame 307 - Crowd detected (size: 6)\n"
          ]
        },
        {
          "output_type": "stream",
          "name": "stderr",
          "text": [
            "\rProcessing frames:  91%|█████████ | 309/341 [01:42<00:08,  3.57it/s]"
          ]
        },
        {
          "output_type": "stream",
          "name": "stdout",
          "text": [
            "Debug: Frame 308 - 32 persons detected\n",
            "Debug: Frame 308 - 3 clusters found\n",
            "Debug: Frame 308 - Crowd detected (size: 5)\n",
            "Debug: Frame 308 - Crowd detected (size: 3)\n",
            "Debug: Frame 308 - Crowd detected (size: 6)\n"
          ]
        },
        {
          "output_type": "stream",
          "name": "stderr",
          "text": [
            "\rProcessing frames:  91%|█████████ | 310/341 [01:42<00:08,  3.57it/s]"
          ]
        },
        {
          "output_type": "stream",
          "name": "stdout",
          "text": [
            "Debug: Frame 309 - 32 persons detected\n",
            "Debug: Frame 309 - 3 clusters found\n",
            "Debug: Frame 309 - Crowd detected (size: 4)\n",
            "Debug: Frame 309 - Crowd detected (size: 4)\n",
            "Debug: Frame 309 - Crowd detected (size: 5)\n"
          ]
        },
        {
          "output_type": "stream",
          "name": "stderr",
          "text": [
            "\rProcessing frames:  91%|█████████ | 311/341 [01:42<00:08,  3.47it/s]"
          ]
        },
        {
          "output_type": "stream",
          "name": "stdout",
          "text": [
            "Debug: Frame 310 - 33 persons detected\n",
            "Debug: Frame 310 - 3 clusters found\n",
            "Debug: Frame 310 - Crowd detected (size: 6)\n",
            "Debug: Frame 310 - Crowd detected (size: 4)\n",
            "Debug: Frame 310 - Crowd detected (size: 5)\n"
          ]
        },
        {
          "output_type": "stream",
          "name": "stderr",
          "text": [
            "\rProcessing frames:  91%|█████████▏| 312/341 [01:42<00:08,  3.45it/s]"
          ]
        },
        {
          "output_type": "stream",
          "name": "stdout",
          "text": [
            "Debug: Frame 311 - 32 persons detected\n",
            "Debug: Frame 311 - 3 clusters found\n",
            "Debug: Frame 311 - Crowd detected (size: 6)\n",
            "Debug: Frame 311 - Crowd detected (size: 4)\n",
            "Debug: Frame 311 - Crowd detected (size: 5)\n"
          ]
        },
        {
          "output_type": "stream",
          "name": "stderr",
          "text": [
            "\rProcessing frames:  92%|█████████▏| 313/341 [01:43<00:08,  3.44it/s]"
          ]
        },
        {
          "output_type": "stream",
          "name": "stdout",
          "text": [
            "Debug: Frame 312 - 33 persons detected\n",
            "Debug: Frame 312 - 3 clusters found\n",
            "Debug: Frame 312 - Crowd detected (size: 6)\n",
            "Debug: Frame 312 - Crowd detected (size: 4)\n",
            "Debug: Frame 312 - Crowd detected (size: 5)\n"
          ]
        },
        {
          "output_type": "stream",
          "name": "stderr",
          "text": [
            "\rProcessing frames:  92%|█████████▏| 314/341 [01:43<00:08,  3.36it/s]"
          ]
        },
        {
          "output_type": "stream",
          "name": "stdout",
          "text": [
            "Debug: Frame 313 - 32 persons detected\n",
            "Debug: Frame 313 - 3 clusters found\n",
            "Debug: Frame 313 - Crowd detected (size: 6)\n",
            "Debug: Frame 313 - Crowd detected (size: 4)\n",
            "Debug: Frame 313 - Crowd detected (size: 5)\n"
          ]
        },
        {
          "output_type": "stream",
          "name": "stderr",
          "text": [
            "\rProcessing frames:  92%|█████████▏| 315/341 [01:43<00:07,  3.30it/s]"
          ]
        },
        {
          "output_type": "stream",
          "name": "stdout",
          "text": [
            "Debug: Frame 314 - 32 persons detected\n",
            "Debug: Frame 314 - 3 clusters found\n",
            "Debug: Frame 314 - Crowd detected (size: 4)\n",
            "Debug: Frame 314 - Crowd detected (size: 4)\n",
            "Debug: Frame 314 - Crowd detected (size: 5)\n"
          ]
        },
        {
          "output_type": "stream",
          "name": "stderr",
          "text": [
            "\rProcessing frames:  93%|█████████▎| 316/341 [01:44<00:07,  3.29it/s]"
          ]
        },
        {
          "output_type": "stream",
          "name": "stdout",
          "text": [
            "Debug: Frame 315 - 32 persons detected\n",
            "Debug: Frame 315 - 3 clusters found\n",
            "Debug: Frame 315 - Crowd detected (size: 4)\n",
            "Debug: Frame 315 - Crowd detected (size: 4)\n",
            "Debug: Frame 315 - Crowd detected (size: 5)\n"
          ]
        },
        {
          "output_type": "stream",
          "name": "stderr",
          "text": [
            "\rProcessing frames:  93%|█████████▎| 317/341 [01:44<00:07,  3.28it/s]"
          ]
        },
        {
          "output_type": "stream",
          "name": "stdout",
          "text": [
            "Debug: Frame 316 - 34 persons detected\n",
            "Debug: Frame 316 - 3 clusters found\n",
            "Debug: Frame 316 - Crowd detected (size: 4)\n",
            "Debug: Frame 316 - Crowd detected (size: 4)\n",
            "Debug: Frame 316 - Crowd detected (size: 5)\n"
          ]
        },
        {
          "output_type": "stream",
          "name": "stderr",
          "text": [
            "\rProcessing frames:  93%|█████████▎| 318/341 [01:44<00:07,  3.28it/s]"
          ]
        },
        {
          "output_type": "stream",
          "name": "stdout",
          "text": [
            "Debug: Frame 317 - 34 persons detected\n",
            "Debug: Frame 317 - 3 clusters found\n",
            "Debug: Frame 317 - Crowd detected (size: 4)\n",
            "Debug: Frame 317 - Crowd detected (size: 5)\n",
            "Debug: Frame 317 - Crowd detected (size: 4)\n"
          ]
        },
        {
          "output_type": "stream",
          "name": "stderr",
          "text": [
            "\rProcessing frames:  94%|█████████▎| 319/341 [01:45<00:06,  3.32it/s]"
          ]
        },
        {
          "output_type": "stream",
          "name": "stdout",
          "text": [
            "Debug: Frame 318 - 32 persons detected\n",
            "Debug: Frame 318 - 3 clusters found\n",
            "Debug: Frame 318 - Crowd detected (size: 6)\n",
            "Debug: Frame 318 - Crowd detected (size: 5)\n",
            "Debug: Frame 318 - Crowd detected (size: 4)\n"
          ]
        },
        {
          "output_type": "stream",
          "name": "stderr",
          "text": [
            "\rProcessing frames:  94%|█████████▍| 320/341 [01:45<00:06,  3.43it/s]"
          ]
        },
        {
          "output_type": "stream",
          "name": "stdout",
          "text": [
            "Debug: Frame 319 - 33 persons detected\n",
            "Debug: Frame 319 - 3 clusters found\n",
            "Debug: Frame 319 - Crowd detected (size: 5)\n",
            "Debug: Frame 319 - Crowd detected (size: 5)\n",
            "Debug: Frame 319 - Crowd detected (size: 4)\n"
          ]
        },
        {
          "output_type": "stream",
          "name": "stderr",
          "text": [
            "\rProcessing frames:  94%|█████████▍| 321/341 [01:45<00:05,  3.46it/s]"
          ]
        },
        {
          "output_type": "stream",
          "name": "stdout",
          "text": [
            "Debug: Frame 320 - 34 persons detected\n",
            "Debug: Frame 320 - 4 clusters found\n",
            "Debug: Frame 320 - Crowd detected (size: 5)\n",
            "Debug: Frame 320 - Crowd detected (size: 4)\n",
            "Debug: Frame 320 - Crowd detected (size: 4)\n"
          ]
        },
        {
          "output_type": "stream",
          "name": "stderr",
          "text": [
            "\rProcessing frames:  94%|█████████▍| 322/341 [01:45<00:05,  3.56it/s]"
          ]
        },
        {
          "output_type": "stream",
          "name": "stdout",
          "text": [
            "Debug: Frame 321 - 34 persons detected\n",
            "Debug: Frame 321 - 4 clusters found\n",
            "Debug: Frame 321 - Crowd detected (size: 5)\n",
            "Debug: Frame 321 - Crowd detected (size: 4)\n",
            "Debug: Frame 321 - Crowd detected (size: 4)\n"
          ]
        },
        {
          "output_type": "stream",
          "name": "stderr",
          "text": [
            "\rProcessing frames:  95%|█████████▍| 323/341 [01:46<00:04,  3.61it/s]"
          ]
        },
        {
          "output_type": "stream",
          "name": "stdout",
          "text": [
            "Debug: Frame 322 - 34 persons detected\n",
            "Debug: Frame 322 - 4 clusters found\n",
            "Debug: Frame 322 - Crowd detected (size: 5)\n",
            "Debug: Frame 322 - Crowd detected (size: 4)\n",
            "Debug: Frame 322 - Crowd detected (size: 4)\n"
          ]
        },
        {
          "output_type": "stream",
          "name": "stderr",
          "text": [
            "\rProcessing frames:  95%|█████████▌| 324/341 [01:46<00:04,  3.62it/s]"
          ]
        },
        {
          "output_type": "stream",
          "name": "stdout",
          "text": [
            "Debug: Frame 323 - 32 persons detected\n",
            "Debug: Frame 323 - 4 clusters found\n",
            "Debug: Frame 323 - Crowd detected (size: 4)\n",
            "Debug: Frame 323 - Crowd detected (size: 4)\n",
            "Debug: Frame 323 - Crowd detected (size: 4)\n"
          ]
        },
        {
          "output_type": "stream",
          "name": "stderr",
          "text": [
            "\rProcessing frames:  95%|█████████▌| 325/341 [01:46<00:04,  3.47it/s]"
          ]
        },
        {
          "output_type": "stream",
          "name": "stdout",
          "text": [
            "Debug: Frame 324 - 33 persons detected\n",
            "Debug: Frame 324 - 4 clusters found\n",
            "Debug: Frame 324 - Crowd detected (size: 6)\n",
            "Debug: Frame 324 - Crowd detected (size: 6)\n",
            "Debug: Frame 324 - Crowd detected (size: 3)\n"
          ]
        },
        {
          "output_type": "stream",
          "name": "stderr",
          "text": [
            "\rProcessing frames:  96%|█████████▌| 326/341 [01:47<00:05,  2.96it/s]"
          ]
        },
        {
          "output_type": "stream",
          "name": "stdout",
          "text": [
            "Debug: Frame 325 - 35 persons detected\n",
            "Debug: Frame 325 - 4 clusters found\n",
            "Debug: Frame 325 - Crowd detected (size: 6)\n",
            "Debug: Frame 325 - Crowd detected (size: 3)\n",
            "Debug: Frame 325 - Crowd detected (size: 7)\n"
          ]
        },
        {
          "output_type": "stream",
          "name": "stderr",
          "text": [
            "\rProcessing frames:  96%|█████████▌| 327/341 [01:47<00:05,  2.68it/s]"
          ]
        },
        {
          "output_type": "stream",
          "name": "stdout",
          "text": [
            "Debug: Frame 326 - 32 persons detected\n",
            "Debug: Frame 326 - 4 clusters found\n",
            "Debug: Frame 326 - Crowd detected (size: 5)\n",
            "Debug: Frame 326 - Crowd detected (size: 7)\n",
            "Debug: Frame 326 - Crowd detected (size: 3)\n"
          ]
        },
        {
          "output_type": "stream",
          "name": "stderr",
          "text": [
            "\rProcessing frames:  96%|█████████▌| 328/341 [01:48<00:05,  2.52it/s]"
          ]
        },
        {
          "output_type": "stream",
          "name": "stdout",
          "text": [
            "Debug: Frame 327 - 33 persons detected\n",
            "Debug: Frame 327 - 3 clusters found\n",
            "Debug: Frame 327 - Crowd detected (size: 6)\n",
            "Debug: Frame 327 - Crowd detected (size: 3)\n",
            "Debug: Frame 327 - Crowd detected (size: 7)\n"
          ]
        },
        {
          "output_type": "stream",
          "name": "stderr",
          "text": [
            "\rProcessing frames:  96%|█████████▋| 329/341 [01:48<00:04,  2.49it/s]"
          ]
        },
        {
          "output_type": "stream",
          "name": "stdout",
          "text": [
            "Debug: Frame 328 - 33 persons detected\n",
            "Debug: Frame 328 - 4 clusters found\n",
            "Debug: Frame 328 - Crowd detected (size: 6)\n",
            "Debug: Frame 328 - Crowd detected (size: 3)\n",
            "Debug: Frame 328 - Crowd detected (size: 3)\n"
          ]
        },
        {
          "output_type": "stream",
          "name": "stderr",
          "text": [
            "\rProcessing frames:  97%|█████████▋| 330/341 [01:48<00:04,  2.45it/s]"
          ]
        },
        {
          "output_type": "stream",
          "name": "stdout",
          "text": [
            "Debug: Frame 329 - 33 persons detected\n",
            "Debug: Frame 329 - 4 clusters found\n",
            "Debug: Frame 329 - Crowd detected (size: 5)\n",
            "Debug: Frame 329 - Crowd detected (size: 3)\n",
            "Debug: Frame 329 - Crowd detected (size: 4)\n"
          ]
        },
        {
          "output_type": "stream",
          "name": "stderr",
          "text": [
            "\rProcessing frames:  97%|█████████▋| 331/341 [01:49<00:04,  2.41it/s]"
          ]
        },
        {
          "output_type": "stream",
          "name": "stdout",
          "text": [
            "Debug: Frame 330 - 33 persons detected\n",
            "Debug: Frame 330 - 4 clusters found\n",
            "Debug: Frame 330 - Crowd detected (size: 5)\n",
            "Debug: Frame 330 - Crowd detected (size: 3)\n",
            "Debug: Frame 330 - Crowd detected (size: 4)\n"
          ]
        },
        {
          "output_type": "stream",
          "name": "stderr",
          "text": [
            "\rProcessing frames:  97%|█████████▋| 332/341 [01:49<00:03,  2.64it/s]"
          ]
        },
        {
          "output_type": "stream",
          "name": "stdout",
          "text": [
            "Debug: Frame 331 - 32 persons detected\n",
            "Debug: Frame 331 - 3 clusters found\n",
            "Debug: Frame 331 - Crowd detected (size: 5)\n",
            "Debug: Frame 331 - Crowd detected (size: 3)\n",
            "Debug: Frame 331 - Crowd detected (size: 4)\n"
          ]
        },
        {
          "output_type": "stream",
          "name": "stderr",
          "text": [
            "\rProcessing frames:  98%|█████████▊| 333/341 [01:49<00:02,  2.86it/s]"
          ]
        },
        {
          "output_type": "stream",
          "name": "stdout",
          "text": [
            "Debug: Frame 332 - 33 persons detected\n",
            "Debug: Frame 332 - 3 clusters found\n",
            "Debug: Frame 332 - Crowd detected (size: 5)\n",
            "Debug: Frame 332 - Crowd detected (size: 4)\n",
            "Debug: Frame 332 - Crowd detected (size: 4)\n"
          ]
        },
        {
          "output_type": "stream",
          "name": "stderr",
          "text": [
            "\rProcessing frames:  98%|█████████▊| 334/341 [01:50<00:02,  3.07it/s]"
          ]
        },
        {
          "output_type": "stream",
          "name": "stdout",
          "text": [
            "Debug: Frame 333 - 33 persons detected\n",
            "Debug: Frame 333 - 3 clusters found\n",
            "Debug: Frame 333 - Crowd detected (size: 6)\n",
            "Debug: Frame 333 - Crowd detected (size: 3)\n",
            "Debug: Frame 333 - Crowd detected (size: 4)\n"
          ]
        },
        {
          "output_type": "stream",
          "name": "stderr",
          "text": [
            "\rProcessing frames:  98%|█████████▊| 335/341 [01:50<00:01,  3.21it/s]"
          ]
        },
        {
          "output_type": "stream",
          "name": "stdout",
          "text": [
            "Debug: Frame 334 - 35 persons detected\n",
            "Debug: Frame 334 - 4 clusters found\n",
            "Debug: Frame 334 - Crowd detected (size: 6)\n",
            "Debug: Frame 334 - Crowd detected (size: 4)\n",
            "Debug: Frame 334 - Crowd detected (size: 4)\n"
          ]
        },
        {
          "output_type": "stream",
          "name": "stderr",
          "text": [
            "\rProcessing frames:  99%|█████████▊| 336/341 [01:50<00:01,  3.38it/s]"
          ]
        },
        {
          "output_type": "stream",
          "name": "stdout",
          "text": [
            "Debug: Frame 335 - 33 persons detected\n",
            "Debug: Frame 335 - 4 clusters found\n",
            "Debug: Frame 335 - Crowd detected (size: 6)\n",
            "Debug: Frame 335 - Crowd detected (size: 3)\n",
            "Debug: Frame 335 - Crowd detected (size: 3)\n"
          ]
        },
        {
          "output_type": "stream",
          "name": "stderr",
          "text": [
            "\rProcessing frames:  99%|█████████▉| 337/341 [01:51<00:01,  3.43it/s]"
          ]
        },
        {
          "output_type": "stream",
          "name": "stdout",
          "text": [
            "Debug: Frame 336 - 32 persons detected\n",
            "Debug: Frame 336 - 3 clusters found\n",
            "Debug: Frame 336 - Crowd detected (size: 6)\n",
            "Debug: Frame 336 - Crowd detected (size: 3)\n"
          ]
        },
        {
          "output_type": "stream",
          "name": "stderr",
          "text": [
            "\rProcessing frames:  99%|█████████▉| 338/341 [01:51<00:00,  3.57it/s]"
          ]
        },
        {
          "output_type": "stream",
          "name": "stdout",
          "text": [
            "Debug: Frame 337 - 31 persons detected\n",
            "Debug: Frame 337 - 3 clusters found\n",
            "Debug: Frame 337 - Crowd detected (size: 5)\n",
            "Debug: Frame 337 - Crowd detected (size: 3)\n"
          ]
        },
        {
          "output_type": "stream",
          "name": "stderr",
          "text": [
            "\rProcessing frames:  99%|█████████▉| 339/341 [01:51<00:00,  3.63it/s]"
          ]
        },
        {
          "output_type": "stream",
          "name": "stdout",
          "text": [
            "Debug: Frame 338 - 31 persons detected\n",
            "Debug: Frame 338 - 4 clusters found\n",
            "Debug: Frame 338 - Crowd detected (size: 5)\n",
            "Debug: Frame 338 - Crowd detected (size: 3)\n"
          ]
        },
        {
          "output_type": "stream",
          "name": "stderr",
          "text": [
            "\rProcessing frames: 100%|█████████▉| 340/341 [01:51<00:00,  3.69it/s]"
          ]
        },
        {
          "output_type": "stream",
          "name": "stdout",
          "text": [
            "Debug: Frame 339 - 31 persons detected\n",
            "Debug: Frame 339 - 3 clusters found\n",
            "Debug: Frame 339 - Crowd detected (size: 6)\n",
            "Debug: Frame 339 - Crowd detected (size: 3)\n"
          ]
        },
        {
          "output_type": "stream",
          "name": "stderr",
          "text": [
            "Processing frames: 100%|██████████| 341/341 [01:52<00:00,  3.04it/s]"
          ]
        },
        {
          "output_type": "stream",
          "name": "stdout",
          "text": [
            "Debug: Frame 340 - 31 persons detected\n",
            "Debug: Frame 340 - 3 clusters found\n",
            "Debug: Frame 340 - Crowd detected (size: 5)\n",
            "Debug: Frame 340 - Crowd detected (size: 3)\n",
            "Debug: Video capture ended at frame 341 (ret=False)\n",
            "Debug: CSV file 'crowd_detection.csv' generated with crowd detections\n",
            "Debug: Script completed processing\n"
          ]
        },
        {
          "output_type": "stream",
          "name": "stderr",
          "text": [
            "\n"
          ]
        }
      ]
    },
    {
      "cell_type": "code",
      "source": [],
      "metadata": {
        "id": "bL7TVVtbhwbk"
      },
      "execution_count": null,
      "outputs": []
    }
  ]
}